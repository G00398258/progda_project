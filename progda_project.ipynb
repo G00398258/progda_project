{
 "cells": [
  {
   "cell_type": "markdown",
   "id": "a222a140-ed6e-47e4-8947-14565331ff9c",
   "metadata": {},
   "source": [
    "# Programming for Data Analysis - Project\n",
    "***"
   ]
  },
  {
   "cell_type": "markdown",
   "id": "9dbb7ce4-ecae-49f0-b986-48daea24b77c",
   "metadata": {},
   "source": [
    "This notebook will contain my submission for the project piece of the assessment in the Programming for Data Analysis module, Winter 2021."
   ]
  },
  {
   "cell_type": "markdown",
   "id": "4ec0d75b-adee-4113-a997-31d0c9e4dd51",
   "metadata": {},
   "source": [
    "<br>"
   ]
  },
  {
   "cell_type": "markdown",
   "id": "a259b16d-c5ca-4ed2-b71c-22822e910a99",
   "metadata": {},
   "source": [
    "### Modules Required\n",
    "***"
   ]
  },
  {
   "cell_type": "code",
   "execution_count": 1,
   "id": "47fa8626-874e-41dd-82e6-402e28ff74d8",
   "metadata": {},
   "outputs": [],
   "source": [
    "# NumPy for numerical operations\n",
    "import numpy as np\n",
    "\n",
    "# Pandas for data analysis\n",
    "import pandas as pd\n",
    "\n",
    "# Statistics for descriptive statistics\n",
    "import statistics"
   ]
  },
  {
   "cell_type": "markdown",
   "id": "2f4887e2-16c9-4e0a-b7b6-d24891aa8762",
   "metadata": {},
   "source": [
    "<br>"
   ]
  },
  {
   "cell_type": "markdown",
   "id": "5b1e4f8b-1347-47de-9fdd-f89866583cc8",
   "metadata": {},
   "source": [
    "### Problem Statement\n",
    "***"
   ]
  },
  {
   "cell_type": "markdown",
   "id": "7d288433-be34-48b1-bd1f-496c4aafd552",
   "metadata": {},
   "source": [
    "For this project you must create a data set by simulating a real-world phenomenon of\n",
    "your choosing. You may pick any phenomenon you wish – you might pick one that is\n",
    "of interest to you in your personal or professional life. Then, rather than collect data\n",
    "related to the phenomenon, you should model and synthesise such data using Python.\n",
    "We suggest you use the numpy.random package for this purpose."
   ]
  },
  {
   "cell_type": "markdown",
   "id": "ad84a33e-d5d5-472f-a88b-70a979317525",
   "metadata": {},
   "source": [
    "<br>"
   ]
  },
  {
   "cell_type": "markdown",
   "id": "a3be862f-44ca-48b1-ab7f-de3f75873be3",
   "metadata": {},
   "source": [
    "### Ideas\n",
    "***"
   ]
  },
  {
   "cell_type": "markdown",
   "id": "c6673a5b-4ad9-4874-b3a4-b517e8497b81",
   "metadata": {},
   "source": [
    "1. Covid hospital admissions with variables gender, age, vaccination status, underlying health condition"
   ]
  },
  {
   "cell_type": "markdown",
   "id": "d92c3869-1d3e-4b39-bd62-12d956ff515c",
   "metadata": {},
   "source": [
    "2. Voter turnout with possible variables age, socio-economic status, family history of voting, proximity to polling station, day of voting, political mobilisation, type of election, compulsory voting"
   ]
  },
  {
   "cell_type": "markdown",
   "id": "4a726e81-85ff-4e99-8040-7d72e5313331",
   "metadata": {},
   "source": [
    "<br>"
   ]
  },
  {
   "cell_type": "markdown",
   "id": "d10ffeb9-187e-4217-b7f2-1c8b7ce17e7a",
   "metadata": {},
   "source": [
    "### Intention & Scope\n",
    "***"
   ]
  },
  {
   "cell_type": "markdown",
   "id": "073f7d9e-4a30-4114-8cac-7c4d475cac3d",
   "metadata": {},
   "source": [
    "Simulate a dataset showing the results of whether a person on the register of electors chooses to exercise their right to vote in a general or local election in Ireland. (Note: referendums and European elections are excluded, as British and other non-EU citizens resident in Ireland are excluded from voting, resulting in some people on the register of elector being ineligible to vote in those elections.)"
   ]
  },
  {
   "cell_type": "markdown",
   "id": "e1008a62-6a9d-4135-9ebd-dc7d2f5f6346",
   "metadata": {},
   "source": [
    "<br>"
   ]
  },
  {
   "cell_type": "markdown",
   "id": "bd0e2295-2f7f-4b89-aec1-f99169aa7054",
   "metadata": {},
   "source": [
    "### Variables to Investigate\n",
    "***"
   ]
  },
  {
   "cell_type": "markdown",
   "id": "efd03618-775a-49b2-8296-36e5176dbbf6",
   "metadata": {},
   "source": [
    "Main point to investigate: whether a person votes in a particular election or not"
   ]
  },
  {
   "cell_type": "markdown",
   "id": "c90c33e6-2e3c-40da-895c-a306020b75ba",
   "metadata": {},
   "source": [
    "Other variables to investigate:  \n",
    "\n",
    "- age of citizen  \n",
    "- socio-economic status  \n",
    "- type of election  \n",
    "-  proximity to polling station  \n",
    "- family history of voting  \n"
   ]
  },
  {
   "cell_type": "markdown",
   "id": "039629e2-9783-4038-9b67-f8a6b51c5115",
   "metadata": {},
   "source": [
    "<br>"
   ]
  },
  {
   "cell_type": "markdown",
   "id": "9e462d34-7ddd-4d6d-a4f0-7015c3b61499",
   "metadata": {},
   "source": [
    "### Who is Entitled to Vote?\n",
    "***"
   ]
  },
  {
   "cell_type": "markdown",
   "id": "b4b5d7f3-01b1-4f63-82b0-ad4f126f8603",
   "metadata": {},
   "source": [
    "Election: General election (and Presidential)  \n",
    "Entitled to vote: Citizens 18 and over; British citizens resident  \n",
    "To calculate estimated Voting-Age Population: Population aged 18 and over minus non-Irish citizens but including British citizens  \n",
    "\n",
    "Election: Referendum  \n",
    "Entitled to vote: Irish citizens aged 18 and over  \n",
    "To calculate estimated Voting-Age Population: Population aged 18 and overminus all non-Irish citizens (i.e. excluding British citizens resident in Ireland)  \n",
    "\n",
    "Election: Local elections  \n",
    "Entitled to vote: All residents (of 12 months) aged 18 or over  \n",
    "To calculate estimated Voting-Age Population: Population aged 18 and over  \n",
    "\n",
    "Election: European elections  \n",
    "Entitled to vote: Irish citizens and all residents who are citizens of EU Member States  \n",
    "To calculate estimated Voting-Age Population: Population aged 18 and over minus non-EU citizens  "
   ]
  },
  {
   "cell_type": "markdown",
   "id": "4328706a-43c9-4530-bf98-0c931095f436",
   "metadata": {},
   "source": [
    "*Ref:* Data oireachtais"
   ]
  },
  {
   "cell_type": "markdown",
   "id": "d0b017bf-0eeb-4f27-a192-4155e19c0286",
   "metadata": {},
   "source": [
    "<br>"
   ]
  },
  {
   "cell_type": "markdown",
   "id": "a77ae7c2-d5bb-422e-9a31-fed8f0722629",
   "metadata": {},
   "source": [
    "### Investigating Voter Turnout in Ireland\n",
    "***"
   ]
  },
  {
   "cell_type": "markdown",
   "id": "fd6534db-c0a9-4300-874d-998ccc689ea2",
   "metadata": {},
   "source": [
    "From data.oireachtais.ie - Turnout amongst the 18-25 age groups is lower than average in most European countries.\n",
    "Cross-national data from the European Social Survey, analysed by political scientist James\n",
    "Sloam, found that average reported turnout since 2000 in 30 Europe countries among the\n",
    "18-25 age category was 59% compared with 82% reported turnout amongst the population\n",
    "as a whole. The Survey also found that there is a strong socio-economic dynamic to this\n",
    "pattern: young people with low levels of educational achievement who are eligible to vote do\n",
    "so in ‘alarmingly small numbers’ (average of 25% since across the 15 European States).... higher turnout has tended to be associated with middle class areas and lower turnouts with working class areas for general elections up to 2002.... very high turnout levels were associated with mainly middle class\n",
    "and mainly settled areas (that is experiencing relatively little population in migration\n",
    "compared with other parts of the city). He also found that turnout was, relatively speaking,\n",
    "higher in older working class communities which tend to be settled. A key determent of turnout, perhaps equally important to the socio-economic background of an area, appears to\n",
    "be the extent to which an area is ‘settled’ or experiences regular population change. "
   ]
  },
  {
   "cell_type": "markdown",
   "id": "dfc53901-741c-4fd2-a9fd-7274d2f94e76",
   "metadata": {},
   "source": [
    "A downward trend in turnout at local elections is clear regardless of which measure is\n",
    "used. Over the period from 1967 to 1999 turnout fell from 67 per cent to 50 per cent\n",
    "(REG). This trend was reversed in 2004, when an official turnout of 59% was\n",
    "recorded, a level almost maintained in 2009 (58 % turnout).\n",
    "15 However, in 2014, turnout dropped back to 51.6%, the second lowest official turnout level in Irish local\n",
    "elections...turnout in local elections has tended to be higher in rural areas, the 2014 local elections saw a narrowing of this urban-rural difference..."
   ]
  },
  {
   "cell_type": "markdown",
   "id": "c06c002b-7651-4d61-aa62-00b3fe3c4a13",
   "metadata": {},
   "source": [
    "Year Subject Turnout Result\n",
    "1937 Draft Constitution 75.8% Yes\n",
    "1959 PR 58.4% No\n",
    "1968 Redrawing of constituencies 65.8% No\n",
    "1968 Constituencies 65.8% No\n",
    "1972 Accession to the EC 70.9% Yes\n",
    "1972 Reducing voting age to 18 50.7% Yes\n",
    "1972 Recognition of specified religions 50.7% Yes\n",
    "1979 Adoption 28.6% Yes\n",
    "1979 University representation in Seanad 28.6% Yes\n",
    "1983 Right to life of unborn 53.7% Yes\n",
    "1984 Extension of voting rights at Dáil elections 47.5% Yes\n",
    "1986 Dissolution of marriage 60.8% No\n",
    "1987 Single European Act 44.1% Yes\n",
    "1992 Maastricht Treaty 57.3% Yes\n",
    "1992 Right to life of unborn 68.2% No\n",
    "1992 Right to travel 68.2% Yes\n",
    "1992 Right to information 68.1% Yes\n",
    "1995 Dissolution of marriage 62.1% Yes\n",
    "1996 Bail 29.2% Yes\n",
    "1997 Cabinet confidentiality 47.2% Yes\n",
    "1998 Amsterdam Treaty 56.2% Yes\n",
    "1998 British-Irish Agreement 56.2% Yes\n",
    "1999 Local government 51.1% Yes\n",
    "2001 Death penalty 34.8% Yes\n",
    "2001 International Criminal Court 34.8% Yes\n",
    "2001 Treaty of Nice 34.8% No\n",
    "2002 Protection of life in pregnancy 42.8% No\n",
    "2002 Treaty of Nice 49.5% Yes\n",
    "2004 Citizenship 59.9% Yes\n",
    "2008 Lisbon Treaty 53.1% No\n",
    "2009 Lisbon Treaty 59.0% Yes\n",
    "2011 Judges' remuneration 55.9% Yes\n",
    "2011 Oireachtas inquiries 55.9% No\n",
    "2012 Stability EMU 50.60% Yes\n",
    "2012 Children 33.50% Yes\n",
    "2013 Seanad abolition 39.2% No\n",
    "2013 Court of Appeal 39.2% Yes\n",
    "2015 Marriage equality 60.5% Yes\n",
    "2015 Age of eligibility to be President 60.5% No "
   ]
  },
  {
   "cell_type": "markdown",
   "id": "97b7bc75-2fe3-4e6b-b31e-ff078f4ebcc2",
   "metadata": {},
   "source": [
    "Note that the eligible voting population for Referendums is smaller in size than that for\n",
    "General Elections as it excludes British citizens resident in Ireland. Yet turnout (REG) is\n",
    "reported as a proportion of the number of voters on the electoral register for general\n",
    "elections. Actual turnout is therefore always some percentage points higher than reported\n",
    "turnout... volatility in the level of turnout at referendums which has ranged from 28.6%\n",
    "in the 1979 referendum on adoption rights and Seanad university representation to\n",
    "75.8% in the 1937 referendum on the Constitution.\n",
    " Research into the reasons for abstaining in referendums, considered in more detail in\n",
    "Section 6, suggests that the perceived saliency and profile of the issue affects this\n",
    "decision with referendums on moral issues and some European issues frequently\n",
    "having higher turnout..."
   ]
  },
  {
   "cell_type": "markdown",
   "id": "1c734478-957e-4cbe-88e6-e277eb3d59db",
   "metadata": {},
   "source": [
    "turnout is lowest amongst students and the\n",
    "unemployed...In referendums, post-poll surveys undertaken by the Referendum Commission suggests\n",
    "that non-voters are circumstantial or voluntary (lack of interest) in equal numbers. A\n",
    "substantial category of non-voters also cite ‘lack of/insufficient understanding’ which, while\n",
    "slightly different to ‘lack of interest,’ also fits into the intentional rather than the circumstantial\n",
    "category. The Commission has found a direct relationship between the level of\n",
    "understanding of the referendum proposal, and the propensity to vote..."
   ]
  },
  {
   "cell_type": "markdown",
   "id": "cb3973b5-ce07-4a93-af80-1e0bb53ede3c",
   "metadata": {},
   "source": [
    "<br>"
   ]
  },
  {
   "cell_type": "markdown",
   "id": "fa8e44ec-5892-4852-905a-343a24df41f4",
   "metadata": {},
   "source": [
    "### Investigating Overall Turnout\n",
    "***"
   ]
  },
  {
   "cell_type": "markdown",
   "id": "caa97c7c-5eca-47cd-8e82-4e09dc2d68b0",
   "metadata": {},
   "source": [
    "According to the article \"Election Turnout in Ireland: measurement, trends and policy implications\", published by the Oireachtas Library & Research Service in 2016, voter turnout is measured in two ways. Firstly, it can be measured as a percentage of all voters on the electoral register (REG), or it can be measured e as a percentage of the estimated voting-age population (VAP). Depending on the type of election, one measurement may be considered a more accurate reflection of voter turnout.  "
   ]
  },
  {
   "cell_type": "markdown",
   "id": "5c631dd7-d1c1-4d8f-b207-e00ab786c7a4",
   "metadata": {},
   "source": [
    "Observations: steadily downward trend across turnout in both general and local elections.  "
   ]
  },
  {
   "cell_type": "markdown",
   "id": "1adfdac0-0e03-4af4-a27a-f3db55c25906",
   "metadata": {},
   "source": [
    "**Turnout at general elections**  \n",
    "For general elections, I will be using the VAP data available where possible. VAP is considered a better method of measuring turnout in GEs, as the REG figure is inflated due to the inclusion of deceased people and/or duplicate records. Turnout at Irish GEs held in the last 30 years is listed below.  \n",
    "\n",
    "1992 73.65%  \n",
    "1997 67.38%  \n",
    "2002 66.98%  \n",
    "2007 68.89%  \n",
    "2011 63.78%  \n",
    "2016 58.04%      \n",
    "2020 56.65%       \n",
    "\n",
    "*Data Source:* [idea.int](https://www.idea.int/data-tools/country-view/143/40)  "
   ]
  },
  {
   "cell_type": "code",
   "execution_count": 2,
   "id": "95d87e90-504c-4ed5-a6af-9d5316ee1ced",
   "metadata": {},
   "outputs": [
    {
     "name": "stdout",
     "output_type": "stream",
     "text": [
      "The mean voter turnout at Irish general elections in the last 30 years was 65.58 %\n"
     ]
    }
   ],
   "source": [
    "# Calculating the mean turnout in Irish general elections held in the past 30 years\n",
    "gen_turnout = (73.65, 67.38, 66.98, 68.89, 63.78, 69.28, 58.04, 56.65)\n",
    "mean_gen_turnout = statistics.mean(gen_turnout)\n",
    "print (\"The mean voter turnout at Irish general elections in the last 30 years was\", round(mean_gen_turnout,2), \"%\")"
   ]
  },
  {
   "cell_type": "markdown",
   "id": "9ac7b436-c1eb-4d3b-b7d2-a7b487da388c",
   "metadata": {},
   "source": [
    "<br>"
   ]
  },
  {
   "cell_type": "markdown",
   "id": "bab0a03a-aaf8-4455-94d0-38cd1bd489ee",
   "metadata": {},
   "source": [
    "**Turnout at local elections**  \n",
    "I'm going to use the REG figure when looking at turnout in local elections, as this is considered more accurate in this kind of election due to the larger number of people entitled to vote (ref Data oireachtais). Turnout at Irish local elections held in the last 30 years are listed below.  \n",
    " \n",
    "1991 55.6%  \n",
    "1999 50.2%  \n",
    "2004 58.6%    \n",
    "2009 57.8%  \n",
    "2014 51.7%  \n",
    "2019 50.2%  \n",
    "\n",
    "*Data Source:* [data.oireachtas.ie](https://data.oireachtas.ie/ie/oireachtas/libraryResearch/2016/2016-01-28_l-rs-note-election-turnout-in-ireland-measurement-trends-and-policy-implications_en.pdf) & [rte.ie](https://www.rte.ie/news/elections-2019/results/#/local)  \n"
   ]
  },
  {
   "cell_type": "code",
   "execution_count": 3,
   "id": "20b6cf5b-984e-4362-8810-c448747b08a7",
   "metadata": {},
   "outputs": [
    {
     "name": "stdout",
     "output_type": "stream",
     "text": [
      "The average voter turnout at Irish local elections in the last 30 years was 54.02 %\n"
     ]
    }
   ],
   "source": [
    "# Calculating the average turnout at Irish local elections held in the past 30 years\n",
    "loc_turnout = (55.6, 50.2, 58.6, 57.8, 51.7, 50.2)\n",
    "ave_loc_turnout = statistics.mean(loc_turnout)\n",
    "print (\"The average voter turnout at Irish local elections in the last 30 years was\", round(ave_loc_turnout,2),\"%\")"
   ]
  },
  {
   "cell_type": "markdown",
   "id": "acf1b616-debc-4d79-bd7a-59da91012bd5",
   "metadata": {},
   "source": [
    "<br>"
   ]
  },
  {
   "cell_type": "markdown",
   "id": "d0a12f3a-b1fa-4b60-b25e-1c8981c61e44",
   "metadata": {},
   "source": [
    "**Turnout at Referendums**  "
   ]
  },
  {
   "cell_type": "markdown",
   "id": "c7718376-adfe-4d98-91a7-3448b528494c",
   "metadata": {},
   "source": [
    "As was the case for General Elections, the VAP method of measuring turnout may be the better option for Referendums, as not everyone on the register is entitled to vote in them. Turnout at referendums that have taken place in the last 30 years are listed below.  \n",
    "_Note:_ Referendums taking place on the same day are listed together.  "
   ]
  },
  {
   "cell_type": "markdown",
   "id": "16b1094e-f5d9-4fef-bf35-f61ba1f2f4f7",
   "metadata": {},
   "source": [
    "1992 Maastricht Treaty 59.75%*    \n",
    "1992 Right to life of unborn, Right to travel & Right to information 70.65%*    \n",
    "1995 Dissolution of marriage 64.35%*    \n",
    "1996 Bail 31.65%*    \n",
    "1997 Cabinet confidentiality 49.65%*    \n",
    "1998 British-Irish Agreement & Amsterdam Treaty 58.65%*   \n",
    "1999 Local government 53.35%*    \n",
    "2001 Death penalty, International Criminal Court & Treaty of Nice 37.25%*    \n",
    "2002 Protection of life in pregnancy 45.25%*    \n",
    "2002 Treaty of Nice 51.95%*    \n",
    "2004 Citizenship 62.35%*  \n",
    "2008 Lisbon Treaty 55.55%*    \n",
    "2009 Lisbon Treaty 61.45%*    \n",
    "2011 Oir Inquiries & Judges' remuneration 60%    \n",
    "2012 EU Stability 52.4%  \n",
    "2012 Children 35.1%  \n",
    "2013 Seanad & Court of Appeal 40.9%  \n",
    "2015 Marriage Equality & Age of Eligibility for Election of President 64.3%  \n",
    "2018 Blasphemy & Termination of Pregnancy 66.95%*  \n",
    "2019 Diveorce 53.28%*  "
   ]
  },
  {
   "cell_type": "markdown",
   "id": "a82caeda-5a5b-4197-87c9-2333fe309020",
   "metadata": {},
   "source": [
    "*Note:* VAP figures were only available for the referenda that have taken place in the last 10 years. In order to estimate the VAP figure, I took the difference between the VAP & REG figures for the referenda that have taken place since 2011, and calculated the average difference between the two figures, which was VAP being 2.45% higher than the corresponding REG figure. This was then added to the REG figures for all other referenda that have taken place in the last 30 years to estimate the VAP figure (denoted by an asterix in the figures shown above).  "
   ]
  },
  {
   "cell_type": "markdown",
   "id": "34d915cc-2a78-49ec-928e-940a5ce19901",
   "metadata": {},
   "source": [
    "*Data Source:* Data Oireachtas, RTE & independent.ie"
   ]
  },
  {
   "cell_type": "code",
   "execution_count": 4,
   "id": "660ade81-49f2-4350-a74a-374a7c09257c",
   "metadata": {},
   "outputs": [
    {
     "name": "stdout",
     "output_type": "stream",
     "text": [
      "The mean voter turnout at Irish referendums over the last 30 years was 53.74 %\n"
     ]
    }
   ],
   "source": [
    "# Calculating the mean turnout at referendums that have taken place in the last 30 years\n",
    "ref_turnout = (59.75, 70.65, 64.35, 31.65, 49.65, 58.65, 53.35, 37.25, 45.25, 51.95, 62.35, 55.55, \n",
    "                   61.45, 60, 52.4, 35.1, 40.9, 64.3, 66.95, 53.28)\n",
    "mean_ref_turnout = statistics.mean(ref_turnout)\n",
    "print (\"The mean voter turnout at Irish referendums over the last 30 years was\", round(mean_ref_turnout,2), \"%\")"
   ]
  },
  {
   "cell_type": "markdown",
   "id": "416fb4b0-3784-49b7-bee1-b4977c236372",
   "metadata": {},
   "source": [
    "<br>"
   ]
  },
  {
   "cell_type": "markdown",
   "id": "84625923-2131-4c5d-90ab-fd52b3f5d7c7",
   "metadata": {},
   "source": [
    "**Turnout at European Elections**  "
   ]
  },
  {
   "cell_type": "markdown",
   "id": "a0eefb43-8ee7-48ee-b140-9201a7873b90",
   "metadata": {},
   "source": [
    "VAP is again considered the better method of measuring voter turnout at European elections. The VAP figure for turnout at European elections held in Ireland over the last 30 years is listed below.  "
   ]
  },
  {
   "cell_type": "markdown",
   "id": "41c43ced-0bdb-48b3-8d51-1cc1a7a2a4fa",
   "metadata": {},
   "source": [
    "1994 47.92%  \n",
    "1999 54.72%  \n",
    "2004 62.52%  \n",
    "2009 54.19%  \n",
    "2014 47.45%  \n",
    "2019 45.63%  "
   ]
  },
  {
   "cell_type": "markdown",
   "id": "ea2e6846-a173-4018-9de9-65041e93fa8f",
   "metadata": {},
   "source": [
    "*Data Source:* [idea.int](https://www.idea.int/data-tools/country-view/143/40)  "
   ]
  },
  {
   "cell_type": "code",
   "execution_count": 5,
   "id": "f71a3cde-59ff-4424-93e6-86868e73ba5b",
   "metadata": {},
   "outputs": [
    {
     "name": "stdout",
     "output_type": "stream",
     "text": [
      "The average voter turnout at European elections in the last 30 years was 52.07 %\n"
     ]
    }
   ],
   "source": [
    "# Calculating the average turnout at European elections held in the past 30 years\n",
    "eu_turnout = (47.92, 54.72, 62.52, 54.19, 47.45, 45.63)\n",
    "ave_eu_turnout = statistics.mean(eu_turnout)\n",
    "print (\"The average voter turnout at European elections in the last 30 years was\", round(ave_eu_turnout,2),\"%\")"
   ]
  },
  {
   "cell_type": "markdown",
   "id": "3bb3ed58-c59e-4112-8844-bb6225785bcd",
   "metadata": {},
   "source": [
    "<br>"
   ]
  },
  {
   "cell_type": "markdown",
   "id": "42c4dd27-45a3-4e54-b945-9801c5d43966",
   "metadata": {},
   "source": [
    "**Turnout at Presidential Elections**  "
   ]
  },
  {
   "cell_type": "markdown",
   "id": "390ec116-1887-4bea-bbe0-f0346231044c",
   "metadata": {},
   "source": [
    "As the eligibility to vote in a Presidential election is the same as for a General Election, it would again be better to use the VAP method for measuring turnout here. Unfortunately this data was not available for the 1990 Presidential election. Therefore, the REG figure was used for the Presidential election held in that year, but VAP figures were used for the other three elections taking place in the last 30 years.   "
   ]
  },
  {
   "cell_type": "markdown",
   "id": "a2043e55-0a40-43eb-8cd0-4c41f820e251",
   "metadata": {},
   "source": [
    "1990 64%*    \n",
    "1997 47.72%  \n",
    "2011 50.72%  \n",
    "2018 39.33%  "
   ]
  },
  {
   "cell_type": "markdown",
   "id": "09dd9625-e01a-425f-aab9-5fd0aec56042",
   "metadata": {},
   "source": [
    "*Data Source:* [idea.int](https://www.idea.int/data-tools/country-view/143/40) & [thejournal.ie](https://www.thejournal.ie/low-turnout-presidential-election-4309871-Oct2018/)"
   ]
  },
  {
   "cell_type": "code",
   "execution_count": 6,
   "id": "6225fdfe-325b-4494-8bd7-944ecbc0aefb",
   "metadata": {},
   "outputs": [
    {
     "name": "stdout",
     "output_type": "stream",
     "text": [
      "The average voter turnout at Irish Presidential elections in the last 30 years was 50.44 %\n"
     ]
    }
   ],
   "source": [
    "# Calculating the average turnout at Irish Presidential elections held in the past 30 years\n",
    "pres_turnout = (64, 47.72, 50.72, 39.33)\n",
    "ave_pres_turnout = statistics.mean(pres_turnout)\n",
    "print (\"The average voter turnout at Irish Presidential elections in the last 30 years was\", round(ave_pres_turnout,2),\"%\")"
   ]
  },
  {
   "cell_type": "markdown",
   "id": "d8f99559-1cac-4ab8-a0db-cbfc2305be9d",
   "metadata": {},
   "source": [
    "<br>"
   ]
  },
  {
   "cell_type": "markdown",
   "id": "45ce9e66-9655-4c91-8e2a-0091721cb741",
   "metadata": {},
   "source": [
    "### Data for variable: voter participation in different age groups\n",
    "***"
   ]
  },
  {
   "cell_type": "markdown",
   "id": "117211b4-05a9-4613-9dd7-b95182575d82",
   "metadata": {},
   "source": [
    "From my research on voter participation in both Ireland and other countries, it is clear that those in the younger age groups are less likely to vote, and the older a person gets, the more likely they are to vote. Unfortunately I was unable to find a comprehensive breakdown of voter participation across these different groups in Ireland. Instead, the sources I found tended to focus on the difference between voter turnout in the 18-25 age group versus the rest of the population, so I will need to estimate participation levels across the other groups based on data I found for other countries such as Britain and the USA. (REF census, british, tcd)"
   ]
  },
  {
   "cell_type": "markdown",
   "id": "745b20a2-a999-4c5a-a130-8eb403cce0d6",
   "metadata": {},
   "source": [
    "**Irish voter turnout in 18-25 age group**  \n",
    "2002 53.3% vs. 76.3% across all ages  \n",
    "2007 69.2% vs. 79.2%  \n",
    "2011 75.4% vs. 89.7%  \n",
    "\n",
    "Turnout since 2000 in 30 European countries among the 18-25 age category was 59% compared with 82% across all ages.  \n",
    "\n",
    "*Data Source:* [data.oireachtas.ie](https://data.oireachtas.ie/ie/oireachtas/libraryResearch/2016/2016-01-28_l-rs-note-election-turnout-in-ireland-measurement-trends-and-policy-implications_en.pdf)  "
   ]
  },
  {
   "cell_type": "markdown",
   "id": "35bfd6bb-fd45-4360-9d15-3a2ccbb1c49e",
   "metadata": {},
   "source": [
    "<br>"
   ]
  },
  {
   "cell_type": "markdown",
   "id": "1f4444e3-94d1-430c-89a7-75a1074bc83a",
   "metadata": {},
   "source": [
    "**Data from Britain & USA**  "
   ]
  },
  {
   "cell_type": "markdown",
   "id": "6d890144-3996-42ed-8e27-c805a3f67763",
   "metadata": {},
   "source": [
    "The following figure illustrates voter turnout amongst the different age groups in the 2015, 2017 & 2019 general elections in Britain:  \n",
    "\n",
    "![](https://www.britishelectionstudy.com/wp-content/uploads/2021/01/turnoutBayesPlot-1.png)  \n",
    "_Image Source:_ [britishelectionstudy.com](https://www.britishelectionstudy.com/wp-content/uploads/2021/01/turnoutBayesPlot-1.png)  "
   ]
  },
  {
   "cell_type": "markdown",
   "id": "650bfc94-b1cb-40ae-9c55-3e2bf3bcd61f",
   "metadata": {},
   "source": [
    "<br>"
   ]
  },
  {
   "cell_type": "markdown",
   "id": "66103aa6-c6f9-485a-ae3a-a22c59f9b7f3",
   "metadata": {},
   "source": [
    "The following information regarding the 2020 Presidential Election in USA was copied directly from [census.gov](https://www.census.gov/library/stories/2021/04/record-high-turnout-in-2020-general-election.html):\n",
    "\n",
    "_Voting rates were higher in 2020 than in 2016 across all age groups, with turnout by voters ages 18-34 increasing the most between elections:_  \n",
    "\n",
    "- _For citizens ages 18-34, 57% voted in 2020, up from 49% in 2016_  \n",
    "- _In the 35-64 age group, turnout was 69%, compared to 65% in 2016_  \n",
    "- _In the 65 and older group, 74% voted in 2020, compared to 71% in 2016_  "
   ]
  },
  {
   "cell_type": "markdown",
   "id": "5303be8c-0a1b-4128-87e0-cdad54a10c63",
   "metadata": {},
   "source": [
    "<br>"
   ]
  },
  {
   "cell_type": "markdown",
   "id": "d7dd79d9-1e5b-4daf-bd92-b28589d0974d",
   "metadata": {},
   "source": [
    "**Conclusions Drawn on Voter Turnout in Different Age Groups**"
   ]
  },
  {
   "cell_type": "markdown",
   "id": "23d1d983-f4b2-4ce5-9bd0-00221e5e2df5",
   "metadata": {},
   "source": [
    "From all of this information, we can see that voter participation seems to be increasing amongst the younger age groups but still remains lowest amongst those aged 18-24, and steadily increases as you move upwards through the different age cohorts.  \n",
    "Now lets try and assign some values for the probability of those falling into there age groups participating in an election.  "
   ]
  },
  {
   "cell_type": "markdown",
   "id": "35449942-66e8-4a97-9c76-24fd16639237",
   "metadata": {},
   "source": [
    "p18_24 \n",
    "p25_54 \n",
    "p55_64\n",
    "p65plus "
   ]
  },
  {
   "cell_type": "code",
   "execution_count": 35,
   "id": "e6f0e01a-c182-46c8-b9c0-8870fef0fbec",
   "metadata": {},
   "outputs": [],
   "source": [
    "# Calculating average voter participation amongst 18-24 years with data available\n",
    "# Excluding US as parameters are different to data for other countries\n",
    "ire_18_24 = (53.3 + 69.2 + 75.4) / 3\n",
    "eu_18_24 = 59\n",
    "uk_18_24 = (48 + 50 + 52) / 3\n",
    "\n",
    "all_18_24 = (ire_18_24, eu_18_24, uk_18_24)\n",
    "mean_18_24 = statistics.mean(all_18_24)\n",
    "\n",
    "# Calculating average voter participation amongst 65+ age group, US again excluded\n",
    "# Excluding US as parameters are different to data for other countries\n",
    "uk_65plus = (80 + 82 + 76 + 81 + 82 + 81) / 6\n",
    "usa_65plus = 74\n",
    "\n",
    "all_65plus = (uk_65plus, usa_65plus)\n",
    "mean_65plus = statistics.mean(all_65plus)"
   ]
  },
  {
   "cell_type": "code",
   "execution_count": 37,
   "id": "6415bfb1-46d6-46ca-b606-8828df09fb0d",
   "metadata": {},
   "outputs": [
    {
     "name": "stdout",
     "output_type": "stream",
     "text": [
      "The average level of voter participation amongst the 18-24 age group is 58.32 % \n",
      "Meanwhile the average level of voter participation amongst the 65+ age group is 77.17 %\n",
      "The difference between these two figures is 18.84 %\n",
      "\n",
      "\n",
      "As we are working with four different age groups and have already found figures to use for two of those groups, we will assign the following values to the remaining groups:\n",
      "25-54 = 63.03 %\n",
      "55-64 = 72.46 %\n",
      "\n",
      "\n",
      "Therefore, we will be using the following probabilities when simulating whether a person falling into one of these age groups chooses to vote:\n",
      "Age 18-24 = 0.5832\n",
      "Age 25_54 = 0.6303\n",
      "Age 55-64 = 0.7245999999999999\n",
      "Age 65+ = 0.7717\n"
     ]
    }
   ],
   "source": [
    "print(\"The average level of voter participation amongst the 18-24 age group is\", round(mean_18_24,2), \"% \\nMeanwhile the average level of voter participation amongst the 65+ age group is\", round(mean_65plus,2), \"%\")\n",
    "print(\"The difference between these two figures is\", round((mean_65plus - mean_18_24),2), \"%\")\n",
    "print(\"\\n\")\n",
    "print(\"As we are working with four different age groups and have already found figures to use for two of those groups, we will assign the following values to the remaining groups:\")\n",
    "print(\"25-54 =\", round((mean_18_24 + (18.84 / 4 )),2), \"%\")\n",
    "print(\"55-64 =\", round((mean_65plus - (18.84 / 4 )),2), \"%\")\n",
    "print(\"\\n\")\n",
    "print(\"Therefore, we will be using the following probabilities when simulating whether a person falling into one of these age groups chooses to vote:\")\n",
    "print(\"Age 18-24 =\", (round(mean_18_24,2) / 100))\n",
    "print(\"Age 25_54 =\", (round((mean_18_24 + (18.84 / 4 )),2) / 100))\n",
    "print(\"Age 55-64 =\", (round((mean_65plus - (18.84 / 4 )),2) / 100))\n",
    "print(\"Age 65+ =\", (round(mean_65plus,2) / 100))"
   ]
  },
  {
   "cell_type": "markdown",
   "id": "536f8c87-4564-48ab-b635-032d7c423777",
   "metadata": {},
   "source": [
    "<br>"
   ]
  },
  {
   "cell_type": "markdown",
   "id": "e06e74fb-2632-41ab-9084-3644473bb22e",
   "metadata": {},
   "source": [
    "**Distribution of Age Across Irish Population**  "
   ]
  },
  {
   "cell_type": "markdown",
   "id": "1bb166c7-2899-4c72-9fd5-a1e6004e127c",
   "metadata": {},
   "source": [
    "The following breakdown of the Irish population was copied from indexmundi.com:  "
   ]
  },
  {
   "cell_type": "markdown",
   "id": "90ab16cc-88a5-4698-8d3a-938e417adb21",
   "metadata": {},
   "source": [
    "0-14 years: 21.15% (male 560,338/female 534,570)  \n",
    "\n",
    "15-24 years: 12.08% (male 316,239/female 308,872)  \n",
    "\n",
    "25-54 years: 42.19% (male 1,098,058/female 1,085,794)  \n",
    "\n",
    "55-64 years: 10.77% (male 278,836/female 278,498)  \n",
    "\n",
    "65 years and over: 13.82% (male 331,772/female 383,592) (2020 est.)  "
   ]
  },
  {
   "cell_type": "markdown",
   "id": "d3466510-c7b3-4069-8f34-2d477057533d",
   "metadata": {},
   "source": [
    "_Ref:_ IndexMundi, as of September 2021."
   ]
  },
  {
   "cell_type": "markdown",
   "id": "2b90293e-f003-47c6-88e0-539d48f2dc7c",
   "metadata": {},
   "source": [
    "<br>"
   ]
  },
  {
   "cell_type": "markdown",
   "id": "579afbde-e5d9-4baf-89d0-880482bd230a",
   "metadata": {},
   "source": [
    "For this project, we are interested in the following figures:  "
   ]
  },
  {
   "cell_type": "markdown",
   "id": "926ec208-d171-402a-8148-dec02de3ca21",
   "metadata": {},
   "source": [
    "15-24 years: 625111  \n",
    "25-54 years: 2183852  \n",
    "55-64 years: 557334  \n",
    "65 years and over: 715364  "
   ]
  },
  {
   "cell_type": "markdown",
   "id": "d3b47da7-a616-44de-9f0e-295204167956",
   "metadata": {},
   "source": [
    "<br>"
   ]
  },
  {
   "cell_type": "markdown",
   "id": "ee0b56b8-bbd3-479c-ab45-caf799fe43f2",
   "metadata": {},
   "source": [
    "As we are only interested in the population aged 18 and over, we need to remove any persons aged 15, 16 and 17 from the total figure in the 15-24 years age group (those born in 2004, 2005 & 2006).  "
   ]
  },
  {
   "cell_type": "markdown",
   "id": "45e76e89-c041-40e4-b398-db971dd25127",
   "metadata": {},
   "source": [
    "61,972 born in 2004  \n",
    "61,372 born in 2005  \n",
    "65,425 born in 2006  \n",
    "Total to remove: 188769  \n",
    "_Ref:_ CSO"
   ]
  },
  {
   "cell_type": "markdown",
   "id": "49bdbc28-108e-4c5e-ae08-3ef31713c30b",
   "metadata": {},
   "source": [
    "<br>"
   ]
  },
  {
   "cell_type": "markdown",
   "id": "f155b183-9559-4abc-91cb-508e51136040",
   "metadata": {},
   "source": [
    "Therefore, we will we working with the following figures:  "
   ]
  },
  {
   "cell_type": "markdown",
   "id": "915640c2-c463-40a6-b78a-6cf1b6916268",
   "metadata": {},
   "source": [
    "18-24 years: 436342  \n",
    "25-54 years: 2183852  \n",
    "55-64 years: 557334  \n",
    "65 years and over: 715364  "
   ]
  },
  {
   "cell_type": "code",
   "execution_count": 7,
   "id": "c500a9c6-a12e-4e2b-9896-9d41e854b541",
   "metadata": {},
   "outputs": [
    {
     "name": "stdout",
     "output_type": "stream",
     "text": [
      "The total number of Irish citizens eligible to vote is 3892892\n"
     ]
    }
   ],
   "source": [
    "# Creating some variables to represent these figures\n",
    "age18_24 = 436342\n",
    "age25_54 = 2183852\n",
    "age55_64 = 557334\n",
    "age65_up = 715364\n",
    "total_register = age18_24 + age25_54 + age55_64 + age65_up\n",
    "print (\"The total number of Irish citizens eligible to vote is\", total_register)"
   ]
  },
  {
   "cell_type": "code",
   "execution_count": 8,
   "id": "77b60f56-081d-45a1-add0-86bff34bfc9b",
   "metadata": {},
   "outputs": [],
   "source": [
    "# Breaking down the probability of a randomly drawn citizen being from one of these age groups\n",
    "p_age18_24 = age18_24 / total_register\n",
    "p_age25_54 = age25_54 / total_register\n",
    "p_age55_64 = age55_64 / total_register\n",
    "p_age65_up = age65_up / total_register"
   ]
  },
  {
   "cell_type": "code",
   "execution_count": 9,
   "id": "6b8500a1-8e9c-41ea-96f5-c4938ebc84a9",
   "metadata": {},
   "outputs": [
    {
     "data": {
      "text/plain": [
       "array(['55-64', '55-64', '55-64', '18-24', '25-54', '25-54', '25-54',\n",
       "       '25-54', '55-64', '25-54', '65+', '55-64', '25-54', '55-64',\n",
       "       '25-54', '65+', '55-64', '25-54', '65+', '25-54', '65+', '25-54',\n",
       "       '65+', '25-54', '25-54', '25-54', '55-64', '65+', '25-54', '65+',\n",
       "       '55-64', '65+', '25-54', '18-24', '55-64', '25-54', '25-54', '65+',\n",
       "       '25-54', '65+', '65+', '25-54', '25-54', '55-64', '18-24', '25-54',\n",
       "       '65+', '25-54', '18-24', '25-54', '25-54', '25-54', '25-54',\n",
       "       '25-54', '25-54', '25-54', '25-54', '55-64', '25-54', '25-54',\n",
       "       '18-24', '55-64', '25-54', '55-64', '18-24', '25-54', '65+',\n",
       "       '25-54', '25-54', '25-54', '55-64', '55-64', '25-54', '18-24',\n",
       "       '65+', '25-54', '65+', '25-54', '65+', '25-54', '55-64', '18-24',\n",
       "       '65+', '25-54', '65+', '25-54', '25-54', '65+', '18-24', '25-54',\n",
       "       '18-24', '55-64', '25-54', '25-54', '25-54', '25-54', '25-54',\n",
       "       '25-54', '25-54', '65+'], dtype='<U5')"
      ]
     },
     "execution_count": 9,
     "metadata": {},
     "output_type": "execute_result"
    }
   ],
   "source": [
    "# Generating an array of voter age groups using the probability calculated above\n",
    "np.random.choice([\"18-24\", \"25-54\", \"55-64\", \"65+\"], size=(100,), p=[p_age18_24, p_age25_54, p_age55_64, p_age65_up])"
   ]
  },
  {
   "cell_type": "markdown",
   "id": "c1246c2c-52c7-4fa1-a4fa-6b0df8ff1daf",
   "metadata": {},
   "source": [
    "<BR>"
   ]
  },
  {
   "cell_type": "markdown",
   "id": "b8e96a20-0d05-470f-8b13-eb5757f430c1",
   "metadata": {},
   "source": [
    "### Data for variable: type of election\n",
    "***"
   ]
  },
  {
   "cell_type": "markdown",
   "id": "7b02fb98-904a-42c8-82b3-406f0d1b5975",
   "metadata": {},
   "source": [
    "We have five options for the different types of election - General Election, Local Election, Referendum, EUropean Election, Presidential Election.  \n",
    "\n",
    "In the last 30 years there have been:  \n",
    "7 x General Elections  \n",
    "6 x Local Elections  \n",
    "20 x Referendums (*note:* where more than one referendum was held on the same day, these were counted once)  \n",
    "6 x European Elections  \n",
    "4 x Presidential Elections  \n",
    "\n",
    "\n",
    "We can clearly see that referendums are held far more frequently than any other kind of election, and above we saw that referendums & Presidential elections have a much lower turnout than the likes of general elections.  "
   ]
  },
  {
   "cell_type": "code",
   "execution_count": 10,
   "id": "e8565536-e109-42be-b955-44d4b29f1089",
   "metadata": {},
   "outputs": [],
   "source": [
    "# Calculating the probability of an election falling into each of these categories based on the last 30 years' data\n",
    "gen, loc, ref, eu, pres = 7, 6, 20, 6, 4\n",
    "elections = (gen + loc + ref + eu + pres)\n",
    "prob_gen = gen / elections\n",
    "prob_loc = loc / elections\n",
    "prob_ref = ref / elections\n",
    "prob_eu = eu / elections\n",
    "prob_pres = pres / elections"
   ]
  },
  {
   "cell_type": "code",
   "execution_count": 11,
   "id": "6165342b-0779-4023-87c3-da03e104fb26",
   "metadata": {},
   "outputs": [
    {
     "data": {
      "text/plain": [
       "array(['eu', 'ref', 'ref', 'loc', 'eu', 'ref', 'loc', 'loc', 'loc', 'ref',\n",
       "       'ref', 'loc', 'pres', 'ref', 'loc', 'eu', 'pres', 'ref', 'ref',\n",
       "       'ref', 'ref', 'ref', 'ref', 'ref', 'pres', 'ref', 'ref', 'gen',\n",
       "       'ref', 'ref', 'ref', 'eu', 'ref', 'gen', 'eu', 'eu', 'ref', 'loc',\n",
       "       'ref', 'ref', 'gen', 'ref', 'ref', 'loc', 'pres', 'gen', 'pres',\n",
       "       'eu', 'ref', 'loc', 'ref', 'pres', 'ref', 'loc', 'gen', 'ref',\n",
       "       'loc', 'eu', 'gen', 'ref', 'ref', 'gen', 'ref', 'ref', 'ref',\n",
       "       'ref', 'gen', 'ref', 'gen', 'gen', 'ref', 'loc', 'eu', 'ref',\n",
       "       'ref', 'ref', 'ref', 'ref', 'loc', 'eu', 'gen', 'ref', 'loc',\n",
       "       'ref', 'gen', 'eu', 'pres', 'ref', 'eu', 'eu', 'ref', 'gen', 'gen',\n",
       "       'ref', 'loc', 'ref', 'ref', 'gen', 'eu', 'ref'], dtype='<U4')"
      ]
     },
     "execution_count": 11,
     "metadata": {},
     "output_type": "execute_result"
    }
   ],
   "source": [
    "# Lets generste an array of election types using the probability discussed above\n",
    "np.random.choice([\"gen\", \"loc\", \"ref\", \"eu\", \"pres\"], size=(100,), \n",
    "                     p=[prob_gen, prob_loc, prob_ref, prob_eu, prob_pres])"
   ]
  },
  {
   "cell_type": "markdown",
   "id": "95cc07cd-27a7-4983-be37-438b1938517d",
   "metadata": {},
   "source": [
    "<br>"
   ]
  },
  {
   "cell_type": "markdown",
   "id": "80bdff1d-8c95-4e0a-8d8a-5fe0651c50b9",
   "metadata": {},
   "source": [
    "### Data for Variable: Voter Location (Urban / Rural Population Split)\n",
    "***"
   ]
  },
  {
   "cell_type": "markdown",
   "id": "641221b5-6c13-40fb-84ad-f25b0319e29b",
   "metadata": {},
   "source": [
    "Rurally based voters are usually associated with a higher level of turnout than urban based voters (maynooth). This is particularly true for General Elections, and to an extent in Local Elections, while turnout at Referendums tends to be higher in urban areas (irish times). No significant difference is noted for Presidential or European Elections.  \n",
    "\n",
    "The latest figures available show that the urban / rural population split in Ireland is heavily weighted on the urban side:  \n",
    "Urban - 63.65%  \n",
    "Rural - 36.35%  \n",
    "_Data Source:_ [tradingeconomics.com](https://tradingeconomics.com/ireland/rural-population-percent-of-total-population-wb-data.html)  "
   ]
  },
  {
   "cell_type": "markdown",
   "id": "1298e66a-8fbb-4181-9f46-16818f7c868a",
   "metadata": {},
   "source": [
    "<br>"
   ]
  },
  {
   "cell_type": "markdown",
   "id": "440957e7-1c37-47e5-bd2f-64416514e2bc",
   "metadata": {},
   "source": [
    "**Urban and Rural Turnout in Local Elections**  "
   ]
  },
  {
   "cell_type": "markdown",
   "id": "c021cc64-ddb2-403e-8df7-73b630501772",
   "metadata": {},
   "source": [
    "1999 National Turnout: 50.2%  \n",
    "1999 Urban Turnout: 36%  \n",
    "1999 Rural Turnout: 61.9%  \n",
    "\n",
    "2004 National Turnout: 59.3%  \n",
    "2004 Urban Turnout: 53%  \n",
    "2004 Rural Turnout: 63.9%  \n",
    "\n",
    "2009 National Turnout: 57.6%  \n",
    "2009 Urban Turnout: 49.3%  \n",
    "2009 Rural Turnout: 63.8%  \n",
    "\n",
    "2014 National Turnout: 51.6%  \n",
    "2009 Urban Turnout: 43%  \n",
    "2009 Rural Turnout: 58.9%    "
   ]
  },
  {
   "cell_type": "code",
   "execution_count": 12,
   "id": "13f582ec-42d5-44f8-9575-0901a6055a85",
   "metadata": {},
   "outputs": [
    {
     "name": "stdout",
     "output_type": "stream",
     "text": [
      "(25.9, 10.899999999999999, 14.5, 15.899999999999999)\n",
      "The average difference in turnout between urban and rural areas is 16.8 % in favour or rural voters\n"
     ]
    }
   ],
   "source": [
    "# Calculating the average difference in turnout between urban and rurally based voters\n",
    "urb_rural_diff = (61.9-36),(63.9-53),(63.8-49.3),(58.9-43)\n",
    "print (urb_rural_diff)\n",
    "mean_geo_diff = statistics.mean(urb_rural_diff)\n",
    "print (\"The average difference in turnout between urban and rural areas is\", \n",
    "           round(mean_geo_diff,2), \"% in favour or rural voters\")"
   ]
  },
  {
   "cell_type": "markdown",
   "id": "9afd8b5b-a1c5-4c35-af0f-06f6862cc6a2",
   "metadata": {},
   "source": [
    "<br>"
   ]
  },
  {
   "cell_type": "markdown",
   "id": "d46559b7-b1eb-4b41-8b60-19363c08e56f",
   "metadata": {},
   "source": [
    "As we are only interested in two results here, we can use a binomial distribution to generate the voter locations using the probability of a voter being urban based being 63.65%, and rurally based being 36.35%.  "
   ]
  },
  {
   "cell_type": "code",
   "execution_count": 13,
   "id": "09c9510d-6477-4871-9242-c56776f76d15",
   "metadata": {},
   "outputs": [
    {
     "name": "stdout",
     "output_type": "stream",
     "text": [
      "['urban', 'rural', 'urban', 'urban', 'urban', 'urban', 'urban', 'urban', 'rural', 'rural', 'rural', 'urban', 'rural', 'rural', 'rural', 'urban', 'rural', 'urban', 'urban', 'urban', 'rural', 'rural', 'urban', 'rural', 'urban', 'urban', 'rural', 'urban', 'urban', 'urban', 'urban', 'urban', 'urban', 'rural', 'urban', 'rural', 'rural', 'urban', 'urban', 'urban', 'urban', 'urban', 'rural', 'rural', 'urban', 'rural', 'urban', 'urban', 'urban', 'urban', 'rural', 'urban', 'urban', 'urban', 'urban', 'rural', 'rural', 'urban', 'urban', 'rural', 'urban', 'urban', 'urban', 'urban', 'rural', 'urban', 'urban', 'rural', 'rural', 'rural', 'urban', 'urban', 'urban', 'urban', 'urban', 'urban', 'urban', 'urban', 'rural', 'urban', 'urban', 'urban', 'urban', 'urban', 'urban', 'urban', 'urban', 'rural', 'rural', 'rural', 'urban', 'rural', 'urban', 'urban', 'rural', 'urban', 'urban', 'urban', 'urban', 'urban']\n"
     ]
    }
   ],
   "source": [
    "# Using numpy.random.binomial to generate voter locations\n",
    "urban = 1\n",
    "prob = (0.6365)\n",
    "\n",
    "geo_list = []\n",
    "geo_location = np.random.binomial(urban, p=prob, size=100)\n",
    "for i in geo_location:\n",
    "    if i == 0:\n",
    "        geo_list.append(\"rural\")\n",
    "    else: \n",
    "        geo_list.append(\"urban\")\n",
    "\n",
    "print (geo_list)"
   ]
  },
  {
   "cell_type": "code",
   "execution_count": 14,
   "id": "01a955f2-2070-47da-8377-962da82238ec",
   "metadata": {},
   "outputs": [
    {
     "data": {
      "text/plain": [
       "100"
      ]
     },
     "execution_count": 14,
     "metadata": {},
     "output_type": "execute_result"
    }
   ],
   "source": [
    "# Confirming the number of entries in the geo_list\n",
    "len(geo_list)"
   ]
  },
  {
   "cell_type": "code",
   "execution_count": 15,
   "id": "bdd41552-8cf8-4eaf-9e25-023fded74ccb",
   "metadata": {},
   "outputs": [
    {
     "data": {
      "text/plain": [
       "array(['urban', 'rural', 'urban', 'urban', 'rural', 'rural', 'urban',\n",
       "       'urban', 'urban', 'rural', 'rural', 'rural', 'urban', 'urban',\n",
       "       'urban', 'rural', 'urban', 'urban', 'urban', 'rural', 'urban',\n",
       "       'urban', 'urban', 'rural', 'urban', 'urban', 'urban', 'urban',\n",
       "       'urban', 'urban', 'rural', 'urban', 'urban', 'rural', 'urban',\n",
       "       'urban', 'urban', 'rural', 'rural', 'rural', 'urban', 'rural',\n",
       "       'urban', 'rural', 'urban', 'rural', 'urban', 'urban', 'urban',\n",
       "       'rural', 'rural', 'urban', 'urban', 'rural', 'urban', 'urban',\n",
       "       'rural', 'rural', 'urban', 'urban', 'rural', 'urban', 'urban',\n",
       "       'rural', 'urban', 'rural', 'urban', 'urban', 'urban', 'rural',\n",
       "       'urban', 'rural', 'urban', 'rural', 'urban', 'urban', 'urban',\n",
       "       'rural', 'rural', 'rural', 'urban', 'rural', 'rural', 'rural',\n",
       "       'rural', 'urban', 'urban', 'urban', 'rural', 'urban', 'urban',\n",
       "       'urban', 'rural', 'rural', 'rural', 'urban', 'urban', 'urban',\n",
       "       'urban', 'urban'], dtype='<U5')"
      ]
     },
     "execution_count": 15,
     "metadata": {},
     "output_type": "execute_result"
    }
   ],
   "source": [
    "# I could also generate an array of voter locations using random.choice\n",
    "np.random.choice([\"urban\", \"rural\"], size=(100,), p=[0.6365,0.3635])"
   ]
  },
  {
   "cell_type": "markdown",
   "id": "b8b8a6a4-13db-4af0-bc43-270935a32cb0",
   "metadata": {},
   "source": [
    "<br>"
   ]
  },
  {
   "cell_type": "markdown",
   "id": "f0008e04-9a63-4dbb-86ae-5daed3358ffd",
   "metadata": {},
   "source": [
    "### References & Data Sources  \n",
    "***\n"
   ]
  },
  {
   "cell_type": "markdown",
   "id": "8fdba611-aa08-4b2b-9377-98abcd3cfeb4",
   "metadata": {},
   "source": [
    "[] https://adriankavanaghelections.org/  "
   ]
  },
  {
   "cell_type": "markdown",
   "id": "6ccbd15d-7d8d-45f8-a5d5-7b71b5ba42b4",
   "metadata": {},
   "source": [
    "[] https://www.britishelectionstudy.com/bes-findings/age-and-voting-behaviour-at-the-2019-general-election/#.Yc8q3mjP02w  "
   ]
  },
  {
   "cell_type": "markdown",
   "id": "07efd772-84c4-4c6e-bf89-02544e05877b",
   "metadata": {},
   "source": [
    "[] https://www.census.gov/library/stories/2021/04/record-high-turnout-in-2020-general-election.html  "
   ]
  },
  {
   "cell_type": "markdown",
   "id": "d2941929-8001-47ad-b9c5-b5090ac11073",
   "metadata": {},
   "source": [
    "[] https://www.cso.ie/en/csolatestnews/pressreleases/2006pressreleases/reportonvitalstatistics2004/  "
   ]
  },
  {
   "cell_type": "markdown",
   "id": "d1db2cd7-e624-4fd2-b48a-903ca41a353d",
   "metadata": {},
   "source": [
    "[] https://www.cso.ie/en/csolatestnews/pressreleases/2008pressreleases/reportonvitalstatistics2005/  "
   ]
  },
  {
   "cell_type": "markdown",
   "id": "3bf7dc03-39ae-478f-834c-c7f9569f83bd",
   "metadata": {},
   "source": [
    "[] https://www.cso.ie/en/csolatestnews/pressreleases/2009pressreleases/reportonvitalstatistics2006/  "
   ]
  },
  {
   "cell_type": "markdown",
   "id": "643a75d4-9073-44fc-ae7c-4034ba388983",
   "metadata": {},
   "source": [
    "[] https://www.cso.ie/en/qnhs/qnhsmethodology/voterregistrationandparticipationmodule/"
   ]
  },
  {
   "cell_type": "markdown",
   "id": "ad355da5-0607-4f0b-a372-089753c7ec54",
   "metadata": {},
   "source": [
    "[] https://data.oireachtas.ie/ie/oireachtas/libraryResearch/2016/2016-01-28_l-rs-note-election-turnout-in-ireland-measurement-trends-and-policy-implications_en.pdf"
   ]
  },
  {
   "cell_type": "markdown",
   "id": "dc13b6cb-5ca3-4ff4-aa6b-590899127449",
   "metadata": {},
   "source": [
    "[] https://www.europarl.europa.eu/election-results-2019/en/turnout/  "
   ]
  },
  {
   "cell_type": "markdown",
   "id": "ac920383-4ac2-49e6-8297-e73b8409c0b0",
   "metadata": {},
   "source": [
    "[] https://www.europeanmovement.ie/irish-general-election-february-2020/  "
   ]
  },
  {
   "cell_type": "markdown",
   "id": "f3a1baf8-6760-4464-918d-3c6d73098925",
   "metadata": {},
   "source": [
    "[] https://www.fairvote.org/what_affects_voter_turnout_rates"
   ]
  },
  {
   "cell_type": "markdown",
   "id": "dd077a54-a85c-41ec-9eed-89632d1b12c2",
   "metadata": {},
   "source": [
    "[] https://www.idea.int/data-tools/country-view/143/40  "
   ]
  },
  {
   "cell_type": "markdown",
   "id": "205a9008-0ad6-41f4-8e9e-36ea6d401c5f",
   "metadata": {},
   "source": [
    "[] https://www.independent.ie/irish-news/abortion-referendum/abortion-referendum-turn-out-is-third-highest-ever-for-a-referendum-in-ireland-36949137.html  "
   ]
  },
  {
   "cell_type": "markdown",
   "id": "02dc18cc-75d1-41dd-ae8f-ecb7fc2604cb",
   "metadata": {},
   "source": [
    "[] https://www.indexmundi.com/ireland/demographics_profile.html  "
   ]
  },
  {
   "cell_type": "markdown",
   "id": "d1ee4545-cef7-43e6-bba9-49698f06cb9e",
   "metadata": {},
   "source": [
    "[] https://www.ipa.ie/_fileUpload/Documents/LA_Times_Summer_2019.pdf  "
   ]
  },
  {
   "cell_type": "markdown",
   "id": "700e659d-bbc5-467b-aa16-aace75d2bbb5",
   "metadata": {},
   "source": [
    "[] https://www.irishtimes.com/news/politics/urban-rural-divide-among-voters-made-clear-by-turnout-figures-1.1553322  "
   ]
  },
  {
   "cell_type": "markdown",
   "id": "a98eb29a-16ed-4930-b904-2c60289cb89e",
   "metadata": {},
   "source": [
    "[] https://www.maynoothuniversity.ie/research/spotlight-research/getting-out-vote-what-influences-voter-turnout"
   ]
  },
  {
   "cell_type": "markdown",
   "id": "b02fb232-d30f-49a3-8df7-34ff63b8ccb5",
   "metadata": {},
   "source": [
    "[] https://numpy.org/doc/stable/reference/random/generated/numpy.random.binomial.html  "
   ]
  },
  {
   "cell_type": "markdown",
   "id": "a753ec87-9c10-4cd4-906f-fae9f44ae777",
   "metadata": {},
   "source": [
    "[] https://ourworldindata.org/age-structure  "
   ]
  },
  {
   "cell_type": "markdown",
   "id": "80460fee-2b2b-4d35-bbfb-159ff886d2e6",
   "metadata": {},
   "source": [
    "[] https://python-course.eu/numerical-programming/weighted-probabilities.php  "
   ]
  },
  {
   "cell_type": "markdown",
   "id": "09c6926b-5364-4689-b0e2-9ded33c22906",
   "metadata": {},
   "source": [
    "[] https://www.refcom.ie/previous-referendums/  "
   ]
  },
  {
   "cell_type": "markdown",
   "id": "24de3607-5103-4ac0-a0b4-1423992abc87",
   "metadata": {},
   "source": [
    "[] https://www.researchgate.net/publication/228215776_What_Affects_Voter_Turnout"
   ]
  },
  {
   "cell_type": "markdown",
   "id": "aed91220-913b-41b4-90e6-f7c52120b008",
   "metadata": {},
   "source": [
    "[] https://www.researchgate.net/publication/253829692_The_geography_of_Irish_voter_turnout_A_case_study_of_the_2002_general_election  "
   ]
  },
  {
   "cell_type": "markdown",
   "id": "f48a666f-e288-4c36-b150-a2824b8e5d91",
   "metadata": {},
   "source": [
    "[] https://www.rte.ie/brainstorm/2018/1019/1005247-voter-turnout-elections-ireland/  "
   ]
  },
  {
   "cell_type": "markdown",
   "id": "b371bdaf-665d-460a-bd5d-513d73c6416a",
   "metadata": {},
   "source": [
    "[] https://www.rte.ie/news/2019/0526/1051741-divorce-referendum/  "
   ]
  },
  {
   "cell_type": "markdown",
   "id": "8e5580dd-ceee-438a-9b04-e3b8ed578f46",
   "metadata": {},
   "source": [
    "[] https://www.rte.ie/news/elections-2019/results/#/local  "
   ]
  },
  {
   "cell_type": "markdown",
   "id": "cce9e959-c7bc-478a-8dc9-0127461c11e1",
   "metadata": {},
   "source": [
    "[] https://www.statista.com/statistics/710767/irish-population-by-age/  "
   ]
  },
  {
   "cell_type": "markdown",
   "id": "0b3360e3-b1b9-49d8-8988-f70e601a2411",
   "metadata": {},
   "source": [
    "[] https://www.tcd.ie/Political_Science/people/michael_gallagher/Election2016.php  "
   ]
  },
  {
   "cell_type": "markdown",
   "id": "d10e5b4a-189f-417f-88d8-9abc4b4ea9bf",
   "metadata": {},
   "source": [
    "[] https://towardsdatascience.com/bernoulli-and-binomial-random-variables-d0698288dd36  "
   ]
  },
  {
   "cell_type": "markdown",
   "id": "41afaf5d-299b-462a-9794-e2445068e892",
   "metadata": {},
   "source": [
    "[] https://tradingeconomics.com/ireland/rural-population-percent-of-total-population-wb-data.html  "
   ]
  },
  {
   "cell_type": "markdown",
   "id": "0f237d97-db6e-4951-87fe-b7ef2579deb9",
   "metadata": {},
   "source": [
    "[] https://www.thejournal.ie/low-turnout-presidential-election-4309871-Oct2018/  "
   ]
  },
  {
   "cell_type": "markdown",
   "id": "365e5eee-7b0e-4a49-bc68-98898be4f293",
   "metadata": {},
   "source": [
    "[] https://towardsdatascience.com/building-a-logistic-regression-in-python-step-by-step-becd4d56c9c8  "
   ]
  },
  {
   "cell_type": "markdown",
   "id": "cbda8d5d-e517-4b5c-acaf-4a40ee8e24da",
   "metadata": {},
   "source": [
    "<br>"
   ]
  },
  {
   "cell_type": "markdown",
   "id": "93ed92aa-ac62-4a8c-86d7-288933cb5749",
   "metadata": {},
   "source": [
    "# End\n",
    "***"
   ]
  }
 ],
 "metadata": {
  "kernelspec": {
   "display_name": "Python 3",
   "language": "python",
   "name": "python3"
  },
  "language_info": {
   "codemirror_mode": {
    "name": "ipython",
    "version": 3
   },
   "file_extension": ".py",
   "mimetype": "text/x-python",
   "name": "python",
   "nbconvert_exporter": "python",
   "pygments_lexer": "ipython3",
   "version": "3.8.8"
  }
 },
 "nbformat": 4,
 "nbformat_minor": 5
}
