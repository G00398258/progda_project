{
 "cells": [
  {
   "cell_type": "markdown",
   "id": "a222a140-ed6e-47e4-8947-14565331ff9c",
   "metadata": {},
   "source": [
    "# Programming for Data Analysis - Project\n",
    "***"
   ]
  },
  {
   "cell_type": "markdown",
   "id": "9dbb7ce4-ecae-49f0-b986-48daea24b77c",
   "metadata": {},
   "source": [
    "This notebook will contain my submission for the project piece of the assessment in the Programming for Data Analysis module, Winter 2021."
   ]
  },
  {
   "cell_type": "markdown",
   "id": "4ec0d75b-adee-4113-a997-31d0c9e4dd51",
   "metadata": {},
   "source": [
    "<br>"
   ]
  },
  {
   "cell_type": "markdown",
   "id": "5b1e4f8b-1347-47de-9fdd-f89866583cc8",
   "metadata": {},
   "source": [
    "### Problem Statement\n",
    "***"
   ]
  },
  {
   "cell_type": "markdown",
   "id": "7d288433-be34-48b1-bd1f-496c4aafd552",
   "metadata": {},
   "source": [
    "For this project you must create a data set by simulating a real-world phenomenon of\n",
    "your choosing. You may pick any phenomenon you wish – you might pick one that is\n",
    "of interest to you in your personal or professional life. Then, rather than collect data\n",
    "related to the phenomenon, you should model and synthesise such data using Python.\n",
    "We suggest you use the numpy.random package for this purpose."
   ]
  },
  {
   "cell_type": "markdown",
   "id": "ad84a33e-d5d5-472f-a88b-70a979317525",
   "metadata": {},
   "source": [
    "<br>"
   ]
  },
  {
   "cell_type": "markdown",
   "id": "a3be862f-44ca-48b1-ab7f-de3f75873be3",
   "metadata": {},
   "source": [
    "### Ideas\n",
    "***"
   ]
  },
  {
   "cell_type": "markdown",
   "id": "c6673a5b-4ad9-4874-b3a4-b517e8497b81",
   "metadata": {},
   "source": [
    "1. Covid hospital admissions with variables gender, age, vaccination status, underlying health condition"
   ]
  },
  {
   "cell_type": "markdown",
   "id": "d92c3869-1d3e-4b39-bd62-12d956ff515c",
   "metadata": {},
   "source": [
    "2. Voter turnout with possible variables age, socio-economic status, family history of voting, proximity to polling station, day of voting, political mobilisation, type of election, compulsory voting"
   ]
  },
  {
   "cell_type": "markdown",
   "id": "4a726e81-85ff-4e99-8040-7d72e5313331",
   "metadata": {},
   "source": []
  },
  {
   "cell_type": "code",
   "execution_count": null,
   "id": "9af5c20d-12d6-4f71-aad6-a23229b923fb",
   "metadata": {},
   "outputs": [],
   "source": []
  },
  {
   "cell_type": "code",
   "execution_count": null,
   "id": "71060a9c-9328-4729-903d-569d56738e46",
   "metadata": {},
   "outputs": [],
   "source": []
  },
  {
   "cell_type": "code",
   "execution_count": null,
   "id": "e013152f-1f7a-4018-b46e-c730a5a190af",
   "metadata": {},
   "outputs": [],
   "source": []
  },
  {
   "cell_type": "code",
   "execution_count": null,
   "id": "9b11e546-e203-47f1-9718-54404e2139c2",
   "metadata": {},
   "outputs": [],
   "source": []
  },
  {
   "cell_type": "code",
   "execution_count": null,
   "id": "446a04be-0295-4e5b-8afe-fde54596bafa",
   "metadata": {},
   "outputs": [],
   "source": []
  },
  {
   "cell_type": "markdown",
   "id": "f0008e04-9a63-4dbb-86ae-5daed3358ffd",
   "metadata": {},
   "source": [
    "### References\n",
    "***\n"
   ]
  },
  {
   "cell_type": "markdown",
   "id": "f3a1baf8-6760-4464-918d-3c6d73098925",
   "metadata": {},
   "source": [
    "https://www.fairvote.org/what_affects_voter_turnout_rates"
   ]
  },
  {
   "cell_type": "markdown",
   "id": "a98eb29a-16ed-4930-b904-2c60289cb89e",
   "metadata": {},
   "source": [
    "https://www.maynoothuniversity.ie/research/spotlight-research/getting-out-vote-what-influences-voter-turnout"
   ]
  },
  {
   "cell_type": "markdown",
   "id": "24de3607-5103-4ac0-a0b4-1423992abc87",
   "metadata": {},
   "source": [
    "https://www.researchgate.net/publication/228215776_What_Affects_Voter_Turnout"
   ]
  },
  {
   "cell_type": "markdown",
   "id": "0b3360e3-b1b9-49d8-8988-f70e601a2411",
   "metadata": {},
   "source": []
  }
 ],
 "metadata": {
  "kernelspec": {
   "display_name": "Python 3",
   "language": "python",
   "name": "python3"
  },
  "language_info": {
   "codemirror_mode": {
    "name": "ipython",
    "version": 3
   },
   "file_extension": ".py",
   "mimetype": "text/x-python",
   "name": "python",
   "nbconvert_exporter": "python",
   "pygments_lexer": "ipython3",
   "version": "3.8.8"
  }
 },
 "nbformat": 4,
 "nbformat_minor": 5
}
