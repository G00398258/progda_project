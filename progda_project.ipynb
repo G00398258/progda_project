{
 "cells": [
  {
   "cell_type": "markdown",
   "id": "a222a140-ed6e-47e4-8947-14565331ff9c",
   "metadata": {},
   "source": [
    "# Programming for Data Analysis - Project\n",
    "***"
   ]
  },
  {
   "cell_type": "markdown",
   "id": "9dbb7ce4-ecae-49f0-b986-48daea24b77c",
   "metadata": {},
   "source": [
    "This notebook will contain my submission for the project piece of the assessment in the Programming for Data Analysis module, Winter 2021."
   ]
  },
  {
   "cell_type": "markdown",
   "id": "4ec0d75b-adee-4113-a997-31d0c9e4dd51",
   "metadata": {},
   "source": [
    "<br>"
   ]
  },
  {
   "cell_type": "markdown",
   "id": "a259b16d-c5ca-4ed2-b71c-22822e910a99",
   "metadata": {},
   "source": [
    "### Modules Required\n",
    "***"
   ]
  },
  {
   "cell_type": "code",
   "execution_count": 1,
   "id": "47fa8626-874e-41dd-82e6-402e28ff74d8",
   "metadata": {},
   "outputs": [],
   "source": [
    "# NumPy for numerical operations\n",
    "import numpy as np\n",
    "\n",
    "# Pandas\n",
    "import pandas as pd\n",
    "\n",
    "# Statistics\n",
    "import statistics"
   ]
  },
  {
   "cell_type": "markdown",
   "id": "2f4887e2-16c9-4e0a-b7b6-d24891aa8762",
   "metadata": {},
   "source": [
    "<br>"
   ]
  },
  {
   "cell_type": "markdown",
   "id": "5b1e4f8b-1347-47de-9fdd-f89866583cc8",
   "metadata": {},
   "source": [
    "### Problem Statement\n",
    "***"
   ]
  },
  {
   "cell_type": "markdown",
   "id": "7d288433-be34-48b1-bd1f-496c4aafd552",
   "metadata": {},
   "source": [
    "For this project you must create a data set by simulating a real-world phenomenon of\n",
    "your choosing. You may pick any phenomenon you wish – you might pick one that is\n",
    "of interest to you in your personal or professional life. Then, rather than collect data\n",
    "related to the phenomenon, you should model and synthesise such data using Python.\n",
    "We suggest you use the numpy.random package for this purpose."
   ]
  },
  {
   "cell_type": "markdown",
   "id": "ad84a33e-d5d5-472f-a88b-70a979317525",
   "metadata": {},
   "source": [
    "<br>"
   ]
  },
  {
   "cell_type": "markdown",
   "id": "a3be862f-44ca-48b1-ab7f-de3f75873be3",
   "metadata": {},
   "source": [
    "### Ideas\n",
    "***"
   ]
  },
  {
   "cell_type": "markdown",
   "id": "c6673a5b-4ad9-4874-b3a4-b517e8497b81",
   "metadata": {},
   "source": [
    "1. Covid hospital admissions with variables gender, age, vaccination status, underlying health condition"
   ]
  },
  {
   "cell_type": "markdown",
   "id": "d92c3869-1d3e-4b39-bd62-12d956ff515c",
   "metadata": {},
   "source": [
    "2. Voter turnout with possible variables age, socio-economic status, family history of voting, proximity to polling station, day of voting, political mobilisation, type of election, compulsory voting"
   ]
  },
  {
   "cell_type": "markdown",
   "id": "4a726e81-85ff-4e99-8040-7d72e5313331",
   "metadata": {},
   "source": [
    "<br>"
   ]
  },
  {
   "cell_type": "markdown",
   "id": "d10ffeb9-187e-4217-b7f2-1c8b7ce17e7a",
   "metadata": {},
   "source": [
    "### Intention & Scope\n",
    "***"
   ]
  },
  {
   "cell_type": "markdown",
   "id": "073f7d9e-4a30-4114-8cac-7c4d475cac3d",
   "metadata": {},
   "source": [
    "Simulate a dataset showing the results of whether a person on the register of electors chooses to exercise their right to vote in a general or local election in Ireland. (Note: referendums and European elections are excluded, as British and other non-EU citizens resident in Ireland are excluded from voting, resulting in some people on the register of elector being ineligible to vote in those elections.)"
   ]
  },
  {
   "cell_type": "markdown",
   "id": "e1008a62-6a9d-4135-9ebd-dc7d2f5f6346",
   "metadata": {},
   "source": [
    "<br>"
   ]
  },
  {
   "cell_type": "markdown",
   "id": "bd0e2295-2f7f-4b89-aec1-f99169aa7054",
   "metadata": {},
   "source": [
    "### Variables to Investigate\n",
    "***"
   ]
  },
  {
   "cell_type": "markdown",
   "id": "efd03618-775a-49b2-8296-36e5176dbbf6",
   "metadata": {},
   "source": [
    "Main point to investigate: whether a person votes in a particular election or not"
   ]
  },
  {
   "cell_type": "markdown",
   "id": "c90c33e6-2e3c-40da-895c-a306020b75ba",
   "metadata": {},
   "source": [
    "Other variables to investigate:  \n",
    "\n",
    "- age of citizen  \n",
    "- socio-economic status  \n",
    "- type of election  \n",
    "-  proximity to polling station  \n",
    "- family history of voting  \n"
   ]
  },
  {
   "cell_type": "markdown",
   "id": "039629e2-9783-4038-9b67-f8a6b51c5115",
   "metadata": {},
   "source": [
    "<br>"
   ]
  },
  {
   "cell_type": "markdown",
   "id": "9e462d34-7ddd-4d6d-a4f0-7015c3b61499",
   "metadata": {},
   "source": [
    "### Who is Entitled to Vote?\n",
    "***"
   ]
  },
  {
   "cell_type": "markdown",
   "id": "b4b5d7f3-01b1-4f63-82b0-ad4f126f8603",
   "metadata": {},
   "source": [
    "Election: General election (and Presidential)  \n",
    "Entitled to vote: Citizens 18 and over; British citizens resident  \n",
    "To calculate estimated Voting-Age Population: Population aged 18 and overmminus non-Irish citizens but including British citizens  \n",
    "\n",
    "Election: Referendum  \n",
    "Entitled to vote: Irish citizens aged 18 and over  \n",
    "To calculate estimated Voting-Age Population: Population aged 18 and overminus all non-Irish citizens (i.e. excluding British citizens resident in Ireland)  \n",
    "\n",
    "Election: Local elections  \n",
    "Entitled to vote: All residents (of 12 months) aged 18 or over  \n",
    "To calculate estimated Voting-Age Population: Population aged 18 and over  \n",
    "\n",
    "Election: European elections  \n",
    "Entitled to vote: Irish citizens and all residents who are citizens of EU Member States  \n",
    "To calculate estimated Voting-Age Population: Population aged 18 and over minus non-EU citizens  "
   ]
  },
  {
   "cell_type": "markdown",
   "id": "4328706a-43c9-4530-bf98-0c931095f436",
   "metadata": {},
   "source": [
    "*Ref:* Data oireachtais"
   ]
  },
  {
   "cell_type": "markdown",
   "id": "d0b017bf-0eeb-4f27-a192-4155e19c0286",
   "metadata": {},
   "source": [
    "<br>"
   ]
  },
  {
   "cell_type": "markdown",
   "id": "a77ae7c2-d5bb-422e-9a31-fed8f0722629",
   "metadata": {},
   "source": [
    "### Investigating Voter Turnout in Ireland\n",
    "***"
   ]
  },
  {
   "cell_type": "markdown",
   "id": "fd6534db-c0a9-4300-874d-998ccc689ea2",
   "metadata": {},
   "source": [
    "From data.oireachtais.ie - Turnout amongst the 18-25 age groups is lower than average in most European countries.\n",
    "Cross-national data from the European Social Survey, analysed by political scientist James\n",
    "Sloam, found that average reported turnout since 2000 in 30 Europe countries among the\n",
    "18-25 age category was 59% compared with 82% reported turnout amongst the population\n",
    "as a whole. The Survey also found that there is a strong socio-economic dynamic to this\n",
    "pattern: young people with low levels of educational achievement who are eligible to vote do\n",
    "so in ‘alarmingly small numbers’ (average of 25% since across the 15 European States).... higher turnout has tended to be associated with middle class areas and lower turnouts with working class areas for general elections up to 2002.... very high turnout levels were associated with mainly middle class\n",
    "and mainly settled areas (that is experiencing relatively little population in migration\n",
    "compared with other parts of the city). He also found that turnout was, relatively speaking,\n",
    "higher in older working class communities which tend to be settled. A key determent of turnout, perhaps equally important to the socio-economic background of an area, appears to\n",
    "be the extent to which an area is ‘settled’ or experiences regular population change. "
   ]
  },
  {
   "cell_type": "markdown",
   "id": "dfc53901-741c-4fd2-a9fd-7274d2f94e76",
   "metadata": {},
   "source": [
    "A downward trend in turnout at local elections is clear regardless of which measure is\n",
    "used. Over the period from 1967 to 1999 turnout fell from 67 per cent to 50 per cent\n",
    "(REG). This trend was reversed in 2004, when an official turnout of 59% was\n",
    "recorded, a level almost maintained in 2009 (58 % turnout).\n",
    "15 However, in 2014, turnout dropped back to 51.6%, the second lowest official turnout level in Irish local\n",
    "elections...turnout in local elections has tended to be higher in rural areas, the 2014 local elections saw a narrowing of this urban-rural difference..."
   ]
  },
  {
   "cell_type": "markdown",
   "id": "c06c002b-7651-4d61-aa62-00b3fe3c4a13",
   "metadata": {},
   "source": [
    "Year Subject Turnout Result\n",
    "1937 Draft Constitution 75.8% Yes\n",
    "1959 PR 58.4% No\n",
    "1968 Redrawing of constituencies 65.8% No\n",
    "1968 Constituencies 65.8% No\n",
    "1972 Accession to the EC 70.9% Yes\n",
    "1972 Reducing voting age to 18 50.7% Yes\n",
    "1972 Recognition of specified religions 50.7% Yes\n",
    "1979 Adoption 28.6% Yes\n",
    "1979 University representation in Seanad 28.6% Yes\n",
    "1983 Right to life of unborn 53.7% Yes\n",
    "1984 Extension of voting rights at Dáil elections 47.5% Yes\n",
    "1986 Dissolution of marriage 60.8% No\n",
    "1987 Single European Act 44.1% Yes\n",
    "1992 Maastricht Treaty 57.3% Yes\n",
    "1992 Right to life of unborn 68.2% No\n",
    "1992 Right to travel 68.2% Yes\n",
    "1992 Right to information 68.1% Yes\n",
    "1995 Dissolution of marriage 62.1% Yes\n",
    "1996 Bail 29.2% Yes\n",
    "1997 Cabinet confidentiality 47.2% Yes\n",
    "1998 Amsterdam Treaty 56.2% Yes\n",
    "1998 British-Irish Agreement 56.2% Yes\n",
    "1999 Local government 51.1% Yes\n",
    "2001 Death penalty 34.8% Yes\n",
    "2001 International Criminal Court 34.8% Yes\n",
    "2001 Treaty of Nice 34.8% No\n",
    "2002 Protection of life in pregnancy 42.8% No\n",
    "2002 Treaty of Nice 49.5% Yes\n",
    "2004 Citizenship 59.9% Yes\n",
    "2008 Lisbon Treaty 53.1% No\n",
    "2009 Lisbon Treaty 59.0% Yes\n",
    "2011 Judges' remuneration 55.9% Yes\n",
    "2011 Oireachtas inquiries 55.9% No\n",
    "2012 Stability EMU 50.60% Yes\n",
    "2012 Children 33.50% Yes\n",
    "2013 Seanad abolition 39.2% No\n",
    "2013 Court of Appeal 39.2% Yes\n",
    "2015 Marriage equality 60.5% Yes\n",
    "2015 Age of eligibility to be President 60.5% No "
   ]
  },
  {
   "cell_type": "markdown",
   "id": "97b7bc75-2fe3-4e6b-b31e-ff078f4ebcc2",
   "metadata": {},
   "source": [
    "Note that the eligible voting population for Referendums is smaller in size than that for\n",
    "General Elections as it excludes British citizens resident in Ireland. Yet turnout (REG) is\n",
    "reported as a proportion of the number of voters on the electoral register for general\n",
    "elections. Actual turnout is therefore always some percentage points higher than reported\n",
    "turnout... volatility in the level of turnout at referendums which has ranged from 28.6%\n",
    "in the 1979 referendum on adoption rights and Seanad university representation to\n",
    "75.8% in the 1937 referendum on the Constitution.\n",
    " Research into the reasons for abstaining in referendums, considered in more detail in\n",
    "Section 6, suggests that the perceived saliency and profile of the issue affects this\n",
    "decision with referendums on moral issues and some European issues frequently\n",
    "having higher turnout..."
   ]
  },
  {
   "cell_type": "markdown",
   "id": "1c734478-957e-4cbe-88e6-e277eb3d59db",
   "metadata": {},
   "source": [
    "turnout is lowest amongst students and the\n",
    "unemployed...In referendums, post-poll surveys undertaken by the Referendum Commission suggests\n",
    "that non-voters are circumstantial or voluntary (lack of interest) in equal numbers. A\n",
    "substantial category of non-voters also cite ‘lack of/insufficient understanding’ which, while\n",
    "slightly different to ‘lack of interest,’ also fits into the intentional rather than the circumstantial\n",
    "category. The Commission has found a direct relationship between the level of\n",
    "understanding of the referendum proposal, and the propensity to vote..."
   ]
  },
  {
   "cell_type": "markdown",
   "id": "fa8e44ec-5892-4852-905a-343a24df41f4",
   "metadata": {},
   "source": [
    "### Data for variable: overall turnout  \n",
    "***"
   ]
  },
  {
   "cell_type": "markdown",
   "id": "caa97c7c-5eca-47cd-8e82-4e09dc2d68b0",
   "metadata": {},
   "source": [
    "According to the article \"Election Turnout in Ireland: measurement, trends and policy implications\", published by the Oireachtas Library & Research Service in 2016, voter turnout is measured in two ways. Firstly, it can be measured as a percentage of all voters on the electoral register (REG), or it can be measured e as a percentage of the estimated voting-age population (VAP). Depending on the type of election, one measurement may be considered a more accurate reflection of voter turnout.  "
   ]
  },
  {
   "cell_type": "markdown",
   "id": "5c631dd7-d1c1-4d8f-b207-e00ab786c7a4",
   "metadata": {},
   "source": [
    "Observations: steadily downward trend across turnout in both general and local elections.  "
   ]
  },
  {
   "cell_type": "markdown",
   "id": "1adfdac0-0e03-4af4-a27a-f3db55c25906",
   "metadata": {},
   "source": [
    "**Turnout at general elections**  \n",
    "For general elections, I will be using the VAP data available where possible. VAP is considered a better method of measuring turnout in GEs, as the REG figure is inflated due to the inclusion of deceased people and/or duplicate records.  \n",
    "\n",
    "1981 81%  \n",
    "1982 78%  \n",
    "1987 78%  \n",
    "1989 73%  \n",
    "1992 73%  \n",
    "1997 71%  \n",
    "2002 68%  \n",
    "2007 72%  \n",
    "2011 73%  \n",
    "2016 69.28%  \n",
    "2020 67.68%  \n",
    "\n",
    "*Note:* only REG figures were available for the 2016 & 2020 GEs. In order to estimate the VAP figure, I took the difference between the VAP & REG figures for the previous 9 GEs, and calculated the average difference between the two figures, which was VAP being 4.78% higher than the corresponding REG figure. This was then added to the REG figures for GE 2016 (64.5%) and GE 2020 (62.9%) to get the figures shown above.  \n",
    "\n",
    "*Ref:* European movement & data oireachtais"
   ]
  },
  {
   "cell_type": "code",
   "execution_count": 10,
   "id": "95d87e90-504c-4ed5-a6af-9d5316ee1ced",
   "metadata": {},
   "outputs": [
    {
     "name": "stdout",
     "output_type": "stream",
     "text": [
      "The mean voter turnout in the last 10 Irish general elections was 72.296 %\n"
     ]
    }
   ],
   "source": [
    "# Calculating the mean turnout in the last 10 Irish general elections\n",
    "gen_results = (78, 78, 73, 73, 71, 68, 72, 73, 69.28, 67.68)\n",
    "mean_gen_results = statistics.mean(gen_results)\n",
    "print (\"The mean voter turnout in the last 10 Irish general elections was\", mean_gen_results,\"%\")"
   ]
  },
  {
   "cell_type": "markdown",
   "id": "bab0a03a-aaf8-4455-94d0-38cd1bd489ee",
   "metadata": {},
   "source": [
    "**Turnout at local elections**  \n",
    "I'm going to use the REG figure when looking at turnout in local elections, as this is considered more accurate in this kind of election due to the larger number of people entitled to vote (ref Data oireachtais).  \n",
    "\n",
    "1967 67%  \n",
    "1974 62.1%  \n",
    "1979 63.6%  \n",
    "1985 59%  \n",
    "1991 55.6%  \n",
    "1999 50.2%  \n",
    "2004 58.6%    \n",
    "2009 57.8%  \n",
    "2014 51.7%  \n",
    "2019 50.2%  \n",
    "\n",
    "*Ref:* RTE & data oireachtais\n"
   ]
  },
  {
   "cell_type": "code",
   "execution_count": 3,
   "id": "20b6cf5b-984e-4362-8810-c448747b08a7",
   "metadata": {},
   "outputs": [
    {
     "name": "stdout",
     "output_type": "stream",
     "text": [
      "The average voter turnout in the last 10 Irish local elections was 57.58 %\n"
     ]
    }
   ],
   "source": [
    "# Calculating the average turnout in the last 10 Irish local elections\n",
    "loc_results = (67, 62.1, 63.6, 59, 55.6, 50.2, 58.6, 57.8, 51.7, 50.2)\n",
    "ave_loc_results = statistics.mean(loc_results)\n",
    "print (\"The average voter turnout in the last 10 Irish local elections was\", ave_loc_results,\"%\")"
   ]
  },
  {
   "cell_type": "markdown",
   "id": "acf1b616-debc-4d79-bd7a-59da91012bd5",
   "metadata": {},
   "source": [
    "<br>"
   ]
  },
  {
   "cell_type": "markdown",
   "id": "d0a12f3a-b1fa-4b60-b25e-1c8981c61e44",
   "metadata": {},
   "source": [
    "**Turnout at Referendums**  "
   ]
  },
  {
   "cell_type": "markdown",
   "id": "c7718376-adfe-4d98-91a7-3448b528494c",
   "metadata": {},
   "source": [
    "As was the case for General Elections, the VAP method of measuring turnout may be the better option for Referendums, as not everyone on the register is entitled to vote in them.  "
   ]
  },
  {
   "cell_type": "markdown",
   "id": "a82caeda-5a5b-4197-87c9-2333fe309020",
   "metadata": {},
   "source": [
    "*Note:* only REG figures were available for the 2016 & 2020 GEs. In order to estimate the VAP figure, I took the difference between the VAP & REG figures for the previous 9 GEs, and calculated the average difference between the two figures, which was VAP being 4.78% higher than the corresponding REG figure. This was then added to the REG figures for GE 2016 (64.5%) and GE 2020 (62.9%) to get the figures shown abov"
   ]
  },
  {
   "cell_type": "code",
   "execution_count": null,
   "id": "91de4ecd-a225-466c-8d45-f0b2505ec07a",
   "metadata": {},
   "outputs": [],
   "source": []
  },
  {
   "cell_type": "code",
   "execution_count": null,
   "id": "660ade81-49f2-4350-a74a-374a7c09257c",
   "metadata": {},
   "outputs": [],
   "source": []
  },
  {
   "cell_type": "markdown",
   "id": "d8f99559-1cac-4ab8-a0db-cbfc2305be9d",
   "metadata": {},
   "source": [
    "<br>"
   ]
  },
  {
   "cell_type": "markdown",
   "id": "45ce9e66-9655-4c91-8e2a-0091721cb741",
   "metadata": {},
   "source": [
    "### Data for variable: voter turnout in different age groups\n",
    "***"
   ]
  },
  {
   "cell_type": "markdown",
   "id": "745b20a2-a999-4c5a-a130-8eb403cce0d6",
   "metadata": {},
   "source": [
    "**Voter turnout in 18-25 age group**  \n",
    "2002 53.3% vs. 76.3% across all ages  \n",
    "2007 69.2% vs. 79.2%  \n",
    "2011 75.4% vs. 89.7%  \n",
    "\n",
    "average reported turnout since 2000 in 30 Europe countries among the 18-25 age category was 59% compared with 82% reported turnout amongst the population as a whole\n",
    "\n",
    "*Ref:* Data oireachtais"
   ]
  },
  {
   "cell_type": "markdown",
   "id": "e06e74fb-2632-41ab-9084-3644473bb22e",
   "metadata": {},
   "source": [
    "**Distribution of Age Across Irish Population**  "
   ]
  },
  {
   "cell_type": "markdown",
   "id": "1bb166c7-2899-4c72-9fd5-a1e6004e127c",
   "metadata": {},
   "source": [
    "The following breakdown of the Irish population was copied from indexmundi.com:  "
   ]
  },
  {
   "cell_type": "markdown",
   "id": "90ab16cc-88a5-4698-8d3a-938e417adb21",
   "metadata": {},
   "source": [
    "0-14 years: 21.15% (male 560,338/female 534,570)  \n",
    "\n",
    "15-24 years: 12.08% (male 316,239/female 308,872)  \n",
    "\n",
    "25-54 years: 42.19% (male 1,098,058/female 1,085,794)  \n",
    "\n",
    "55-64 years: 10.77% (male 278,836/female 278,498)  \n",
    "\n",
    "65 years and over: 13.82% (male 331,772/female 383,592) (2020 est.)  "
   ]
  },
  {
   "cell_type": "markdown",
   "id": "d3466510-c7b3-4069-8f34-2d477057533d",
   "metadata": {},
   "source": [
    "_Ref:_ IndexMundi, as of September 2021."
   ]
  },
  {
   "cell_type": "markdown",
   "id": "2b90293e-f003-47c6-88e0-539d48f2dc7c",
   "metadata": {},
   "source": [
    "<br>"
   ]
  },
  {
   "cell_type": "markdown",
   "id": "579afbde-e5d9-4baf-89d0-880482bd230a",
   "metadata": {},
   "source": [
    "For this project, we are interested in the following figures:  "
   ]
  },
  {
   "cell_type": "markdown",
   "id": "926ec208-d171-402a-8148-dec02de3ca21",
   "metadata": {},
   "source": [
    "15-24 years: 625111  \n",
    "25-54 years: 2183852  \n",
    "55-64 years: 557334  \n",
    "65 years and over: 715364  "
   ]
  },
  {
   "cell_type": "markdown",
   "id": "d3b47da7-a616-44de-9f0e-295204167956",
   "metadata": {},
   "source": [
    "<br>"
   ]
  },
  {
   "cell_type": "markdown",
   "id": "ee0b56b8-bbd3-479c-ab45-caf799fe43f2",
   "metadata": {},
   "source": [
    "As we are only interested in the population aged 18 and over, we need to remove any persons aged 15, 16 and 17 from the total figure in the 15-24 years age group (those born in 2004, 2005 & 2006).  "
   ]
  },
  {
   "cell_type": "markdown",
   "id": "45e76e89-c041-40e4-b398-db971dd25127",
   "metadata": {},
   "source": [
    "61,972 born in 2004  \n",
    "61,372 born in 2005  \n",
    "65,425 born in 2006  \n",
    "Total to remove: 188769  \n",
    "_Ref:_ CSO"
   ]
  },
  {
   "cell_type": "markdown",
   "id": "49bdbc28-108e-4c5e-ae08-3ef31713c30b",
   "metadata": {},
   "source": [
    "<br>"
   ]
  },
  {
   "cell_type": "markdown",
   "id": "f155b183-9559-4abc-91cb-508e51136040",
   "metadata": {},
   "source": [
    "Therefore, we will we working with the following figures:  "
   ]
  },
  {
   "cell_type": "markdown",
   "id": "915640c2-c463-40a6-b78a-6cf1b6916268",
   "metadata": {},
   "source": [
    "18-24 years: 436342  \n",
    "25-54 years: 2183852  \n",
    "55-64 years: 557334  \n",
    "65 years and over: 715364  "
   ]
  },
  {
   "cell_type": "code",
   "execution_count": 4,
   "id": "c500a9c6-a12e-4e2b-9896-9d41e854b541",
   "metadata": {},
   "outputs": [
    {
     "name": "stdout",
     "output_type": "stream",
     "text": [
      "The total number of Irish citizens eligible to vote is 3892892\n"
     ]
    }
   ],
   "source": [
    "# Creating some variables to represent these figures\n",
    "age18_24 = 436342\n",
    "age25_54 = 2183852\n",
    "age55_64 = 557334\n",
    "age65_up = 715364\n",
    "total_register = age18_24 + age25_54 + age55_64 + age65_up\n",
    "print (\"The total number of Irish citizens eligible to vote is\", total_register)"
   ]
  },
  {
   "cell_type": "code",
   "execution_count": 5,
   "id": "77b60f56-081d-45a1-add0-86bff34bfc9b",
   "metadata": {},
   "outputs": [],
   "source": [
    "# Breaking down the probability of a randomly drawn citizen being from one of these age groups\n",
    "p_age18_24 = age18_24 / total_register\n",
    "p_age25_54 = age25_54 / total_register\n",
    "p_age55_64 = age55_64 / total_register\n",
    "p_age65_up = age65_up / total_register"
   ]
  },
  {
   "cell_type": "code",
   "execution_count": 6,
   "id": "6b8500a1-8e9c-41ea-96f5-c4938ebc84a9",
   "metadata": {},
   "outputs": [
    {
     "data": {
      "text/plain": [
       "array(['25-54', '25-54', '25-54', '18-24', '25-54', '25-54', '18-24',\n",
       "       '18-24', '25-54', '25-54', '65+', '65+', '25-54', '25-54', '18-24',\n",
       "       '25-54', '25-54', '65+', '25-54', '25-54', '25-54', '25-54',\n",
       "       '25-54', '25-54', '25-54', '55-64', '25-54', '25-54', '25-54',\n",
       "       '55-64', '65+', '25-54', '25-54', '25-54', '25-54', '25-54',\n",
       "       '25-54', '65+', '25-54', '65+', '55-64', '55-64', '25-54', '25-54',\n",
       "       '55-64', '55-64', '25-54', '18-24', '25-54', '25-54', '25-54',\n",
       "       '25-54', '55-64', '25-54', '65+', '25-54', '25-54', '25-54',\n",
       "       '25-54', '25-54', '18-24', '55-64', '25-54', '25-54', '65+',\n",
       "       '25-54', '25-54', '65+', '18-24', '55-64', '25-54', '25-54',\n",
       "       '25-54', '18-24', '25-54', '18-24', '25-54', '25-54', '25-54',\n",
       "       '25-54', '25-54', '65+', '25-54', '65+', '25-54', '65+', '25-54',\n",
       "       '65+', '25-54', '25-54', '65+', '25-54', '25-54', '65+', '55-64',\n",
       "       '18-24', '25-54', '55-64', '55-64', '25-54'], dtype='<U5')"
      ]
     },
     "execution_count": 6,
     "metadata": {},
     "output_type": "execute_result"
    }
   ],
   "source": [
    "# Generating an array of voter age groups using the probability calculated above\n",
    "np.random.choice([\"18-24\", \"25-54\", \"55-64\", \"65+\"], size=(100,), p=[p_age18_24, p_age25_54, p_age55_64, p_age65_up])"
   ]
  },
  {
   "cell_type": "markdown",
   "id": "c1246c2c-52c7-4fa1-a4fa-6b0df8ff1daf",
   "metadata": {},
   "source": [
    "<BR>"
   ]
  },
  {
   "cell_type": "markdown",
   "id": "b8e96a20-0d05-470f-8b13-eb5757f430c1",
   "metadata": {},
   "source": [
    "### Data for variable: type of election\n",
    "***"
   ]
  },
  {
   "cell_type": "markdown",
   "id": "7b02fb98-904a-42c8-82b3-406f0d1b5975",
   "metadata": {},
   "source": [
    "Only two options - General Election or Local Election,  \n",
    "In the last 40 years, there have been 11 general elections in the history of the state compared with just 7 local elections. Therefore the ratio of local elections to general elections is 1 : 1.57, and 61.1% of the last 18 elections in Ireland were General Elections, while 38.9% were local elections.  "
   ]
  },
  {
   "cell_type": "code",
   "execution_count": 7,
   "id": "6165342b-0779-4023-87c3-da03e104fb26",
   "metadata": {},
   "outputs": [
    {
     "data": {
      "text/plain": [
       "array(['loc', 'gen', 'gen', 'loc', 'gen', 'gen', 'loc', 'gen', 'gen',\n",
       "       'gen', 'gen', 'gen', 'gen', 'loc', 'loc', 'gen', 'loc', 'gen',\n",
       "       'gen', 'loc', 'loc', 'loc', 'loc', 'gen', 'gen', 'gen', 'gen',\n",
       "       'gen', 'gen', 'gen', 'loc', 'loc', 'gen', 'gen', 'loc', 'loc',\n",
       "       'gen', 'gen', 'gen', 'gen', 'loc', 'gen', 'gen', 'gen', 'loc',\n",
       "       'gen', 'gen', 'gen', 'gen', 'gen', 'gen', 'loc', 'gen', 'loc',\n",
       "       'gen', 'loc', 'loc', 'gen', 'gen', 'gen', 'loc', 'gen', 'gen',\n",
       "       'gen', 'gen', 'gen', 'gen', 'gen', 'gen', 'gen', 'gen', 'loc',\n",
       "       'loc', 'gen', 'gen', 'gen', 'gen', 'loc', 'loc', 'loc', 'loc',\n",
       "       'loc', 'loc', 'gen', 'loc', 'gen', 'loc', 'loc', 'gen', 'gen',\n",
       "       'loc', 'loc', 'gen', 'loc', 'gen', 'gen', 'gen', 'gen', 'gen',\n",
       "       'gen'], dtype='<U3')"
      ]
     },
     "execution_count": 7,
     "metadata": {},
     "output_type": "execute_result"
    }
   ],
   "source": [
    "# Lets generste an array of election types using the probability discussed above\n",
    "np.random.choice([\"gen\", \"loc\"], size=(100,), p=[0.61, 0.39])"
   ]
  },
  {
   "cell_type": "markdown",
   "id": "95cc07cd-27a7-4983-be37-438b1938517d",
   "metadata": {},
   "source": [
    "<br>"
   ]
  },
  {
   "cell_type": "markdown",
   "id": "f0008e04-9a63-4dbb-86ae-5daed3358ffd",
   "metadata": {},
   "source": [
    "### References\n",
    "***\n"
   ]
  },
  {
   "cell_type": "markdown",
   "id": "8fdba611-aa08-4b2b-9377-98abcd3cfeb4",
   "metadata": {},
   "source": [
    "[] https://adriankavanaghelections.org/  "
   ]
  },
  {
   "cell_type": "markdown",
   "id": "d2941929-8001-47ad-b9c5-b5090ac11073",
   "metadata": {},
   "source": [
    "[] https://www.cso.ie/en/csolatestnews/pressreleases/2006pressreleases/reportonvitalstatistics2004/  "
   ]
  },
  {
   "cell_type": "markdown",
   "id": "d1db2cd7-e624-4fd2-b48a-903ca41a353d",
   "metadata": {},
   "source": [
    "[] https://www.cso.ie/en/csolatestnews/pressreleases/2008pressreleases/reportonvitalstatistics2005/  "
   ]
  },
  {
   "cell_type": "markdown",
   "id": "3bf7dc03-39ae-478f-834c-c7f9569f83bd",
   "metadata": {},
   "source": [
    "[] https://www.cso.ie/en/csolatestnews/pressreleases/2009pressreleases/reportonvitalstatistics2006/  "
   ]
  },
  {
   "cell_type": "markdown",
   "id": "643a75d4-9073-44fc-ae7c-4034ba388983",
   "metadata": {},
   "source": [
    "[] https://www.cso.ie/en/qnhs/qnhsmethodology/voterregistrationandparticipationmodule/"
   ]
  },
  {
   "cell_type": "markdown",
   "id": "ad355da5-0607-4f0b-a372-089753c7ec54",
   "metadata": {},
   "source": [
    "[] https://data.oireachtas.ie/ie/oireachtas/libraryResearch/2016/2016-01-28_l-rs-note-election-turnout-in-ireland-measurement-trends-and-policy-implications_en.pdf"
   ]
  },
  {
   "cell_type": "markdown",
   "id": "ac920383-4ac2-49e6-8297-e73b8409c0b0",
   "metadata": {},
   "source": [
    "[] https://www.europeanmovement.ie/irish-general-election-february-2020/  "
   ]
  },
  {
   "cell_type": "markdown",
   "id": "f3a1baf8-6760-4464-918d-3c6d73098925",
   "metadata": {},
   "source": [
    "[] https://www.fairvote.org/what_affects_voter_turnout_rates"
   ]
  },
  {
   "cell_type": "markdown",
   "id": "02dc18cc-75d1-41dd-ae8f-ecb7fc2604cb",
   "metadata": {},
   "source": [
    "[] https://www.indexmundi.com/ireland/demographics_profile.html  "
   ]
  },
  {
   "cell_type": "markdown",
   "id": "d1ee4545-cef7-43e6-bba9-49698f06cb9e",
   "metadata": {},
   "source": [
    "[] https://www.ipa.ie/_fileUpload/Documents/LA_Times_Summer_2019.pdf  "
   ]
  },
  {
   "cell_type": "markdown",
   "id": "a98eb29a-16ed-4930-b904-2c60289cb89e",
   "metadata": {},
   "source": [
    "[] https://www.maynoothuniversity.ie/research/spotlight-research/getting-out-vote-what-influences-voter-turnout"
   ]
  },
  {
   "cell_type": "markdown",
   "id": "80460fee-2b2b-4d35-bbfb-159ff886d2e6",
   "metadata": {},
   "source": [
    "[] https://python-course.eu/numerical-programming/weighted-probabilities.php  "
   ]
  },
  {
   "cell_type": "markdown",
   "id": "09c6926b-5364-4689-b0e2-9ded33c22906",
   "metadata": {},
   "source": [
    "[] https://www.refcom.ie/previous-referendums/  "
   ]
  },
  {
   "cell_type": "markdown",
   "id": "24de3607-5103-4ac0-a0b4-1423992abc87",
   "metadata": {},
   "source": [
    "[] https://www.researchgate.net/publication/228215776_What_Affects_Voter_Turnout"
   ]
  },
  {
   "cell_type": "markdown",
   "id": "8e5580dd-ceee-438a-9b04-e3b8ed578f46",
   "metadata": {},
   "source": [
    "[] https://www.rte.ie/news/elections-2019/results/#/local  "
   ]
  },
  {
   "cell_type": "markdown",
   "id": "cce9e959-c7bc-478a-8dc9-0127461c11e1",
   "metadata": {},
   "source": [
    "[] https://www.statista.com/statistics/710767/irish-population-by-age/  "
   ]
  },
  {
   "cell_type": "markdown",
   "id": "0b3360e3-b1b9-49d8-8988-f70e601a2411",
   "metadata": {},
   "source": [
    "[] https://www.tcd.ie/Political_Science/people/michael_gallagher/Election2016.php  "
   ]
  },
  {
   "cell_type": "markdown",
   "id": "365e5eee-7b0e-4a49-bc68-98898be4f293",
   "metadata": {},
   "source": [
    "[] https://towardsdatascience.com/building-a-logistic-regression-in-python-step-by-step-becd4d56c9c8  "
   ]
  },
  {
   "cell_type": "code",
   "execution_count": null,
   "id": "3ed243a9-4418-4766-9e4e-7023ec450d1d",
   "metadata": {},
   "outputs": [],
   "source": []
  }
 ],
 "metadata": {
  "kernelspec": {
   "display_name": "Python 3",
   "language": "python",
   "name": "python3"
  },
  "language_info": {
   "codemirror_mode": {
    "name": "ipython",
    "version": 3
   },
   "file_extension": ".py",
   "mimetype": "text/x-python",
   "name": "python",
   "nbconvert_exporter": "python",
   "pygments_lexer": "ipython3",
   "version": "3.8.8"
  }
 },
 "nbformat": 4,
 "nbformat_minor": 5
}
