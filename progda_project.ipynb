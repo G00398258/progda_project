{
 "cells": [
  {
   "cell_type": "markdown",
   "id": "a222a140-ed6e-47e4-8947-14565331ff9c",
   "metadata": {},
   "source": [
    "# Programming for Data Analysis - Project\n",
    "***"
   ]
  },
  {
   "cell_type": "markdown",
   "id": "9dbb7ce4-ecae-49f0-b986-48daea24b77c",
   "metadata": {},
   "source": [
    "This notebook will contain my submission for the project piece of the assessment in the Programming for Data Analysis module, Winter 2021."
   ]
  },
  {
   "cell_type": "markdown",
   "id": "4ec0d75b-adee-4113-a997-31d0c9e4dd51",
   "metadata": {},
   "source": [
    "<br>"
   ]
  },
  {
   "cell_type": "markdown",
   "id": "a259b16d-c5ca-4ed2-b71c-22822e910a99",
   "metadata": {},
   "source": [
    "### Modules Required\n",
    "***"
   ]
  },
  {
   "cell_type": "code",
   "execution_count": 1,
   "id": "47fa8626-874e-41dd-82e6-402e28ff74d8",
   "metadata": {},
   "outputs": [],
   "source": [
    "# NumPy for numerical operations\n",
    "import numpy as np\n",
    "\n",
    "# Pandas for data analysis\n",
    "import pandas as pd\n",
    "\n",
    "# Statistics for descriptive statistics\n",
    "import statistics"
   ]
  },
  {
   "cell_type": "markdown",
   "id": "2f4887e2-16c9-4e0a-b7b6-d24891aa8762",
   "metadata": {},
   "source": [
    "<br>"
   ]
  },
  {
   "cell_type": "markdown",
   "id": "5b1e4f8b-1347-47de-9fdd-f89866583cc8",
   "metadata": {},
   "source": [
    "### Problem Statement\n",
    "***"
   ]
  },
  {
   "cell_type": "markdown",
   "id": "7d288433-be34-48b1-bd1f-496c4aafd552",
   "metadata": {},
   "source": [
    "For this project you must create a data set by simulating a real-world phenomenon of\n",
    "your choosing. You may pick any phenomenon you wish – you might pick one that is\n",
    "of interest to you in your personal or professional life. Then, rather than collect data\n",
    "related to the phenomenon, you should model and synthesise such data using Python.\n",
    "We suggest you use the numpy.random package for this purpose."
   ]
  },
  {
   "cell_type": "markdown",
   "id": "ad84a33e-d5d5-472f-a88b-70a979317525",
   "metadata": {},
   "source": [
    "<br>"
   ]
  },
  {
   "cell_type": "markdown",
   "id": "d10ffeb9-187e-4217-b7f2-1c8b7ce17e7a",
   "metadata": {},
   "source": [
    "### Intention & Scope\n",
    "***"
   ]
  },
  {
   "cell_type": "markdown",
   "id": "de884d09-360f-41ac-a3d2-70ca3ccf0871",
   "metadata": {},
   "source": [
    "For this project, I will be investigating the phenomenon of voter turnout. In this notebook, I intend to simulate a dataset using Python which would show the results of a survey carried out on 100 voting aged Irish citizens. The dataset will show the age of the person surveyed, their location (urban or rural) and the election type. The final value in the dataset will be the answer they provide to the question \"Did you vote or abstain in this particular election?\".  \n",
    "Please note that the idea behind the dataset would be that these 100 people would not all be surveyed on the same day, so their responses will be in relation to different election types.  "
   ]
  },
  {
   "cell_type": "markdown",
   "id": "e1008a62-6a9d-4135-9ebd-dc7d2f5f6346",
   "metadata": {},
   "source": [
    "<br>"
   ]
  },
  {
   "cell_type": "markdown",
   "id": "bd0e2295-2f7f-4b89-aec1-f99169aa7054",
   "metadata": {},
   "source": [
    "### Variables to Investigate\n",
    "***"
   ]
  },
  {
   "cell_type": "markdown",
   "id": "efd03618-775a-49b2-8296-36e5176dbbf6",
   "metadata": {},
   "source": [
    "The most interesting point to investigate in this project will be whether or not the person voted or abstained in the election they are surveyed for, so this will be the final variable. With that in mind, I will be investigating the relationship between the following variables:    \n",
    "\n",
    "- type of election \n",
    "- age of citizen  \n",
    "- voter location  \n",
    "- voted/abstained  "
   ]
  },
  {
   "cell_type": "markdown",
   "id": "039629e2-9783-4038-9b67-f8a6b51c5115",
   "metadata": {},
   "source": [
    "<br>"
   ]
  },
  {
   "cell_type": "markdown",
   "id": "9e462d34-7ddd-4d6d-a4f0-7015c3b61499",
   "metadata": {},
   "source": [
    "### Background: Who is Entitled to Vote?\n",
    "***"
   ]
  },
  {
   "cell_type": "markdown",
   "id": "c05e4f61-52a5-4f62-9817-b3d53f23a588",
   "metadata": {},
   "source": [
    "For background purposes (and to refresh my own memory), I researched and found the following requirements for voting in different elections in the Republic of Ireland:  "
   ]
  },
  {
   "cell_type": "markdown",
   "id": "b4b5d7f3-01b1-4f63-82b0-ad4f126f8603",
   "metadata": {},
   "source": [
    "Election: General election (and Presidential)  \n",
    "Entitled to vote: Citizens 18 and over; British citizens resident  \n",
    "To calculate estimated Voting-Age Population: Population aged 18 and over minus non-Irish citizens but including British citizens  \n",
    "\n",
    "Election: Referendum  \n",
    "Entitled to vote: Irish citizens aged 18 and over  \n",
    "To calculate estimated Voting-Age Population: Population aged 18 and overminus all non-Irish citizens (i.e. excluding British citizens resident in Ireland)  \n",
    "\n",
    "Election: Local elections  \n",
    "Entitled to vote: All residents (of 12 months) aged 18 or over  \n",
    "To calculate estimated Voting-Age Population: Population aged 18 and over  \n",
    "\n",
    "Election: European elections  \n",
    "Entitled to vote: Irish citizens and all residents who are citizens of EU Member States  \n",
    "To calculate estimated Voting-Age Population: Population aged 18 and over minus non-EU citizens  "
   ]
  },
  {
   "cell_type": "markdown",
   "id": "4328706a-43c9-4530-bf98-0c931095f436",
   "metadata": {},
   "source": [
    "*Ref:* Data Oireachtas [8]"
   ]
  },
  {
   "cell_type": "markdown",
   "id": "d0b017bf-0eeb-4f27-a192-4155e19c0286",
   "metadata": {},
   "source": [
    "<br>"
   ]
  },
  {
   "cell_type": "markdown",
   "id": "fa8e44ec-5892-4852-905a-343a24df41f4",
   "metadata": {},
   "source": [
    "### Investigating Overall Turnout\n",
    "***"
   ]
  },
  {
   "cell_type": "markdown",
   "id": "caa97c7c-5eca-47cd-8e82-4e09dc2d68b0",
   "metadata": {},
   "source": [
    "According to the article \"Election Turnout in Ireland: measurement, trends and policy implications\", published by the Oireachtas Library & Research Service in 2016 [8], voter turnout is measured in two ways. Firstly, it can be measured as a percentage of all voters on the electoral register (REG), or it can be measured e as a percentage of the estimated voting-age population (VAP). Depending on the type of election, one measurement may be considered a more accurate reflection of voter turnout.  \n",
    "The research I conducted over the course of completing this project showed that voter turnout varied across the different types of elections held in Ireland over the last 30 years, as detailed in the sections below.  "
   ]
  },
  {
   "cell_type": "markdown",
   "id": "06167de2-10a6-4d30-8cf5-80a9bd1b938c",
   "metadata": {},
   "source": [
    "<br>"
   ]
  },
  {
   "cell_type": "markdown",
   "id": "1adfdac0-0e03-4af4-a27a-f3db55c25906",
   "metadata": {},
   "source": [
    "**Turnout at General Elections**  \n",
    "For general elections, I will be using the VAP data available where possible. VAP is considered a better method of measuring turnout in GEs, as the REG figure is inflated due to the inclusion of deceased people and/or duplicate records. Turnout at Irish GEs held in the last 30 years is listed below.  \n",
    "\n",
    "1992 73.65%  \n",
    "1997 67.38%  \n",
    "2002 66.98%  \n",
    "2007 68.89%  \n",
    "2011 63.78%  \n",
    "2016 58.04%      \n",
    "2020 56.65%       \n",
    "\n",
    "*Data Source:* [idea.int](https://www.idea.int/data-tools/country-view/143/40)  "
   ]
  },
  {
   "cell_type": "code",
   "execution_count": 2,
   "id": "95d87e90-504c-4ed5-a6af-9d5316ee1ced",
   "metadata": {},
   "outputs": [
    {
     "name": "stdout",
     "output_type": "stream",
     "text": [
      "The mean voter turnout at Irish general elections in the last 30 years was 65.58 %\n"
     ]
    }
   ],
   "source": [
    "# Calculating the mean turnout in Irish general elections held in the past 30 years\n",
    "gen_turnout = (73.65, 67.38, 66.98, 68.89, 63.78, 69.28, 58.04, 56.65)\n",
    "mean_gen_turnout = statistics.mean(gen_turnout)\n",
    "\n",
    "print (\"The mean voter turnout at Irish general elections in the last 30 years was\", round(mean_gen_turnout,2), \"%\")"
   ]
  },
  {
   "cell_type": "markdown",
   "id": "9ac7b436-c1eb-4d3b-b7d2-a7b487da388c",
   "metadata": {},
   "source": [
    "<br>"
   ]
  },
  {
   "cell_type": "markdown",
   "id": "bab0a03a-aaf8-4455-94d0-38cd1bd489ee",
   "metadata": {},
   "source": [
    "**Turnout at Local Elections**  \n",
    "I'm going to use the REG figure when looking at turnout in local elections, as this is considered more accurate in this kind of election due to the larger number of people entitled to vote (ref Data oireachtais). Turnout at Irish local elections held in the last 30 years are listed below.  \n",
    " \n",
    "1991 55.6%  \n",
    "1999 50.2%  \n",
    "2004 58.6%    \n",
    "2009 57.8%  \n",
    "2014 51.7%  \n",
    "2019 50.2%  \n",
    "\n",
    "*Data Source:* [data.oireachtas.ie](https://data.oireachtas.ie/ie/oireachtas/libraryResearch/2016/2016-01-28_l-rs-note-election-turnout-in-ireland-measurement-trends-and-policy-implications_en.pdf) & [rte.ie](https://www.rte.ie/news/elections-2019/results/#/local)  \n"
   ]
  },
  {
   "cell_type": "code",
   "execution_count": 3,
   "id": "20b6cf5b-984e-4362-8810-c448747b08a7",
   "metadata": {},
   "outputs": [
    {
     "name": "stdout",
     "output_type": "stream",
     "text": [
      "The average voter turnout at Irish local elections in the last 30 years was 54.02 %\n"
     ]
    }
   ],
   "source": [
    "# Calculating the average turnout at Irish local elections held in the past 30 years\n",
    "loc_turnout = (55.6, 50.2, 58.6, 57.8, 51.7, 50.2)\n",
    "ave_loc_turnout = statistics.mean(loc_turnout)\n",
    "print (\"The average voter turnout at Irish local elections in the last 30 years was\", round(ave_loc_turnout,2),\"%\")"
   ]
  },
  {
   "cell_type": "markdown",
   "id": "acf1b616-debc-4d79-bd7a-59da91012bd5",
   "metadata": {},
   "source": [
    "<br>"
   ]
  },
  {
   "cell_type": "markdown",
   "id": "d0a12f3a-b1fa-4b60-b25e-1c8981c61e44",
   "metadata": {},
   "source": [
    "**Turnout at Referendums**  "
   ]
  },
  {
   "cell_type": "markdown",
   "id": "c7718376-adfe-4d98-91a7-3448b528494c",
   "metadata": {},
   "source": [
    "As was the case for General Elections, the VAP method of measuring turnout may be the better option for Referendums, as not everyone on the register is entitled to vote in them. Turnout at referendums that have taken place in the last 30 years are listed below.  \n",
    "_Note:_ Referendums taking place on the same day are listed together.  "
   ]
  },
  {
   "cell_type": "markdown",
   "id": "16b1094e-f5d9-4fef-bf35-f61ba1f2f4f7",
   "metadata": {},
   "source": [
    "1992 Maastricht Treaty 59.75%*    \n",
    "1992 Right to life of unborn, Right to travel & Right to information 70.65%*    \n",
    "1995 Dissolution of marriage 64.35%*    \n",
    "1996 Bail 31.65%*    \n",
    "1997 Cabinet confidentiality 49.65%*    \n",
    "1998 British-Irish Agreement & Amsterdam Treaty 58.65%*   \n",
    "1999 Local government 53.35%*    \n",
    "2001 Death penalty, International Criminal Court & Treaty of Nice 37.25%*    \n",
    "2002 Protection of life in pregnancy 45.25%*    \n",
    "2002 Treaty of Nice 51.95%*    \n",
    "2004 Citizenship 62.35%*  \n",
    "2008 Lisbon Treaty 55.55%*    \n",
    "2009 Lisbon Treaty 61.45%*    \n",
    "2011 Oir Inquiries & Judges' remuneration 60%    \n",
    "2012 EU Stability 52.4%  \n",
    "2012 Children 35.1%  \n",
    "2013 Seanad & Court of Appeal 40.9%  \n",
    "2015 Marriage Equality & Age of Eligibility for Election of President 64.3%  \n",
    "2018 Blasphemy & Termination of Pregnancy 66.95%*  \n",
    "2019 Diveorce 53.28%*  "
   ]
  },
  {
   "cell_type": "markdown",
   "id": "a82caeda-5a5b-4197-87c9-2333fe309020",
   "metadata": {},
   "source": [
    "*Note:* VAP figures were only available for the referenda that have taken place in the last 10 years. In order to estimate the VAP figure, I took the difference between the VAP & REG figures for the referenda that have taken place since 2011, and calculated the average difference between the two figures, which was VAP being 2.45% higher than the corresponding REG figure. This was then added to the REG figures for all other referenda that have taken place in the last 30 years to estimate the VAP figure (denoted by an asterix in the figures shown above).  "
   ]
  },
  {
   "cell_type": "markdown",
   "id": "34d915cc-2a78-49ec-928e-940a5ce19901",
   "metadata": {},
   "source": [
    "*Data Source:* [data.oireachtas.ie](https://data.oireachtas.ie/ie/oireachtas/libraryResearch/2016/2016-01-28_l-rs-note-election-turnout-in-ireland-measurement-trends-and-policy-implications_en.pdf), [independent.ie](https://www.independent.ie/irish-news/abortion-referendum/abortion-referendum-turn-out-is-third-highest-ever-for-a-referendum-in-ireland-36949137.html) & [rte.ie](https://www.rte.ie/news/elections-2019/results/#/local) "
   ]
  },
  {
   "cell_type": "code",
   "execution_count": 4,
   "id": "660ade81-49f2-4350-a74a-374a7c09257c",
   "metadata": {},
   "outputs": [
    {
     "name": "stdout",
     "output_type": "stream",
     "text": [
      "The mean voter turnout at Irish referendums over the last 30 years was 53.74 %\n"
     ]
    }
   ],
   "source": [
    "# Calculating the mean turnout at referendums that have taken place in the last 30 years\n",
    "ref_turnout = (59.75, 70.65, 64.35, 31.65, 49.65, 58.65, 53.35, 37.25, 45.25, 51.95, 62.35, 55.55, \n",
    "                   61.45, 60, 52.4, 35.1, 40.9, 64.3, 66.95, 53.28)\n",
    "mean_ref_turnout = statistics.mean(ref_turnout)\n",
    "print (\"The mean voter turnout at Irish referendums over the last 30 years was\", round(mean_ref_turnout,2), \"%\")"
   ]
  },
  {
   "cell_type": "markdown",
   "id": "416fb4b0-3784-49b7-bee1-b4977c236372",
   "metadata": {},
   "source": [
    "<br>"
   ]
  },
  {
   "cell_type": "markdown",
   "id": "84625923-2131-4c5d-90ab-fd52b3f5d7c7",
   "metadata": {},
   "source": [
    "**Turnout at European Elections**  "
   ]
  },
  {
   "cell_type": "markdown",
   "id": "a0eefb43-8ee7-48ee-b140-9201a7873b90",
   "metadata": {},
   "source": [
    "VAP is again considered the better method of measuring voter turnout at European elections. The VAP figure for turnout at European elections held in Ireland over the last 30 years is listed below.  "
   ]
  },
  {
   "cell_type": "markdown",
   "id": "41c43ced-0bdb-48b3-8d51-1cc1a7a2a4fa",
   "metadata": {},
   "source": [
    "1994 47.92%  \n",
    "1999 54.72%  \n",
    "2004 62.52%  \n",
    "2009 54.19%  \n",
    "2014 47.45%  \n",
    "2019 45.63%  "
   ]
  },
  {
   "cell_type": "markdown",
   "id": "ea2e6846-a173-4018-9de9-65041e93fa8f",
   "metadata": {},
   "source": [
    "*Data Source:* [idea.int](https://www.idea.int/data-tools/country-view/143/40)  "
   ]
  },
  {
   "cell_type": "code",
   "execution_count": 5,
   "id": "f71a3cde-59ff-4424-93e6-86868e73ba5b",
   "metadata": {},
   "outputs": [
    {
     "name": "stdout",
     "output_type": "stream",
     "text": [
      "The average voter turnout at European elections in the last 30 years was 52.07 %\n"
     ]
    }
   ],
   "source": [
    "# Calculating the average turnout at European elections held in the past 30 years\n",
    "eu_turnout = (47.92, 54.72, 62.52, 54.19, 47.45, 45.63)\n",
    "ave_eu_turnout = statistics.mean(eu_turnout)\n",
    "print (\"The average voter turnout at European elections in the last 30 years was\", round(ave_eu_turnout,2),\"%\")"
   ]
  },
  {
   "cell_type": "markdown",
   "id": "3bb3ed58-c59e-4112-8844-bb6225785bcd",
   "metadata": {},
   "source": [
    "<br>"
   ]
  },
  {
   "cell_type": "markdown",
   "id": "42c4dd27-45a3-4e54-b945-9801c5d43966",
   "metadata": {},
   "source": [
    "**Turnout at Presidential Elections**  "
   ]
  },
  {
   "cell_type": "markdown",
   "id": "390ec116-1887-4bea-bbe0-f0346231044c",
   "metadata": {},
   "source": [
    "As the eligibility to vote in a Presidential election is the same as for a General Election, it would again be better to use the VAP method for measuring turnout here. Unfortunately this data was not available for the 1990 Presidential election. Therefore, the REG figure was used for the Presidential election held in that year, but VAP figures were used for the other three elections taking place in the last 30 years.   "
   ]
  },
  {
   "cell_type": "markdown",
   "id": "a2043e55-0a40-43eb-8cd0-4c41f820e251",
   "metadata": {},
   "source": [
    "1990 64%*    \n",
    "1997 47.72%  \n",
    "2011 50.72%  \n",
    "2018 39.33%  "
   ]
  },
  {
   "cell_type": "markdown",
   "id": "09dd9625-e01a-425f-aab9-5fd0aec56042",
   "metadata": {},
   "source": [
    "*Data Source:* [idea.int](https://www.idea.int/data-tools/country-view/143/40) & [thejournal.ie](https://www.thejournal.ie/low-turnout-presidential-election-4309871-Oct2018/)"
   ]
  },
  {
   "cell_type": "code",
   "execution_count": 6,
   "id": "6225fdfe-325b-4494-8bd7-944ecbc0aefb",
   "metadata": {},
   "outputs": [
    {
     "name": "stdout",
     "output_type": "stream",
     "text": [
      "The average voter turnout at Irish Presidential elections in the last 30 years was 50.44 %\n"
     ]
    }
   ],
   "source": [
    "# Calculating the average turnout at Irish Presidential elections held in the past 30 years\n",
    "pres_turnout = (64, 47.72, 50.72, 39.33)\n",
    "ave_pres_turnout = statistics.mean(pres_turnout)\n",
    "print (\"The average voter turnout at Irish Presidential elections in the last 30 years was\", round(ave_pres_turnout,2),\"%\")"
   ]
  },
  {
   "cell_type": "code",
   "execution_count": 7,
   "id": "4ae821ba-b5e7-453d-915b-58b3e63f1d13",
   "metadata": {},
   "outputs": [],
   "source": [
    "# Saving all of these figures as variables for use later\n",
    "pvote_gen = (round(mean_gen_turnout,2) / 100)\n",
    "pvote_loc = (round(ave_loc_turnout,2) / 100)\n",
    "pvote_ref = (round(mean_ref_turnout,2) /100)\n",
    "pvote_eu = (round(ave_eu_turnout,2) / 100)\n",
    "pvote_pres = (round(ave_pres_turnout,2) / 100)\n",
    "\n",
    "# Calculating average turnout overall\n",
    "overall_turnout = (mean_gen_turnout, ave_loc_turnout, mean_ref_turnout, ave_eu_turnout, ave_pres_turnout)\n",
    "overall_turnout = statistics.mean(overall_turnout)"
   ]
  },
  {
   "cell_type": "markdown",
   "id": "d8f99559-1cac-4ab8-a0db-cbfc2305be9d",
   "metadata": {},
   "source": [
    "<br>"
   ]
  },
  {
   "cell_type": "markdown",
   "id": "45ce9e66-9655-4c91-8e2a-0091721cb741",
   "metadata": {},
   "source": [
    "### Data for Variable: Voter Participation in Different Age Groups\n",
    "***"
   ]
  },
  {
   "cell_type": "markdown",
   "id": "0b7b5195-f375-43b7-9cc4-f8e3c9742cc9",
   "metadata": {},
   "source": [
    "For the voter age variable, we are going to need to calculate both the probability of a randomly drawn person falling into a certain age group, and the probability of someone in that age group exercising their right to vote.  "
   ]
  },
  {
   "cell_type": "markdown",
   "id": "57a59cb1-254c-475d-9202-4b4e7659ce25",
   "metadata": {},
   "source": [
    "<br>"
   ]
  },
  {
   "cell_type": "markdown",
   "id": "d4d15f6d-0e02-49a8-bd95-bca6e0786fbb",
   "metadata": {},
   "source": [
    "**Distribution of Age Across Irish Population**  "
   ]
  },
  {
   "cell_type": "markdown",
   "id": "29d3ab62-d823-4a39-b487-de267d272629",
   "metadata": {},
   "source": [
    "The following breakdown of the Irish population was copied from [indexmundi.com](https://www.indexmundi.com/ireland/demographics_profile.html):  "
   ]
  },
  {
   "cell_type": "markdown",
   "id": "2d243b7c-1599-45a3-810a-fa52b9fb0f8f",
   "metadata": {},
   "source": [
    "0-14 years: 21.15% (male 560,338/female 534,570)  \n",
    "\n",
    "15-24 years: 12.08% (male 316,239/female 308,872)  \n",
    "\n",
    "25-54 years: 42.19% (male 1,098,058/female 1,085,794)  \n",
    "\n",
    "55-64 years: 10.77% (male 278,836/female 278,498)  \n",
    "\n",
    "65 years and over: 13.82% (male 331,772/female 383,592) (2020 est.)  "
   ]
  },
  {
   "cell_type": "markdown",
   "id": "1cdd335d-bf69-480f-8812-74b1038ef722",
   "metadata": {},
   "source": [
    "_Ref:_ [indexmundi.com](https://www.indexmundi.com/ireland/demographics_profile.html), as of September 2021."
   ]
  },
  {
   "cell_type": "markdown",
   "id": "4e811127-9e14-43ab-b184-f07d6776c97a",
   "metadata": {},
   "source": [
    "<br>"
   ]
  },
  {
   "cell_type": "markdown",
   "id": "c326cd3b-e384-400a-805f-e34829ac35a7",
   "metadata": {},
   "source": [
    "For this project, we are interested in the following figures:  "
   ]
  },
  {
   "cell_type": "markdown",
   "id": "66fa27ad-3191-4e4f-817c-af29982be4fe",
   "metadata": {},
   "source": [
    "15-24 years: 625111  \n",
    "25-54 years: 2183852  \n",
    "55-64 years: 557334  \n",
    "65 years and over: 715364  "
   ]
  },
  {
   "cell_type": "markdown",
   "id": "7d4fc2d9-5147-49f3-b9a5-e30f272c2bb5",
   "metadata": {},
   "source": [
    "<br>"
   ]
  },
  {
   "cell_type": "markdown",
   "id": "850cbca1-56a8-4453-90cf-ed6eaf494386",
   "metadata": {},
   "source": [
    "As we are only interested in the population aged 18 and over, we need to remove any persons aged 15, 16 and 17 from the total figure in the 15-24 years age group (those born in 2004, 2005 & 2006).  "
   ]
  },
  {
   "cell_type": "markdown",
   "id": "e17bc930-46f3-4bbc-9b8e-d2c04503f249",
   "metadata": {},
   "source": [
    "61,972 born in 2004  \n",
    "61,372 born in 2005  \n",
    "65,425 born in 2006  \n",
    "Total to remove: 188769  \n",
    "_Ref:_ cso.ie [4,5,6]"
   ]
  },
  {
   "cell_type": "markdown",
   "id": "2dfb8bc9-6e45-4f5c-a631-85fe4e867686",
   "metadata": {},
   "source": [
    "<br>"
   ]
  },
  {
   "cell_type": "markdown",
   "id": "681fed7b-13e9-45fb-aa72-d479215a052f",
   "metadata": {},
   "source": [
    "Therefore, we will we working with the following figures:  "
   ]
  },
  {
   "cell_type": "markdown",
   "id": "a253bd6c-cdd3-45d6-930f-bfb9e9c7f0db",
   "metadata": {},
   "source": [
    "18-24 years: 436342  \n",
    "25-54 years: 2183852  \n",
    "55-64 years: 557334  \n",
    "65 years and over: 715364  "
   ]
  },
  {
   "cell_type": "code",
   "execution_count": 8,
   "id": "ba27acd1-7c82-4878-88a8-58d9ca7d3e3f",
   "metadata": {},
   "outputs": [
    {
     "name": "stdout",
     "output_type": "stream",
     "text": [
      "The total number of Irish citizens eligible to vote is 3892892\n"
     ]
    }
   ],
   "source": [
    "# Creating some variables to represent these figures\n",
    "age18_24 = 436342\n",
    "age25_54 = 2183852\n",
    "age55_64 = 557334\n",
    "age65_up = 715364\n",
    "total_register = age18_24 + age25_54 + age55_64 + age65_up\n",
    "print (\"The total number of Irish citizens eligible to vote is\", total_register)"
   ]
  },
  {
   "cell_type": "code",
   "execution_count": 9,
   "id": "03494c83-69cb-41d8-b0bb-ac09c945d53c",
   "metadata": {},
   "outputs": [],
   "source": [
    "# Breaking down the probability of a randomly drawn citizen being from one of these age groups\n",
    "p_age18_24 = age18_24 / total_register\n",
    "p_age25_54 = age25_54 / total_register\n",
    "p_age55_64 = age55_64 / total_register\n",
    "p_age65_up = age65_up / total_register"
   ]
  },
  {
   "cell_type": "code",
   "execution_count": 10,
   "id": "eb40bd5b-4f4b-4587-93ed-f37df3bacf0a",
   "metadata": {},
   "outputs": [],
   "source": [
    "# Creating an array of voter age groups using the probability calculated above\n",
    "age_groups = np.random.choice([\"18-24\", \"25-54\", \"55-64\", \"65+\"], size=(100,), p=[p_age18_24, p_age25_54, p_age55_64, p_age65_up])"
   ]
  },
  {
   "cell_type": "markdown",
   "id": "651c712f-e7c8-4ed6-92d2-a32401435202",
   "metadata": {},
   "source": [
    "<br>"
   ]
  },
  {
   "cell_type": "markdown",
   "id": "08c9d121-90d2-43e3-a199-c48abced0c7c",
   "metadata": {},
   "source": [
    "**Relationship between Age and Voter Participation**  "
   ]
  },
  {
   "cell_type": "markdown",
   "id": "117211b4-05a9-4613-9dd7-b95182575d82",
   "metadata": {},
   "source": [
    "From my research on voter participation in both Ireland and other countries, it is clear that those in the younger age groups are less likely to vote, and the older a person gets, the more likely they are to vote. Unfortunately I was unable to find a comprehensive breakdown of voter participation across these different groups in Ireland. Instead, the sources I found tended to focus on the difference between voter turnout in the 18-25 age group versus the rest of the population, so I will need to estimate participation levels across the other groups based on data I found for other countries such as Britain and the USA.  \n",
    "_Ref:_ [2], [3], [32]"
   ]
  },
  {
   "cell_type": "markdown",
   "id": "745b20a2-a999-4c5a-a130-8eb403cce0d6",
   "metadata": {},
   "source": [
    "**Irish voter turnout in 18-25 age group**  \n",
    "2002 53.3% vs. 76.3% across all ages  \n",
    "2007 69.2% vs. 79.2%  \n",
    "2011 75.4% vs. 89.7%  \n",
    "\n",
    "*Data Source:* [data.oireachtas.ie](https://data.oireachtas.ie/ie/oireachtas/libraryResearch/2016/2016-01-28_l-rs-note-election-turnout-in-ireland-measurement-trends-and-policy-implications_en.pdf)  "
   ]
  },
  {
   "cell_type": "markdown",
   "id": "35bfd6bb-fd45-4360-9d15-3a2ccbb1c49e",
   "metadata": {},
   "source": [
    "<br>"
   ]
  },
  {
   "cell_type": "markdown",
   "id": "1f4444e3-94d1-430c-89a7-75a1074bc83a",
   "metadata": {},
   "source": [
    "**Data from Britain & USA**  "
   ]
  },
  {
   "cell_type": "markdown",
   "id": "6d890144-3996-42ed-8e27-c805a3f67763",
   "metadata": {},
   "source": [
    "The following figure illustrates voter turnout amongst the different age groups in the 2015, 2017 & 2019 general elections in Britain:  \n",
    "\n",
    "![](https://www.britishelectionstudy.com/wp-content/uploads/2021/01/turnoutBayesPlot-1.png)  \n",
    "_Image Source:_ [britishelectionstudy.com](https://www.britishelectionstudy.com/wp-content/uploads/2021/01/turnoutBayesPlot-1.png)  "
   ]
  },
  {
   "cell_type": "markdown",
   "id": "650bfc94-b1cb-40ae-9c55-3e2bf3bcd61f",
   "metadata": {},
   "source": [
    "<br>"
   ]
  },
  {
   "cell_type": "markdown",
   "id": "66103aa6-c6f9-485a-ae3a-a22c59f9b7f3",
   "metadata": {},
   "source": [
    "The following information regarding the 2020 Presidential Election in USA was copied directly from [census.gov](https://www.census.gov/library/stories/2021/04/record-high-turnout-in-2020-general-election.html):\n",
    "\n",
    "_Voting rates were higher in 2020 than in 2016 across all age groups, with turnout by voters ages 18-34 increasing the most between elections:_  \n",
    "\n",
    "- _For citizens ages 18-34, 57% voted in 2020, up from 49% in 2016_  \n",
    "- _In the 35-64 age group, turnout was 69%, compared to 65% in 2016_  \n",
    "- _In the 65 and older group, 74% voted in 2020, compared to 71% in 2016_  "
   ]
  },
  {
   "cell_type": "markdown",
   "id": "5303be8c-0a1b-4128-87e0-cdad54a10c63",
   "metadata": {},
   "source": [
    "<br>"
   ]
  },
  {
   "cell_type": "markdown",
   "id": "d7dd79d9-1e5b-4daf-bd92-b28589d0974d",
   "metadata": {},
   "source": [
    "**Conclusions Drawn on Voter Turnout in Different Age Groups**"
   ]
  },
  {
   "cell_type": "markdown",
   "id": "23d1d983-f4b2-4ce5-9bd0-00221e5e2df5",
   "metadata": {},
   "source": [
    "From all of this information, we can see that voter participation seems to be increasing amongst the younger age groups but still remains lowest amongst those aged 18-24, and steadily increases as you move upwards through the different age cohorts.  \n",
    "Now lets try and assign some values for the probability of those falling into the age groups participating in an election.  "
   ]
  },
  {
   "cell_type": "code",
   "execution_count": 11,
   "id": "e6f0e01a-c182-46c8-b9c0-8870fef0fbec",
   "metadata": {},
   "outputs": [],
   "source": [
    "# Calculating average voter participation amongst 18-24 years with data available\n",
    "# Excluding US as parameters are different to data for other countries\n",
    "ire_18_24 = (53.3 + 69.2 + 75.4) / 3\n",
    "eu_18_24 = 59\n",
    "uk_18_24 = (48 + 50 + 52) / 3\n",
    "\n",
    "all_18_24 = (ire_18_24, eu_18_24, uk_18_24)\n",
    "mean_18_24 = statistics.mean(all_18_24)\n",
    "\n",
    "# Calculating average voter participation amongst 65+ age group, US again excluded\n",
    "# Excluding US as parameters are different to data for other countries\n",
    "uk_65plus = (80 + 82 + 76 + 81 + 82 + 81) / 6\n",
    "usa_65plus = 74\n",
    "\n",
    "all_65plus = (uk_65plus, usa_65plus)\n",
    "mean_65plus = statistics.mean(all_65plus)\n",
    "\n",
    "# Calculate the difference between these two averages\n",
    "diff = round((mean_65plus - mean_18_24),2)"
   ]
  },
  {
   "cell_type": "code",
   "execution_count": 12,
   "id": "27285e32-75b2-446b-b222-f9a672a74248",
   "metadata": {},
   "outputs": [],
   "source": [
    "# Calculating mean for 25-54 year olds\n",
    "mean_25_54 = (mean_18_24 + (diff / 4 )) # Divide the difference by 4 as there are 4 age groups\n",
    "\n",
    "# Calculating mean for 55-64 year olds (as per calculation above)\n",
    "mean_55_64 = (mean_25_54 + (diff / 4 ))\n",
    "\n",
    "# Saving these figures in variables for probability to vote\n",
    "pvote_1824 = (round(mean_18_24,2) / 100)\n",
    "pvote_2554 = (round(mean_25_54,2) / 100)\n",
    "pvote_5564 = (round(mean_55_64,2) / 100)\n",
    "pvote_65plus = (round(mean_65plus,2) / 100)"
   ]
  },
  {
   "cell_type": "code",
   "execution_count": 13,
   "id": "96c88af7-c586-4533-9d3d-1cabafe8f663",
   "metadata": {},
   "outputs": [],
   "source": [
    "# Create a list showing the impact of age on voter turnout using variables created above\n",
    "age_impact = []\n",
    "\n",
    "for i in age_groups:\n",
    "    if i == \"18-24\":\n",
    "        age_impact.append(round(pvote_1824,2))\n",
    "    elif i == \"25-54\":\n",
    "        age_impact.append(round(pvote_2554,2))\n",
    "    elif i == \"55-64\":\n",
    "        age_impact.append(round(pvote_5564,2))\n",
    "    elif i == \"65+\":\n",
    "        age_impact.append(round(pvote_5564,2))"
   ]
  },
  {
   "cell_type": "code",
   "execution_count": 14,
   "id": "7ae49a37-aad0-4ef2-8325-df1fc2a0b95b",
   "metadata": {},
   "outputs": [],
   "source": [
    "# Creating a list to serve as index later on\n",
    "survey_id = []\n",
    "\n",
    "# Setting counter\n",
    "count = 0\n",
    "for i in age_groups:\n",
    "    survey_id.append(count + 1)\n",
    "    count += 1"
   ]
  },
  {
   "cell_type": "markdown",
   "id": "536f8c87-4564-48ab-b635-032d7c423777",
   "metadata": {},
   "source": [
    "<br>"
   ]
  },
  {
   "cell_type": "markdown",
   "id": "b78c2187-e046-467e-b1dd-382c9cc9495b",
   "metadata": {},
   "source": [
    "**Creating a Dataframe for Age Group**  "
   ]
  },
  {
   "cell_type": "code",
   "execution_count": 15,
   "id": "49e0116f-6a0b-4539-9a5f-dcabf57b78e4",
   "metadata": {},
   "outputs": [
    {
     "data": {
      "text/html": [
       "<div>\n",
       "<style scoped>\n",
       "    .dataframe tbody tr th:only-of-type {\n",
       "        vertical-align: middle;\n",
       "    }\n",
       "\n",
       "    .dataframe tbody tr th {\n",
       "        vertical-align: top;\n",
       "    }\n",
       "\n",
       "    .dataframe thead th {\n",
       "        text-align: right;\n",
       "    }\n",
       "</style>\n",
       "<table border=\"1\" class=\"dataframe\">\n",
       "  <thead>\n",
       "    <tr style=\"text-align: right;\">\n",
       "      <th></th>\n",
       "      <th>Survey ID</th>\n",
       "      <th>Age Group</th>\n",
       "      <th>Age Impact</th>\n",
       "    </tr>\n",
       "  </thead>\n",
       "  <tbody>\n",
       "    <tr>\n",
       "      <th>0</th>\n",
       "      <td>1</td>\n",
       "      <td>25-54</td>\n",
       "      <td>0.63</td>\n",
       "    </tr>\n",
       "    <tr>\n",
       "      <th>1</th>\n",
       "      <td>2</td>\n",
       "      <td>18-24</td>\n",
       "      <td>0.58</td>\n",
       "    </tr>\n",
       "    <tr>\n",
       "      <th>2</th>\n",
       "      <td>3</td>\n",
       "      <td>25-54</td>\n",
       "      <td>0.63</td>\n",
       "    </tr>\n",
       "    <tr>\n",
       "      <th>3</th>\n",
       "      <td>4</td>\n",
       "      <td>65+</td>\n",
       "      <td>0.68</td>\n",
       "    </tr>\n",
       "    <tr>\n",
       "      <th>4</th>\n",
       "      <td>5</td>\n",
       "      <td>25-54</td>\n",
       "      <td>0.63</td>\n",
       "    </tr>\n",
       "  </tbody>\n",
       "</table>\n",
       "</div>"
      ],
      "text/plain": [
       "   Survey ID Age Group  Age Impact\n",
       "0          1     25-54        0.63\n",
       "1          2     18-24        0.58\n",
       "2          3     25-54        0.63\n",
       "3          4       65+        0.68\n",
       "4          5     25-54        0.63"
      ]
     },
     "execution_count": 15,
     "metadata": {},
     "output_type": "execute_result"
    }
   ],
   "source": [
    "df_agegroups = pd.DataFrame(list(zip(survey_id, age_groups, age_impact)), columns = [\"Survey ID\", \"Age Group\", \"Age Impact\"])\n",
    "df_agegroups.head()"
   ]
  },
  {
   "cell_type": "markdown",
   "id": "c1246c2c-52c7-4fa1-a4fa-6b0df8ff1daf",
   "metadata": {},
   "source": [
    "<BR>"
   ]
  },
  {
   "cell_type": "markdown",
   "id": "b8e96a20-0d05-470f-8b13-eb5757f430c1",
   "metadata": {},
   "source": [
    "### Data for Variable: Type of Election\n",
    "***"
   ]
  },
  {
   "cell_type": "markdown",
   "id": "7b02fb98-904a-42c8-82b3-406f0d1b5975",
   "metadata": {},
   "source": [
    "We have five options for the different types of election - General Election, Local Election, Referendum, EUropean Election, Presidential Election.  \n",
    "\n",
    "In the last 30 years there have been:  \n",
    "7 x General Elections  \n",
    "6 x Local Elections  \n",
    "20 x Referendums (*note:* where more than one referendum was held on the same day, these were counted once)  \n",
    "6 x European Elections  \n",
    "4 x Presidential Elections  \n",
    "\n",
    "\n",
    "We can clearly see that referendums are held far more frequently than any other kind of election, and in a previous section we saw that referendums & Presidential elections have a much lower turnout than the likes of general elections.  "
   ]
  },
  {
   "cell_type": "code",
   "execution_count": 16,
   "id": "e8565536-e109-42be-b955-44d4b29f1089",
   "metadata": {},
   "outputs": [],
   "source": [
    "# Calculating the probability of an election falling into each of these categories based on the last 30 years' data\n",
    "gen, loc, ref, eu, pres = 7, 6, 20, 6, 4\n",
    "elections = (gen + loc + ref + eu + pres)\n",
    "prob_gen = gen / elections\n",
    "prob_loc = loc / elections\n",
    "prob_ref = ref / elections\n",
    "prob_eu = eu / elections\n",
    "prob_pres = pres / elections"
   ]
  },
  {
   "cell_type": "code",
   "execution_count": 17,
   "id": "6165342b-0779-4023-87c3-da03e104fb26",
   "metadata": {},
   "outputs": [],
   "source": [
    "# Lets create an array of election types using the probability discussed above\n",
    "election_type = np.random.choice([\"general\", \"local\", \"referendum\", \"european\", \"presidential\"], size=(100), \n",
    "                     p=[prob_gen, prob_loc, prob_ref, prob_eu, prob_pres])"
   ]
  },
  {
   "cell_type": "code",
   "execution_count": 18,
   "id": "aacf53f2-d5fd-4fc9-a8d7-10c6dbfd3abe",
   "metadata": {},
   "outputs": [],
   "source": [
    "# Create a list showing the impact of election type on voter turnout using variables previously created\n",
    "election_impact = []\n",
    "\n",
    "for i in election_type:\n",
    "    if i == \"general\":\n",
    "        election_impact.append(round(pvote_gen,2))\n",
    "    elif i == \"local\":\n",
    "        election_impact.append(round(pvote_loc,2))\n",
    "    elif i == \"referendum\":\n",
    "        election_impact.append(round(pvote_ref,2))\n",
    "    elif i == \"european\":\n",
    "        election_impact.append(round(pvote_eu,2))\n",
    "    elif i == \"presidential\":\n",
    "        election_impact.append(round(pvote_pres,2))      "
   ]
  },
  {
   "cell_type": "markdown",
   "id": "8763f7ce-e7d4-437a-b509-868da74cee92",
   "metadata": {},
   "source": [
    "<br>"
   ]
  },
  {
   "cell_type": "markdown",
   "id": "fe287cb2-8afd-4d0d-a8c8-a5d7c843ff26",
   "metadata": {},
   "source": [
    "**Creating a Dataframe for Election Type**"
   ]
  },
  {
   "cell_type": "code",
   "execution_count": 19,
   "id": "38b5e455-7124-4d3a-ac41-6f3c62ecccc0",
   "metadata": {
    "tags": []
   },
   "outputs": [
    {
     "data": {
      "text/html": [
       "<div>\n",
       "<style scoped>\n",
       "    .dataframe tbody tr th:only-of-type {\n",
       "        vertical-align: middle;\n",
       "    }\n",
       "\n",
       "    .dataframe tbody tr th {\n",
       "        vertical-align: top;\n",
       "    }\n",
       "\n",
       "    .dataframe thead th {\n",
       "        text-align: right;\n",
       "    }\n",
       "</style>\n",
       "<table border=\"1\" class=\"dataframe\">\n",
       "  <thead>\n",
       "    <tr style=\"text-align: right;\">\n",
       "      <th></th>\n",
       "      <th>Election Type</th>\n",
       "      <th>Election Impact</th>\n",
       "    </tr>\n",
       "  </thead>\n",
       "  <tbody>\n",
       "    <tr>\n",
       "      <th>0</th>\n",
       "      <td>local</td>\n",
       "      <td>0.54</td>\n",
       "    </tr>\n",
       "    <tr>\n",
       "      <th>1</th>\n",
       "      <td>referendum</td>\n",
       "      <td>0.54</td>\n",
       "    </tr>\n",
       "    <tr>\n",
       "      <th>2</th>\n",
       "      <td>referendum</td>\n",
       "      <td>0.54</td>\n",
       "    </tr>\n",
       "    <tr>\n",
       "      <th>3</th>\n",
       "      <td>referendum</td>\n",
       "      <td>0.54</td>\n",
       "    </tr>\n",
       "    <tr>\n",
       "      <th>4</th>\n",
       "      <td>referendum</td>\n",
       "      <td>0.54</td>\n",
       "    </tr>\n",
       "  </tbody>\n",
       "</table>\n",
       "</div>"
      ],
      "text/plain": [
       "  Election Type  Election Impact\n",
       "0         local             0.54\n",
       "1    referendum             0.54\n",
       "2    referendum             0.54\n",
       "3    referendum             0.54\n",
       "4    referendum             0.54"
      ]
     },
     "execution_count": 19,
     "metadata": {},
     "output_type": "execute_result"
    }
   ],
   "source": [
    "df_electype = pd.DataFrame(list(zip(election_type, election_impact)), columns = [\"Election Type\", \"Election Impact\"])\n",
    "df_electype.head()"
   ]
  },
  {
   "cell_type": "markdown",
   "id": "95cc07cd-27a7-4983-be37-438b1938517d",
   "metadata": {},
   "source": [
    "<br>"
   ]
  },
  {
   "cell_type": "markdown",
   "id": "80bdff1d-8c95-4e0a-8d8a-5fe0651c50b9",
   "metadata": {},
   "source": [
    "### Data for Variable: Voter Location (Urban / Rural Population Split)\n",
    "***"
   ]
  },
  {
   "cell_type": "markdown",
   "id": "641221b5-6c13-40fb-84ad-f25b0319e29b",
   "metadata": {},
   "source": [
    "From my research, in general it seems that rurally based voters are usually associated with a higher level of turnout than urban based voters [18]. That statement may not be completely accurate for Dublin, where turnout in at referendums has been higher on some occasions than in some rural areas [14], but for the sake of simplicity I will be using a higher figure for turnout where a voter surveyed is in a rural area.  \n",
    "\n",
    "The latest figures available show that the urban / rural population split in Ireland is heavily weighted on the urban side:  \n",
    "Urban - 63.65%  \n",
    "Rural - 36.35%  \n",
    "_Data Source:_ [tradingeconomics.com](https://tradingeconomics.com/ireland/rural-population-percent-of-total-population-wb-data.html)  "
   ]
  },
  {
   "cell_type": "markdown",
   "id": "1298e66a-8fbb-4181-9f46-16818f7c868a",
   "metadata": {},
   "source": [
    "<br>"
   ]
  },
  {
   "cell_type": "markdown",
   "id": "440957e7-1c37-47e5-bd2f-64416514e2bc",
   "metadata": {},
   "source": [
    "**Urban and Rural Turnout in Local Elections**  "
   ]
  },
  {
   "cell_type": "markdown",
   "id": "c021cc64-ddb2-403e-8df7-73b630501772",
   "metadata": {},
   "source": [
    "Finding a breakdown of overall voter turnout in urban and rural areas proved to be more difficult than expected, but the following figures were taken from the 2016 article \"Election Turnout in Ireland: measurement, trends and policy implications\" (available [here](https://data.oireachtas.ie/ie/oireachtas/libraryResearch/2016/2016-01-28_l-rs-note-election-turnout-in-ireland-measurement-trends-and-policy-implications_en.pdf)):  \n",
    "\n",
    "1999 National Turnout: 50.2%  \n",
    "1999 Urban Turnout: 36%  \n",
    "1999 Rural Turnout: 61.9%  \n",
    "\n",
    "2004 National Turnout: 59.3%  \n",
    "2004 Urban Turnout: 53%  \n",
    "2004 Rural Turnout: 63.9%  \n",
    "\n",
    "2009 National Turnout: 57.6%  \n",
    "2009 Urban Turnout: 49.3%  \n",
    "2009 Rural Turnout: 63.8%  \n",
    "\n",
    "2014 National Turnout: 51.6%  \n",
    "2009 Urban Turnout: 43%  \n",
    "2009 Rural Turnout: 58.9%    "
   ]
  },
  {
   "cell_type": "code",
   "execution_count": 20,
   "id": "13f582ec-42d5-44f8-9575-0901a6055a85",
   "metadata": {},
   "outputs": [
    {
     "name": "stdout",
     "output_type": "stream",
     "text": [
      "The average difference in turnout between urban and rurally based voters is 16.8 % in favour of rural voters\n"
     ]
    }
   ],
   "source": [
    "# Calculating the average difference in turnout between urban and rurally based voters using these figures\n",
    "urb_rural_diff = (61.9-36),(63.9-53),(63.8-49.3),(58.9-43)\n",
    "\n",
    "mean_geo_diff = statistics.mean(urb_rural_diff)\n",
    "print (\"The average difference in turnout between urban and rurally based voters is\", \n",
    "           round(mean_geo_diff,2), \"% in favour of rural voters\")"
   ]
  },
  {
   "cell_type": "code",
   "execution_count": 21,
   "id": "a131a9f3-ad81-413e-bd7b-913ca2df4a02",
   "metadata": {},
   "outputs": [
    {
     "name": "stdout",
     "output_type": "stream",
     "text": [
      "The average national turnout figure we will be using when looking at voter location is 55.17 %\n"
     ]
    }
   ],
   "source": [
    "# Showing the overall turnout figure previously calculated\n",
    "print(\"The average national turnout figure we will be using when looking at voter location is\", \n",
    "         round(overall_turnout,2), \"%\")"
   ]
  },
  {
   "cell_type": "code",
   "execution_count": 22,
   "id": "312d47fd-027d-4c25-8779-e5392ffa3257",
   "metadata": {},
   "outputs": [],
   "source": [
    "# Creating varibales for probability to vote in urban/rural areas for use later\n",
    "pvote_urban = (overall_turnout - mean_geo_diff) / 100\n",
    "pvote_rural = (overall_turnout  + mean_geo_diff) / 100"
   ]
  },
  {
   "cell_type": "markdown",
   "id": "9afd8b5b-a1c5-4c35-af0f-06f6862cc6a2",
   "metadata": {},
   "source": [
    "<br>"
   ]
  },
  {
   "cell_type": "markdown",
   "id": "d46559b7-b1eb-4b41-8b60-19363c08e56f",
   "metadata": {},
   "source": [
    "As we are only interested in two results here, we can use a binomial distribution to generate the voter locations using the probability of a voter being urban based being 63.65%, and rurally based being 36.35%.  "
   ]
  },
  {
   "cell_type": "code",
   "execution_count": 23,
   "id": "09c9510d-6477-4871-9242-c56776f76d15",
   "metadata": {},
   "outputs": [],
   "source": [
    "# Using numpy.random.binomial to generate voter locations\n",
    "urban = 1\n",
    "prob = (0.6365)\n",
    "\n",
    "geo_list = []\n",
    "geo_location = np.random.binomial(urban, p=prob, size=100)\n",
    "for i in geo_location:\n",
    "    if i == 0:\n",
    "        geo_list.append(\"rural\")\n",
    "    else: \n",
    "        geo_list.append(\"urban\")"
   ]
  },
  {
   "cell_type": "code",
   "execution_count": 24,
   "id": "01a955f2-2070-47da-8377-962da82238ec",
   "metadata": {},
   "outputs": [
    {
     "data": {
      "text/plain": [
       "100"
      ]
     },
     "execution_count": 24,
     "metadata": {},
     "output_type": "execute_result"
    }
   ],
   "source": [
    "# Confirming the number of entries in the geo_list\n",
    "len(geo_list)"
   ]
  },
  {
   "cell_type": "code",
   "execution_count": 25,
   "id": "bdd41552-8cf8-4eaf-9e25-023fded74ccb",
   "metadata": {},
   "outputs": [],
   "source": [
    "# I could also generate an array of voter locations using random.choice\n",
    "# np.random.choice([\"urban\", \"rural\"], size=(100,), p=[0.6365,0.3635])"
   ]
  },
  {
   "cell_type": "code",
   "execution_count": 26,
   "id": "426cf140-28cc-4381-8984-17a89b710785",
   "metadata": {},
   "outputs": [],
   "source": [
    "# Create a list showing the impact of location on voter turnout using variables created above\n",
    "location_impact = []\n",
    "\n",
    "for i in geo_list:\n",
    "    if i == \"urban\":\n",
    "        location_impact.append(round(pvote_urban,2))\n",
    "    else:\n",
    "        location_impact.append(round(pvote_rural,2))    "
   ]
  },
  {
   "cell_type": "markdown",
   "id": "b8b8a6a4-13db-4af0-bc43-270935a32cb0",
   "metadata": {},
   "source": [
    "<br>"
   ]
  },
  {
   "cell_type": "markdown",
   "id": "9c89af49-62fd-4db9-b0f9-23f41b122991",
   "metadata": {},
   "source": [
    "**Creating a Dataframe for Voter Location**"
   ]
  },
  {
   "cell_type": "code",
   "execution_count": 27,
   "id": "584372eb-3ce6-4337-8b12-1cb948154808",
   "metadata": {},
   "outputs": [
    {
     "data": {
      "text/html": [
       "<div>\n",
       "<style scoped>\n",
       "    .dataframe tbody tr th:only-of-type {\n",
       "        vertical-align: middle;\n",
       "    }\n",
       "\n",
       "    .dataframe tbody tr th {\n",
       "        vertical-align: top;\n",
       "    }\n",
       "\n",
       "    .dataframe thead th {\n",
       "        text-align: right;\n",
       "    }\n",
       "</style>\n",
       "<table border=\"1\" class=\"dataframe\">\n",
       "  <thead>\n",
       "    <tr style=\"text-align: right;\">\n",
       "      <th></th>\n",
       "      <th>Location</th>\n",
       "      <th>Location Impact</th>\n",
       "    </tr>\n",
       "  </thead>\n",
       "  <tbody>\n",
       "    <tr>\n",
       "      <th>0</th>\n",
       "      <td>rural</td>\n",
       "      <td>0.72</td>\n",
       "    </tr>\n",
       "    <tr>\n",
       "      <th>1</th>\n",
       "      <td>rural</td>\n",
       "      <td>0.72</td>\n",
       "    </tr>\n",
       "    <tr>\n",
       "      <th>2</th>\n",
       "      <td>urban</td>\n",
       "      <td>0.38</td>\n",
       "    </tr>\n",
       "    <tr>\n",
       "      <th>3</th>\n",
       "      <td>urban</td>\n",
       "      <td>0.38</td>\n",
       "    </tr>\n",
       "    <tr>\n",
       "      <th>4</th>\n",
       "      <td>urban</td>\n",
       "      <td>0.38</td>\n",
       "    </tr>\n",
       "  </tbody>\n",
       "</table>\n",
       "</div>"
      ],
      "text/plain": [
       "  Location  Location Impact\n",
       "0    rural             0.72\n",
       "1    rural             0.72\n",
       "2    urban             0.38\n",
       "3    urban             0.38\n",
       "4    urban             0.38"
      ]
     },
     "execution_count": 27,
     "metadata": {},
     "output_type": "execute_result"
    }
   ],
   "source": [
    "df_voterloc = pd.DataFrame(list(zip(geo_list, location_impact)), columns = [\"Location\", \"Location Impact\"])\n",
    "df_voterloc.head()"
   ]
  },
  {
   "cell_type": "markdown",
   "id": "77e9dbf1-3617-45ec-87ee-7dbdd90e1ec0",
   "metadata": {},
   "source": [
    "<br>"
   ]
  },
  {
   "cell_type": "markdown",
   "id": "c1d629da-c7f9-4d51-85df-0a1b5934463b",
   "metadata": {},
   "source": [
    "### Combining the Dataframes\n",
    "***"
   ]
  },
  {
   "cell_type": "markdown",
   "id": "8b7ba039-0577-4cb9-a5df-80ef76893ec3",
   "metadata": {},
   "source": [
    "Now that we have created the individual dataframes, we need to combine them into one dataframe before we can generate the final variable (voted/abstained).  "
   ]
  },
  {
   "cell_type": "code",
   "execution_count": 28,
   "id": "20c859cb-bfad-4714-8bde-dcb0afd3c3e3",
   "metadata": {},
   "outputs": [],
   "source": [
    "df_all_data = pd.concat([df_agegroups, df_voterloc, df_electype], axis=1)"
   ]
  },
  {
   "cell_type": "code",
   "execution_count": 29,
   "id": "cda923ff-ee84-4f1d-8f78-b657c6642fd4",
   "metadata": {},
   "outputs": [
    {
     "data": {
      "text/html": [
       "<div>\n",
       "<style scoped>\n",
       "    .dataframe tbody tr th:only-of-type {\n",
       "        vertical-align: middle;\n",
       "    }\n",
       "\n",
       "    .dataframe tbody tr th {\n",
       "        vertical-align: top;\n",
       "    }\n",
       "\n",
       "    .dataframe thead th {\n",
       "        text-align: right;\n",
       "    }\n",
       "</style>\n",
       "<table border=\"1\" class=\"dataframe\">\n",
       "  <thead>\n",
       "    <tr style=\"text-align: right;\">\n",
       "      <th></th>\n",
       "      <th>Survey ID</th>\n",
       "      <th>Age Group</th>\n",
       "      <th>Age Impact</th>\n",
       "      <th>Location</th>\n",
       "      <th>Location Impact</th>\n",
       "      <th>Election Type</th>\n",
       "      <th>Election Impact</th>\n",
       "      <th>Probability Voted</th>\n",
       "    </tr>\n",
       "  </thead>\n",
       "  <tbody>\n",
       "    <tr>\n",
       "      <th>0</th>\n",
       "      <td>1</td>\n",
       "      <td>25-54</td>\n",
       "      <td>0.63</td>\n",
       "      <td>rural</td>\n",
       "      <td>0.72</td>\n",
       "      <td>local</td>\n",
       "      <td>0.54</td>\n",
       "      <td>0.630000</td>\n",
       "    </tr>\n",
       "    <tr>\n",
       "      <th>1</th>\n",
       "      <td>2</td>\n",
       "      <td>18-24</td>\n",
       "      <td>0.58</td>\n",
       "      <td>rural</td>\n",
       "      <td>0.72</td>\n",
       "      <td>referendum</td>\n",
       "      <td>0.54</td>\n",
       "      <td>0.613333</td>\n",
       "    </tr>\n",
       "    <tr>\n",
       "      <th>2</th>\n",
       "      <td>3</td>\n",
       "      <td>25-54</td>\n",
       "      <td>0.63</td>\n",
       "      <td>urban</td>\n",
       "      <td>0.38</td>\n",
       "      <td>referendum</td>\n",
       "      <td>0.54</td>\n",
       "      <td>0.516667</td>\n",
       "    </tr>\n",
       "    <tr>\n",
       "      <th>3</th>\n",
       "      <td>4</td>\n",
       "      <td>65+</td>\n",
       "      <td>0.68</td>\n",
       "      <td>urban</td>\n",
       "      <td>0.38</td>\n",
       "      <td>referendum</td>\n",
       "      <td>0.54</td>\n",
       "      <td>0.533333</td>\n",
       "    </tr>\n",
       "    <tr>\n",
       "      <th>4</th>\n",
       "      <td>5</td>\n",
       "      <td>25-54</td>\n",
       "      <td>0.63</td>\n",
       "      <td>urban</td>\n",
       "      <td>0.38</td>\n",
       "      <td>referendum</td>\n",
       "      <td>0.54</td>\n",
       "      <td>0.516667</td>\n",
       "    </tr>\n",
       "  </tbody>\n",
       "</table>\n",
       "</div>"
      ],
      "text/plain": [
       "   Survey ID Age Group  Age Impact Location  Location Impact Election Type  \\\n",
       "0          1     25-54        0.63    rural             0.72         local   \n",
       "1          2     18-24        0.58    rural             0.72    referendum   \n",
       "2          3     25-54        0.63    urban             0.38    referendum   \n",
       "3          4       65+        0.68    urban             0.38    referendum   \n",
       "4          5     25-54        0.63    urban             0.38    referendum   \n",
       "\n",
       "   Election Impact  Probability Voted  \n",
       "0             0.54           0.630000  \n",
       "1             0.54           0.613333  \n",
       "2             0.54           0.516667  \n",
       "3             0.54           0.533333  \n",
       "4             0.54           0.516667  "
      ]
     },
     "execution_count": 29,
     "metadata": {},
     "output_type": "execute_result"
    }
   ],
   "source": [
    "# Adding another column for Probability Voted, which will be the sum of the 3 impact columns divided by 3\n",
    "df_all_data[\"Probability Voted\"] =  (df_all_data[[\"Age Impact\", \"Location Impact\", \"Election Impact\"]].sum(axis=1)) / 3\n",
    "\n",
    "df_all_data.head()"
   ]
  },
  {
   "cell_type": "code",
   "execution_count": 30,
   "id": "d80d098f-c50a-4b81-86b4-ee3c5b11919b",
   "metadata": {},
   "outputs": [
    {
     "data": {
      "text/html": [
       "<div>\n",
       "<style scoped>\n",
       "    .dataframe tbody tr th:only-of-type {\n",
       "        vertical-align: middle;\n",
       "    }\n",
       "\n",
       "    .dataframe tbody tr th {\n",
       "        vertical-align: top;\n",
       "    }\n",
       "\n",
       "    .dataframe thead th {\n",
       "        text-align: right;\n",
       "    }\n",
       "</style>\n",
       "<table border=\"1\" class=\"dataframe\">\n",
       "  <thead>\n",
       "    <tr style=\"text-align: right;\">\n",
       "      <th></th>\n",
       "      <th>Survey ID</th>\n",
       "      <th>Age Impact</th>\n",
       "      <th>Location Impact</th>\n",
       "      <th>Election Impact</th>\n",
       "      <th>Probability Voted</th>\n",
       "    </tr>\n",
       "  </thead>\n",
       "  <tbody>\n",
       "    <tr>\n",
       "      <th>count</th>\n",
       "      <td>100.000000</td>\n",
       "      <td>100.000000</td>\n",
       "      <td>100.000000</td>\n",
       "      <td>100.000000</td>\n",
       "      <td>100.000000</td>\n",
       "    </tr>\n",
       "    <tr>\n",
       "      <th>mean</th>\n",
       "      <td>50.500000</td>\n",
       "      <td>0.636500</td>\n",
       "      <td>0.499000</td>\n",
       "      <td>0.553600</td>\n",
       "      <td>0.563033</td>\n",
       "    </tr>\n",
       "    <tr>\n",
       "      <th>std</th>\n",
       "      <td>29.011492</td>\n",
       "      <td>0.030695</td>\n",
       "      <td>0.162987</td>\n",
       "      <td>0.050202</td>\n",
       "      <td>0.058190</td>\n",
       "    </tr>\n",
       "    <tr>\n",
       "      <th>min</th>\n",
       "      <td>1.000000</td>\n",
       "      <td>0.580000</td>\n",
       "      <td>0.380000</td>\n",
       "      <td>0.500000</td>\n",
       "      <td>0.486667</td>\n",
       "    </tr>\n",
       "    <tr>\n",
       "      <th>25%</th>\n",
       "      <td>25.750000</td>\n",
       "      <td>0.630000</td>\n",
       "      <td>0.380000</td>\n",
       "      <td>0.540000</td>\n",
       "      <td>0.516667</td>\n",
       "    </tr>\n",
       "    <tr>\n",
       "      <th>50%</th>\n",
       "      <td>50.500000</td>\n",
       "      <td>0.630000</td>\n",
       "      <td>0.380000</td>\n",
       "      <td>0.540000</td>\n",
       "      <td>0.533333</td>\n",
       "    </tr>\n",
       "    <tr>\n",
       "      <th>75%</th>\n",
       "      <td>75.250000</td>\n",
       "      <td>0.680000</td>\n",
       "      <td>0.720000</td>\n",
       "      <td>0.540000</td>\n",
       "      <td>0.630000</td>\n",
       "    </tr>\n",
       "    <tr>\n",
       "      <th>max</th>\n",
       "      <td>100.000000</td>\n",
       "      <td>0.680000</td>\n",
       "      <td>0.720000</td>\n",
       "      <td>0.660000</td>\n",
       "      <td>0.686667</td>\n",
       "    </tr>\n",
       "  </tbody>\n",
       "</table>\n",
       "</div>"
      ],
      "text/plain": [
       "        Survey ID  Age Impact  Location Impact  Election Impact  \\\n",
       "count  100.000000  100.000000       100.000000       100.000000   \n",
       "mean    50.500000    0.636500         0.499000         0.553600   \n",
       "std     29.011492    0.030695         0.162987         0.050202   \n",
       "min      1.000000    0.580000         0.380000         0.500000   \n",
       "25%     25.750000    0.630000         0.380000         0.540000   \n",
       "50%     50.500000    0.630000         0.380000         0.540000   \n",
       "75%     75.250000    0.680000         0.720000         0.540000   \n",
       "max    100.000000    0.680000         0.720000         0.660000   \n",
       "\n",
       "       Probability Voted  \n",
       "count         100.000000  \n",
       "mean            0.563033  \n",
       "std             0.058190  \n",
       "min             0.486667  \n",
       "25%             0.516667  \n",
       "50%             0.533333  \n",
       "75%             0.630000  \n",
       "max             0.686667  "
      ]
     },
     "execution_count": 30,
     "metadata": {},
     "output_type": "execute_result"
    }
   ],
   "source": [
    "# Using describe to get a general overview of the dataframe\n",
    "df_all_data.describe()"
   ]
  },
  {
   "cell_type": "code",
   "execution_count": 31,
   "id": "34d61c8d-1331-41b9-8684-174f6fc5c9bb",
   "metadata": {},
   "outputs": [],
   "source": [
    "# Converting this column into a numpy array so I can perform some .random operations on it\n",
    "prob_array = df_all_data[[\"Probability Voted\"]].to_numpy() \n",
    "\n",
    "# Setting variables for voted and abstained & creating a list for use in random function below\n",
    "voted = 1\n",
    "abstained = 0\n",
    "voters = []\n",
    "\n",
    "# Using random.binomial again as I can only have 2 outcomes, with p = probability in array above\n",
    "for i in prob_array:\n",
    "    voters.append(np.random.binomial(voted, p=i, size=1))\n",
    "\n",
    "# Making final list with string values based on these values\n",
    "voted = []\n",
    "for i in voters:\n",
    "    if i == 0:\n",
    "        voted.append(\"abstained\")\n",
    "    else: \n",
    "        voted.append(\"voted\")"
   ]
  },
  {
   "cell_type": "code",
   "execution_count": 32,
   "id": "3c53fda7-52ab-4788-9bad-92d55b22acf2",
   "metadata": {},
   "outputs": [],
   "source": [
    "# Adding this new list into a dataframe\n",
    "df_voted = pd.DataFrame(voted, columns = [\"Voted/Abstained\"])\n",
    "\n",
    "df_new = pd.concat([df_all_data, df_voted], axis=1)"
   ]
  },
  {
   "cell_type": "markdown",
   "id": "9fa8c4d6-3281-477c-a742-fd44e7ebe996",
   "metadata": {},
   "source": [
    "<br>"
   ]
  },
  {
   "cell_type": "markdown",
   "id": "df684e8d-f270-47c1-95b1-a3c1ee7b3cec",
   "metadata": {},
   "source": [
    "### Simulating the Final Dataset\n",
    "***"
   ]
  },
  {
   "cell_type": "markdown",
   "id": "2e726658-2bac-4966-82b1-07059904a6c5",
   "metadata": {},
   "source": [
    "Finally, we can simulate the final dataset by creating a new dataframe with just the columns we are interested in. "
   ]
  },
  {
   "cell_type": "code",
   "execution_count": 33,
   "id": "5758f90d-cb23-441a-8adb-bf8a5074ddd2",
   "metadata": {},
   "outputs": [
    {
     "data": {
      "text/html": [
       "<div>\n",
       "<style scoped>\n",
       "    .dataframe tbody tr th:only-of-type {\n",
       "        vertical-align: middle;\n",
       "    }\n",
       "\n",
       "    .dataframe tbody tr th {\n",
       "        vertical-align: top;\n",
       "    }\n",
       "\n",
       "    .dataframe thead th {\n",
       "        text-align: right;\n",
       "    }\n",
       "</style>\n",
       "<table border=\"1\" class=\"dataframe\">\n",
       "  <thead>\n",
       "    <tr style=\"text-align: right;\">\n",
       "      <th></th>\n",
       "      <th>Age Group</th>\n",
       "      <th>Location</th>\n",
       "      <th>Election Type</th>\n",
       "      <th>Voted/Abstained</th>\n",
       "    </tr>\n",
       "    <tr>\n",
       "      <th>Survey ID</th>\n",
       "      <th></th>\n",
       "      <th></th>\n",
       "      <th></th>\n",
       "      <th></th>\n",
       "    </tr>\n",
       "  </thead>\n",
       "  <tbody>\n",
       "    <tr>\n",
       "      <th>1</th>\n",
       "      <td>25-54</td>\n",
       "      <td>rural</td>\n",
       "      <td>local</td>\n",
       "      <td>voted</td>\n",
       "    </tr>\n",
       "    <tr>\n",
       "      <th>2</th>\n",
       "      <td>18-24</td>\n",
       "      <td>rural</td>\n",
       "      <td>referendum</td>\n",
       "      <td>voted</td>\n",
       "    </tr>\n",
       "    <tr>\n",
       "      <th>3</th>\n",
       "      <td>25-54</td>\n",
       "      <td>urban</td>\n",
       "      <td>referendum</td>\n",
       "      <td>abstained</td>\n",
       "    </tr>\n",
       "    <tr>\n",
       "      <th>4</th>\n",
       "      <td>65+</td>\n",
       "      <td>urban</td>\n",
       "      <td>referendum</td>\n",
       "      <td>voted</td>\n",
       "    </tr>\n",
       "    <tr>\n",
       "      <th>5</th>\n",
       "      <td>25-54</td>\n",
       "      <td>urban</td>\n",
       "      <td>referendum</td>\n",
       "      <td>abstained</td>\n",
       "    </tr>\n",
       "    <tr>\n",
       "      <th>...</th>\n",
       "      <td>...</td>\n",
       "      <td>...</td>\n",
       "      <td>...</td>\n",
       "      <td>...</td>\n",
       "    </tr>\n",
       "    <tr>\n",
       "      <th>96</th>\n",
       "      <td>25-54</td>\n",
       "      <td>urban</td>\n",
       "      <td>general</td>\n",
       "      <td>voted</td>\n",
       "    </tr>\n",
       "    <tr>\n",
       "      <th>97</th>\n",
       "      <td>55-64</td>\n",
       "      <td>urban</td>\n",
       "      <td>european</td>\n",
       "      <td>voted</td>\n",
       "    </tr>\n",
       "    <tr>\n",
       "      <th>98</th>\n",
       "      <td>25-54</td>\n",
       "      <td>urban</td>\n",
       "      <td>referendum</td>\n",
       "      <td>voted</td>\n",
       "    </tr>\n",
       "    <tr>\n",
       "      <th>99</th>\n",
       "      <td>25-54</td>\n",
       "      <td>rural</td>\n",
       "      <td>presidential</td>\n",
       "      <td>voted</td>\n",
       "    </tr>\n",
       "    <tr>\n",
       "      <th>100</th>\n",
       "      <td>25-54</td>\n",
       "      <td>rural</td>\n",
       "      <td>referendum</td>\n",
       "      <td>voted</td>\n",
       "    </tr>\n",
       "  </tbody>\n",
       "</table>\n",
       "<p>100 rows × 4 columns</p>\n",
       "</div>"
      ],
      "text/plain": [
       "          Age Group Location Election Type Voted/Abstained\n",
       "Survey ID                                                 \n",
       "1             25-54    rural         local           voted\n",
       "2             18-24    rural    referendum           voted\n",
       "3             25-54    urban    referendum       abstained\n",
       "4               65+    urban    referendum           voted\n",
       "5             25-54    urban    referendum       abstained\n",
       "...             ...      ...           ...             ...\n",
       "96            25-54    urban       general           voted\n",
       "97            55-64    urban      european           voted\n",
       "98            25-54    urban    referendum           voted\n",
       "99            25-54    rural  presidential           voted\n",
       "100           25-54    rural    referendum           voted\n",
       "\n",
       "[100 rows x 4 columns]"
      ]
     },
     "execution_count": 33,
     "metadata": {},
     "output_type": "execute_result"
    }
   ],
   "source": [
    "df_dataset = df_new[[\"Survey ID\", \"Age Group\", \"Location\", \"Election Type\", \"Voted/Abstained\"]]\n",
    "\n",
    "# Setting Survey ID as the index\n",
    "df_dataset.set_index([\"Survey ID\"], inplace = True)\n",
    "\n",
    "df_dataset"
   ]
  },
  {
   "cell_type": "markdown",
   "id": "47e49a3a-2766-41d1-baa0-7ba267d7ab8f",
   "metadata": {},
   "source": [
    "<br>"
   ]
  },
  {
   "cell_type": "markdown",
   "id": "f0008e04-9a63-4dbb-86ae-5daed3358ffd",
   "metadata": {},
   "source": [
    "### References & Data Sources  \n",
    "***\n"
   ]
  },
  {
   "cell_type": "markdown",
   "id": "ad8f8ff5-911b-489e-b19a-3a8298fedeb6",
   "metadata": {},
   "source": [
    "[1] https://adriankavanaghelections.org/  \n",
    "[2] https://www.britishelectionstudy.com/bes-findings/age-and-voting-behaviour-at-the-2019-general-election/#.Yc8q3mjP02w  \n",
    "[3] https://www.census.gov/library/stories/2021/04/record-high-turnout-in-2020-general-election.html  \n",
    "[4] https://www.cso.ie/en/csolatestnews/pressreleases/2006pressreleases/reportonvitalstatistics2004/  \n",
    "[5] https://www.cso.ie/en/csolatestnews/pressreleases/2008pressreleases/reportonvitalstatistics2005/  \n",
    "[6] https://www.cso.ie/en/csolatestnews/pressreleases/2009pressreleases/reportonvitalstatistics2006/  \n",
    "[7] https://www.cso.ie/en/qnhs/qnhsmethodology/voterregistrationandparticipationmodule/  \n",
    "[8] https://data.oireachtas.ie/ie/oireachtas/libraryResearch/2016/2016-01-28_l-rs-note-election-turnout-in-ireland-measurement-trends-and-policy-implications_en.pdf  \n",
    "[9] https://www.europarl.europa.eu/election-results-2019/en/turnout/  \n",
    "[10] https://www.europeanmovement.ie/irish-general-election-february-2020/  \n",
    "[11] https://www.fairvote.org/what_affects_voter_turnout_rates  \n",
    "[12] https://www.geeksforgeeks.org/create-a-pandas-dataframe-from-lists/  \n",
    "[13] https://www.idea.int/data-tools/country-view/143/40  \n",
    "[14] https://www.independent.ie/irish-news/abortion-referendum/abortion-referendum-turn-out-is-third-highest-ever-for-a-referendum-in-ireland-36949137.html  \n",
    "[15] https://www.indexmundi.com/ireland/demographics_profile.html  \n",
    "[16] https://www.ipa.ie/_fileUpload/Documents/LA_Times_Summer_2019.pdf  \n",
    "[17] https://www.irishtimes.com/news/politics/urban-rural-divide-among-voters-made-clear-by-turnout-figures-1.1553322  \n",
    "[18] https://www.maynoothuniversity.ie/research/spotlight-research/getting-out-vote-what-influences-voter-turnout  \n",
    "[19] https://numpy.org/doc/stable/reference/random/generated/numpy.random.binomial.html  \n",
    "[20] https://ourworldindata.org/age-structure  \n",
    "[21] https://pandas.pydata.org/pandas-docs/stable/user_guide/merging.html  \n",
    "[22] https://python-course.eu/numerical-programming/weighted-probabilities.php  \n",
    "[23] https://pythonexamples.org/pandas-set-column-as-index/#2  \n",
    "[24] https://www.refcom.ie/previous-referendums/  \n",
    "[25] https://www.researchgate.net/publication/228215776_What_Affects_Voter_Turnout  \n",
    "[26] https://www.researchgate.net/publication/253829692_The_geography_of_Irish_voter_turnout_A_case_study_of_the_2002_general_election  \n",
    "[27] https://www.rte.ie/brainstorm/2018/1019/1005247-voter-turnout-elections-ireland/  \n",
    "[28] https://www.rte.ie/news/2019/0526/1051741-divorce-referendum/  \n",
    "[29] https://www.rte.ie/news/elections-2019/results/#/local  \n",
    "[30] https://stackoverflow.com/questions/34023918/make-new-column-in-panda-dataframe-by-adding-values-from-other-columns/42634214  \n",
    "[31] https://www.statista.com/statistics/710767/irish-population-by-age/  \n",
    "[32] https://www.tcd.ie/Political_Science/people/michael_gallagher/Election2016.php  \n",
    "[33] https://towardsdatascience.com/bernoulli-and-binomial-random-variables-d0698288dd36  \n",
    "[34] https://tradingeconomics.com/ireland/rural-population-percent-of-total-population-wb-data.html  \n",
    "[35] https://www.thejournal.ie/low-turnout-presidential-election-4309871-Oct2018/  \n",
    "[36] https://towardsdatascience.com/building-a-logistic-regression-in-python-step-by-step-becd4d56c9c8  "
   ]
  },
  {
   "cell_type": "markdown",
   "id": "cbda8d5d-e517-4b5c-acaf-4a40ee8e24da",
   "metadata": {},
   "source": [
    "<br>"
   ]
  },
  {
   "cell_type": "markdown",
   "id": "93ed92aa-ac62-4a8c-86d7-288933cb5749",
   "metadata": {},
   "source": [
    "# End\n",
    "***"
   ]
  }
 ],
 "metadata": {
  "kernelspec": {
   "display_name": "Python 3",
   "language": "python",
   "name": "python3"
  },
  "language_info": {
   "codemirror_mode": {
    "name": "ipython",
    "version": 3
   },
   "file_extension": ".py",
   "mimetype": "text/x-python",
   "name": "python",
   "nbconvert_exporter": "python",
   "pygments_lexer": "ipython3",
   "version": "3.8.8"
  }
 },
 "nbformat": 4,
 "nbformat_minor": 5
}
