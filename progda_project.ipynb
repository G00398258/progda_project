{
 "cells": [
  {
   "cell_type": "markdown",
   "id": "a222a140-ed6e-47e4-8947-14565331ff9c",
   "metadata": {},
   "source": [
    "# Programming for Data Analysis - Project\n",
    "***"
   ]
  },
  {
   "cell_type": "markdown",
   "id": "9dbb7ce4-ecae-49f0-b986-48daea24b77c",
   "metadata": {},
   "source": [
    "This notebook will contain my submission for the project piece of the assessment in the Programming for Data Analysis module, Winter 2021."
   ]
  },
  {
   "cell_type": "markdown",
   "id": "4ec0d75b-adee-4113-a997-31d0c9e4dd51",
   "metadata": {},
   "source": [
    "<br>"
   ]
  },
  {
   "cell_type": "markdown",
   "id": "a259b16d-c5ca-4ed2-b71c-22822e910a99",
   "metadata": {},
   "source": [
    "### Modules Required\n",
    "***"
   ]
  },
  {
   "cell_type": "code",
   "execution_count": 9,
   "id": "47fa8626-874e-41dd-82e6-402e28ff74d8",
   "metadata": {},
   "outputs": [],
   "source": [
    "# NumPy for numerical operations\n",
    "import numpy as np\n",
    "\n",
    "# Statistics\n",
    "import statistics"
   ]
  },
  {
   "cell_type": "markdown",
   "id": "2f4887e2-16c9-4e0a-b7b6-d24891aa8762",
   "metadata": {},
   "source": [
    "<br>"
   ]
  },
  {
   "cell_type": "markdown",
   "id": "5b1e4f8b-1347-47de-9fdd-f89866583cc8",
   "metadata": {},
   "source": [
    "### Problem Statement\n",
    "***"
   ]
  },
  {
   "cell_type": "markdown",
   "id": "7d288433-be34-48b1-bd1f-496c4aafd552",
   "metadata": {},
   "source": [
    "For this project you must create a data set by simulating a real-world phenomenon of\n",
    "your choosing. You may pick any phenomenon you wish – you might pick one that is\n",
    "of interest to you in your personal or professional life. Then, rather than collect data\n",
    "related to the phenomenon, you should model and synthesise such data using Python.\n",
    "We suggest you use the numpy.random package for this purpose."
   ]
  },
  {
   "cell_type": "markdown",
   "id": "ad84a33e-d5d5-472f-a88b-70a979317525",
   "metadata": {},
   "source": [
    "<br>"
   ]
  },
  {
   "cell_type": "markdown",
   "id": "a3be862f-44ca-48b1-ab7f-de3f75873be3",
   "metadata": {},
   "source": [
    "### Ideas\n",
    "***"
   ]
  },
  {
   "cell_type": "markdown",
   "id": "c6673a5b-4ad9-4874-b3a4-b517e8497b81",
   "metadata": {},
   "source": [
    "1. Covid hospital admissions with variables gender, age, vaccination status, underlying health condition"
   ]
  },
  {
   "cell_type": "markdown",
   "id": "d92c3869-1d3e-4b39-bd62-12d956ff515c",
   "metadata": {},
   "source": [
    "2. Voter turnout with possible variables age, socio-economic status, family history of voting, proximity to polling station, day of voting, political mobilisation, type of election, compulsory voting"
   ]
  },
  {
   "cell_type": "markdown",
   "id": "4a726e81-85ff-4e99-8040-7d72e5313331",
   "metadata": {},
   "source": [
    "<br>"
   ]
  },
  {
   "cell_type": "markdown",
   "id": "d10ffeb9-187e-4217-b7f2-1c8b7ce17e7a",
   "metadata": {},
   "source": [
    "### Intention & Scope\n",
    "***"
   ]
  },
  {
   "cell_type": "markdown",
   "id": "073f7d9e-4a30-4114-8cac-7c4d475cac3d",
   "metadata": {},
   "source": [
    "Simulate a dataset showing the results of whether a person on the register of electors chooses to exercise their right to vote in a general or local election in Ireland. (Note: referendums and European elections are excluded, as British and other non-EU citizens resident in Ireland are excluded from voting, resulting in some people on the register of elector being ineligible to vote in those elections.)"
   ]
  },
  {
   "cell_type": "markdown",
   "id": "e1008a62-6a9d-4135-9ebd-dc7d2f5f6346",
   "metadata": {},
   "source": [
    "<br>"
   ]
  },
  {
   "cell_type": "markdown",
   "id": "bd0e2295-2f7f-4b89-aec1-f99169aa7054",
   "metadata": {},
   "source": [
    "### Variables to Investigate\n",
    "***"
   ]
  },
  {
   "cell_type": "markdown",
   "id": "efd03618-775a-49b2-8296-36e5176dbbf6",
   "metadata": {},
   "source": [
    "Main point to investigate: whether a person votes in a particular election or not"
   ]
  },
  {
   "cell_type": "markdown",
   "id": "c90c33e6-2e3c-40da-895c-a306020b75ba",
   "metadata": {},
   "source": [
    "Other variables to investigate:  \n",
    "\n",
    "- age of citizen  \n",
    "- socio-economic status  \n",
    "- type of election  \n",
    "-  proximity to polling station  \n",
    "- family history of voting  \n"
   ]
  },
  {
   "cell_type": "markdown",
   "id": "039629e2-9783-4038-9b67-f8a6b51c5115",
   "metadata": {},
   "source": [
    "<br>"
   ]
  },
  {
   "cell_type": "markdown",
   "id": "a77ae7c2-d5bb-422e-9a31-fed8f0722629",
   "metadata": {},
   "source": [
    "### Investigating Voter Turnout in Ireland\n",
    "***"
   ]
  },
  {
   "cell_type": "markdown",
   "id": "fd6534db-c0a9-4300-874d-998ccc689ea2",
   "metadata": {},
   "source": [
    "From data.oireachtais.ie - Turnout amongst the 18-25 age groups is lower than average in most European countries.\n",
    "Cross-national data from the European Social Survey, analysed by political scientist James\n",
    "Sloam, found that average reported turnout since 2000 in 30 Europe countries among the\n",
    "18-25 age category was 59% compared with 82% reported turnout amongst the population\n",
    "as a whole. The Survey also found that there is a strong socio-economic dynamic to this\n",
    "pattern: young people with low levels of educational achievement who are eligible to vote do\n",
    "so in ‘alarmingly small numbers’ (average of 25% since across the 15 European States).... higher turnout has tended to be associated with middle class areas and lower turnouts with working class areas for general elections up to 2002.... very high turnout levels were associated with mainly middle class\n",
    "and mainly settled areas (that is experiencing relatively little population in migration\n",
    "compared with other parts of the city). He also found that turnout was, relatively speaking,\n",
    "higher in older working class communities which tend to be settled. A key determent of turnout, perhaps equally important to the socio-economic background of an area, appears to\n",
    "be the extent to which an area is ‘settled’ or experiences regular population change. "
   ]
  },
  {
   "cell_type": "markdown",
   "id": "dfc53901-741c-4fd2-a9fd-7274d2f94e76",
   "metadata": {},
   "source": [
    "A downward trend in turnout at local elections is clear regardless of which measure is\n",
    "used. Over the period from 1967 to 1999 turnout fell from 67 per cent to 50 per cent\n",
    "(REG). This trend was reversed in 2004, when an official turnout of 59% was\n",
    "recorded, a level almost maintained in 2009 (58 % turnout).\n",
    "15 However, in 2014, turnout dropped back to 51.6%, the second lowest official turnout level in Irish local\n",
    "elections...turnout in local elections has tended to be higher in rural areas, the 2014 local elections saw a narrowing of this urban-rural difference..."
   ]
  },
  {
   "cell_type": "markdown",
   "id": "c06c002b-7651-4d61-aa62-00b3fe3c4a13",
   "metadata": {},
   "source": [
    "Year Subject Turnout Result\n",
    "1937 Draft Constitution 75.8% Yes\n",
    "1959 PR 58.4% No\n",
    "1968 Redrawing of constituencies 65.8% No\n",
    "1968 Constituencies 65.8% No\n",
    "1972 Accession to the EC 70.9% Yes\n",
    "1972 Reducing voting age to 18 50.7% Yes\n",
    "1972 Recognition of specified religions 50.7% Yes\n",
    "1979 Adoption 28.6% Yes\n",
    "1979 University representation in Seanad 28.6% Yes\n",
    "1983 Right to life of unborn 53.7% Yes\n",
    "1984 Extension of voting rights at Dáil elections 47.5% Yes\n",
    "1986 Dissolution of marriage 60.8% No\n",
    "1987 Single European Act 44.1% Yes\n",
    "1992 Maastricht Treaty 57.3% Yes\n",
    "1992 Right to life of unborn 68.2% No\n",
    "1992 Right to travel 68.2% Yes\n",
    "1992 Right to information 68.1% Yes\n",
    "1995 Dissolution of marriage 62.1% Yes\n",
    "1996 Bail 29.2% Yes\n",
    "1997 Cabinet confidentiality 47.2% Yes\n",
    "1998 Amsterdam Treaty 56.2% Yes\n",
    "1998 British-Irish Agreement 56.2% Yes\n",
    "1999 Local government 51.1% Yes\n",
    "2001 Death penalty 34.8% Yes\n",
    "2001 International Criminal Court 34.8% Yes\n",
    "2001 Treaty of Nice 34.8% No\n",
    "2002 Protection of life in pregnancy 42.8% No\n",
    "2002 Treaty of Nice 49.5% Yes\n",
    "2004 Citizenship 59.9% Yes\n",
    "2008 Lisbon Treaty 53.1% No\n",
    "2009 Lisbon Treaty 59.0% Yes\n",
    "2011 Judges' remuneration 55.9% Yes\n",
    "2011 Oireachtas inquiries 55.9% No\n",
    "2012 Stability EMU 50.60% Yes\n",
    "2012 Children 33.50% Yes\n",
    "2013 Seanad abolition 39.2% No\n",
    "2013 Court of Appeal 39.2% Yes\n",
    "2015 Marriage equality 60.5% Yes\n",
    "2015 Age of eligibility to be President 60.5% No "
   ]
  },
  {
   "cell_type": "markdown",
   "id": "97b7bc75-2fe3-4e6b-b31e-ff078f4ebcc2",
   "metadata": {},
   "source": [
    "Note that the eligible voting population for Referendums is smaller in size than that for\n",
    "General Elections as it excludes British citizens resident in Ireland. Yet turnout (REG) is\n",
    "reported as a proportion of the number of voters on the electoral register for general\n",
    "elections. Actual turnout is therefore always some percentage points higher than reported\n",
    "turnout... volatility in the level of turnout at referendums which has ranged from 28.6%\n",
    "in the 1979 referendum on adoption rights and Seanad university representation to\n",
    "75.8% in the 1937 referendum on the Constitution.\n",
    " Research into the reasons for abstaining in referendums, considered in more detail in\n",
    "Section 6, suggests that the perceived saliency and profile of the issue affects this\n",
    "decision with referendums on moral issues and some European issues frequently\n",
    "having higher turnout..."
   ]
  },
  {
   "cell_type": "markdown",
   "id": "1c734478-957e-4cbe-88e6-e277eb3d59db",
   "metadata": {},
   "source": [
    "turnout is lowest amongst students and the\n",
    "unemployed...In referendums, post-poll surveys undertaken by the Referendum Commission suggests\n",
    "that non-voters are circumstantial or voluntary (lack of interest) in equal numbers. A\n",
    "substantial category of non-voters also cite ‘lack of/insufficient understanding’ which, while\n",
    "slightly different to ‘lack of interest,’ also fits into the intentional rather than the circumstantial\n",
    "category. The Commission has found a direct relationship between the level of\n",
    "understanding of the referendum proposal, and the propensity to vote..."
   ]
  },
  {
   "cell_type": "markdown",
   "id": "fa8e44ec-5892-4852-905a-343a24df41f4",
   "metadata": {},
   "source": [
    "### Data for variable: overall turnout  \n",
    "***"
   ]
  },
  {
   "cell_type": "markdown",
   "id": "5c631dd7-d1c1-4d8f-b207-e00ab786c7a4",
   "metadata": {},
   "source": [
    "Observations: steadily downward trend across turnout in both general and local elections.  "
   ]
  },
  {
   "cell_type": "markdown",
   "id": "1adfdac0-0e03-4af4-a27a-f3db55c25906",
   "metadata": {},
   "source": [
    "**Turnout at general elections**  \n",
    "1981 76%  \n",
    "1982 73%  \n",
    "1987 73%  \n",
    "1989 69%  \n",
    "1992 68%  \n",
    "1997 66%  \n",
    "2002 63%  \n",
    "2007 67%  \n",
    "2011 70%  \n",
    "2016 64.5%  \n",
    "2020 62.9%  \n",
    "\n",
    "*Ref:* European movement & data oireachtais"
   ]
  },
  {
   "cell_type": "code",
   "execution_count": 16,
   "id": "95d87e90-504c-4ed5-a6af-9d5316ee1ced",
   "metadata": {},
   "outputs": [
    {
     "name": "stdout",
     "output_type": "stream",
     "text": [
      "The average voter turnout in the last 10 general elections was 67.64 %\n"
     ]
    }
   ],
   "source": [
    "# Calculating the mean turnout in the last 10 Irish general elections\n",
    "gen_results = (73, 73, 69, 68, 66, 63, 67, 70, 64.5, 62.9)\n",
    "ave_gen_results = statistics.mean(gen_results)\n",
    "print (\"The average voter turnout in the last 10 general elections was\", ave_gen_results,\"%\")"
   ]
  },
  {
   "cell_type": "markdown",
   "id": "bab0a03a-aaf8-4455-94d0-38cd1bd489ee",
   "metadata": {},
   "source": [
    "**Turnout at local elections**  \n",
    "1967 67%  \n",
    "1974 62.1%  \n",
    "1979 63.6%  \n",
    "1985 59%  \n",
    "1991 55.6%  \n",
    "1999 50.2%  \n",
    "2004 58.6%    \n",
    "2009 57.8%  \n",
    "2014 51.7%  \n",
    "2019 50.2%  \n",
    "\n",
    "*Ref:* RTE & data oireachtais\n"
   ]
  },
  {
   "cell_type": "code",
   "execution_count": 17,
   "id": "20b6cf5b-984e-4362-8810-c448747b08a7",
   "metadata": {},
   "outputs": [
    {
     "name": "stdout",
     "output_type": "stream",
     "text": [
      "The average voter turnout in the last 10 local elections was 57.58 %\n"
     ]
    }
   ],
   "source": [
    "# Calculating the average turnout in the last 10 Irish local elections\n",
    "loc_results = (67, 62.1, 63.6, 59, 55.6, 50.2, 58.6, 57.8, 51.7, 50.2)\n",
    "ave_loc_results = statistics.mean(loc_results)\n",
    "print (\"The average voter turnout in the last 10 local elections was\", ave_loc_results,\"%\")"
   ]
  },
  {
   "cell_type": "markdown",
   "id": "d8f99559-1cac-4ab8-a0db-cbfc2305be9d",
   "metadata": {},
   "source": [
    "<br>"
   ]
  },
  {
   "cell_type": "markdown",
   "id": "45ce9e66-9655-4c91-8e2a-0091721cb741",
   "metadata": {},
   "source": [
    "### Data for variable: voter turnout in different age groups\n",
    "***"
   ]
  },
  {
   "cell_type": "markdown",
   "id": "745b20a2-a999-4c5a-a130-8eb403cce0d6",
   "metadata": {},
   "source": [
    "**Voter turnout in 18-25 age group**  \n",
    "2002 53.3% vs. 76.3% across all ages  \n",
    "2007 69.2% vs. 79.2%  \n",
    "2011 75.4% vs. 89.7%  \n",
    "\n",
    "average reported turnout since 2000 in 30 Europe countries among the 18-25 age category was 59% compared with 82% reported turnout amongst the population as a whole\n",
    "\n",
    "*Ref:* Data oireachtais"
   ]
  },
  {
   "cell_type": "code",
   "execution_count": null,
   "id": "e28f59d3-b458-4896-a353-021428d6c5ff",
   "metadata": {},
   "outputs": [],
   "source": []
  },
  {
   "cell_type": "markdown",
   "id": "c1246c2c-52c7-4fa1-a4fa-6b0df8ff1daf",
   "metadata": {},
   "source": [
    "<BR>"
   ]
  },
  {
   "cell_type": "markdown",
   "id": "b8e96a20-0d05-470f-8b13-eb5757f430c1",
   "metadata": {},
   "source": [
    "### Data for variable: type of election\n",
    "***"
   ]
  },
  {
   "cell_type": "markdown",
   "id": "7b02fb98-904a-42c8-82b3-406f0d1b5975",
   "metadata": {},
   "source": [
    "Only two options - General Election or Local Election,  \n",
    "In the last 40 years, there have been 11 general elections in the history of the state compared with just 7 local elections. Therefore the ratio of local elections to general elections is 1 : 1.57, and 61.1% of the last 18 elections in Ireland were General Elections, while 38.9% were local elections.  "
   ]
  },
  {
   "cell_type": "code",
   "execution_count": 21,
   "id": "6165342b-0779-4023-87c3-da03e104fb26",
   "metadata": {},
   "outputs": [
    {
     "data": {
      "text/plain": [
       "array(['loc', 'gen', 'gen', 'loc', 'gen', 'gen', 'gen', 'gen', 'gen',\n",
       "       'gen', 'gen', 'loc', 'gen', 'gen', 'loc', 'gen', 'loc', 'gen',\n",
       "       'loc', 'gen', 'gen', 'gen', 'gen', 'loc', 'gen', 'loc', 'gen',\n",
       "       'loc', 'gen', 'gen', 'gen', 'gen', 'gen', 'gen', 'gen', 'gen',\n",
       "       'gen', 'loc', 'loc', 'gen', 'gen', 'gen', 'loc', 'gen', 'gen',\n",
       "       'loc', 'loc', 'gen', 'gen', 'gen', 'loc', 'loc', 'loc', 'gen',\n",
       "       'loc', 'gen', 'gen', 'gen', 'gen', 'gen', 'loc', 'gen', 'loc',\n",
       "       'gen', 'loc', 'loc', 'loc', 'gen', 'loc', 'gen', 'loc', 'loc',\n",
       "       'gen', 'loc', 'gen', 'loc', 'gen', 'gen', 'loc', 'loc', 'gen',\n",
       "       'gen', 'gen', 'gen', 'gen', 'gen', 'gen', 'gen', 'gen', 'gen',\n",
       "       'loc', 'loc', 'gen', 'gen', 'gen', 'loc', 'gen', 'gen', 'loc',\n",
       "       'loc'], dtype='<U3')"
      ]
     },
     "execution_count": 21,
     "metadata": {},
     "output_type": "execute_result"
    }
   ],
   "source": [
    "# Lets generste an array of election types using the probability discussed above\n",
    "np.random.choice([\"gen\", \"loc\"], size=(100,), p=[0.61, 0.39])"
   ]
  },
  {
   "cell_type": "markdown",
   "id": "95cc07cd-27a7-4983-be37-438b1938517d",
   "metadata": {},
   "source": [
    "<br>"
   ]
  },
  {
   "cell_type": "markdown",
   "id": "f0008e04-9a63-4dbb-86ae-5daed3358ffd",
   "metadata": {},
   "source": [
    "### References\n",
    "***\n"
   ]
  },
  {
   "cell_type": "markdown",
   "id": "8fdba611-aa08-4b2b-9377-98abcd3cfeb4",
   "metadata": {},
   "source": [
    "[] https://adriankavanaghelections.org/  "
   ]
  },
  {
   "cell_type": "markdown",
   "id": "643a75d4-9073-44fc-ae7c-4034ba388983",
   "metadata": {},
   "source": [
    "[] https://www.cso.ie/en/qnhs/qnhsmethodology/voterregistrationandparticipationmodule/"
   ]
  },
  {
   "cell_type": "markdown",
   "id": "ad355da5-0607-4f0b-a372-089753c7ec54",
   "metadata": {},
   "source": [
    "[] https://data.oireachtas.ie/ie/oireachtas/libraryResearch/2016/2016-01-28_l-rs-note-election-turnout-in-ireland-measurement-trends-and-policy-implications_en.pdf"
   ]
  },
  {
   "cell_type": "markdown",
   "id": "ac920383-4ac2-49e6-8297-e73b8409c0b0",
   "metadata": {},
   "source": [
    "[] https://www.europeanmovement.ie/irish-general-election-february-2020/  "
   ]
  },
  {
   "cell_type": "markdown",
   "id": "f3a1baf8-6760-4464-918d-3c6d73098925",
   "metadata": {},
   "source": [
    "[] https://www.fairvote.org/what_affects_voter_turnout_rates"
   ]
  },
  {
   "cell_type": "markdown",
   "id": "d1ee4545-cef7-43e6-bba9-49698f06cb9e",
   "metadata": {},
   "source": [
    "[] https://www.ipa.ie/_fileUpload/Documents/LA_Times_Summer_2019.pdf  "
   ]
  },
  {
   "cell_type": "markdown",
   "id": "a98eb29a-16ed-4930-b904-2c60289cb89e",
   "metadata": {},
   "source": [
    "[] https://www.maynoothuniversity.ie/research/spotlight-research/getting-out-vote-what-influences-voter-turnout"
   ]
  },
  {
   "cell_type": "markdown",
   "id": "80460fee-2b2b-4d35-bbfb-159ff886d2e6",
   "metadata": {},
   "source": [
    "[] https://python-course.eu/numerical-programming/weighted-probabilities.php  "
   ]
  },
  {
   "cell_type": "markdown",
   "id": "24de3607-5103-4ac0-a0b4-1423992abc87",
   "metadata": {},
   "source": [
    "[] https://www.researchgate.net/publication/228215776_What_Affects_Voter_Turnout"
   ]
  },
  {
   "cell_type": "markdown",
   "id": "8e5580dd-ceee-438a-9b04-e3b8ed578f46",
   "metadata": {},
   "source": [
    "[] https://www.rte.ie/news/elections-2019/results/#/local  "
   ]
  },
  {
   "cell_type": "markdown",
   "id": "0b3360e3-b1b9-49d8-8988-f70e601a2411",
   "metadata": {},
   "source": [
    "[] https://www.tcd.ie/Political_Science/people/michael_gallagher/Election2016.php  "
   ]
  },
  {
   "cell_type": "markdown",
   "id": "365e5eee-7b0e-4a49-bc68-98898be4f293",
   "metadata": {},
   "source": [
    "[] https://towardsdatascience.com/building-a-logistic-regression-in-python-step-by-step-becd4d56c9c8  "
   ]
  },
  {
   "cell_type": "code",
   "execution_count": null,
   "id": "3ed243a9-4418-4766-9e4e-7023ec450d1d",
   "metadata": {},
   "outputs": [],
   "source": []
  }
 ],
 "metadata": {
  "kernelspec": {
   "display_name": "Python 3",
   "language": "python",
   "name": "python3"
  },
  "language_info": {
   "codemirror_mode": {
    "name": "ipython",
    "version": 3
   },
   "file_extension": ".py",
   "mimetype": "text/x-python",
   "name": "python",
   "nbconvert_exporter": "python",
   "pygments_lexer": "ipython3",
   "version": "3.8.8"
  }
 },
 "nbformat": 4,
 "nbformat_minor": 5
}
